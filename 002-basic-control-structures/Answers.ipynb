{
 "cells": [
  {
   "cell_type": "markdown",
   "id": "5db4ea72",
   "metadata": {},
   "source": [
    "# 002: Basic Control Structures"
   ]
  },
  {
   "cell_type": "markdown",
   "id": "67a80e4b",
   "metadata": {},
   "source": [
    "## Strung together"
   ]
  },
  {
   "cell_type": "code",
   "execution_count": null,
   "id": "5c82c39d",
   "metadata": {},
   "outputs": [],
   "source": [
    "def dict_to_string_map(dictionary):\n",
    "    new_dictionary = {}\n",
    "    \n",
    "    for key, value in dictionary.items():\n",
    "        new_key = str(key).upper()\n",
    "        new_dictionary[new_key] = value\n",
    "    \n",
    "    return new_dictionary\n",
    "\n",
    "my_new_dictionary = dict_to_string_map(my_meetup_dot_com_profile)\n",
    "my_new_dictionary"
   ]
  },
  {
   "cell_type": "code",
   "execution_count": null,
   "id": "92953c8a",
   "metadata": {},
   "outputs": [],
   "source": [
    "def dict_to_string_map(dct):\n",
    "    new_dct = {}\n",
    "    \n",
    "    for key, value in dct.items():\n",
    "        if type(value) is list:\n",
    "            new_dct[key] = ', '.join(value)\n",
    "        else:\n",
    "            new_dct[key] = str(value)\n",
    "    \n",
    "    return new_dct\n",
    "\n",
    "dict_to_string_map(my_meetup_dot_com_profile)"
   ]
  },
  {
   "cell_type": "markdown",
   "id": "02f31524",
   "metadata": {},
   "source": [
    "## Zipping Up"
   ]
  },
  {
   "cell_type": "code",
   "execution_count": null,
   "id": "7a8e5af9",
   "metadata": {},
   "outputs": [],
   "source": [
    "# Loop through them to make a dictionary, where the first list is the keys,\n",
    "# and the second list is the values.\n",
    "# You might want to make this into a function where the first argument is\n",
    "# the first list, and the second argument is the second list\n",
    "def zip_two_lists(key_list, value_list):\n",
    "    my_dictionary = {}\n",
    "    for i in range(len(key_list)):\n",
    "        my_key = key_list[i]\n",
    "        my_value = value_list[i]\n",
    "\n",
    "        print('Set my_dictionary[', my_key, '] to be ', my_value)\n",
    "        my_dictionary[my_key] = my_value\n",
    "    return my_dictionary\n",
    "\n",
    "# Print out your new dictionary\n",
    "my_list_of_keys = ['a', 'b', 'c', 'd', 'e', 'f']\n",
    "my_list_of_values = [23, 42, 12, 9, 5, 1]\n",
    "my_new_dictionary = zip_two_lists(my_list_of_keys, my_list_of_values)\n",
    "print(my_new_dictionary)\n",
    "my_new_dictionary = zip_two_lists(my_list_of_values, my_list_of_keys)\n",
    "print(my_new_dictionary)"
   ]
  },
  {
   "cell_type": "code",
   "execution_count": null,
   "id": "4cb9272c",
   "metadata": {},
   "outputs": [],
   "source": [
    "new_dct = {}\n",
    "for key, value in zip(my_list_of_keys, my_list_of_values):\n",
    "    new_dct[key] = value\n",
    "new_dct"
   ]
  }
 ],
 "metadata": {
  "kernelspec": {
   "display_name": "Python 3",
   "language": "python",
   "name": "python3"
  },
  "language_info": {
   "codemirror_mode": {
    "name": "ipython",
    "version": 3
   },
   "file_extension": ".py",
   "mimetype": "text/x-python",
   "name": "python",
   "nbconvert_exporter": "python",
   "pygments_lexer": "ipython3",
   "version": "3.7.11"
  }
 },
 "nbformat": 4,
 "nbformat_minor": 5
}
