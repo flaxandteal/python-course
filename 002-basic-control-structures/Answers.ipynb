{
 "cells": [
  {
   "cell_type": "markdown",
   "id": "18edd6b8",
   "metadata": {},
   "source": [
    "# 002: Basic Control Structures"
   ]
  },
  {
   "cell_type": "markdown",
   "id": "b81f64c7",
   "metadata": {},
   "source": [
    "## Strung together"
   ]
  },
  {
   "cell_type": "code",
   "execution_count": null,
   "id": "0bbef854",
   "metadata": {},
   "outputs": [],
   "source": [
    "def dict_to_string_map(dictionary):\n",
    "    new_dictionary = {}\n",
    "    \n",
    "    for key, value in dictionary.items():\n",
    "        new_key = str(key).upper()\n",
    "        new_dictionary[new_key] = value\n",
    "    \n",
    "    return new_dictionary\n",
    "\n",
    "my_new_dictionary = dict_to_string_map(my_meetup_dot_com_profile)\n",
    "my_new_dictionary"
   ]
  },
  {
   "cell_type": "code",
   "execution_count": null,
   "id": "042fe0fe",
   "metadata": {},
   "outputs": [],
   "source": [
    "def dict_to_string_map(dct):\n",
    "    new_dct = {}\n",
    "    \n",
    "    for key, value in dct.items():\n",
    "        if type(value) is list:\n",
    "            new_dct[key] = ', '.join(value)\n",
    "        else:\n",
    "            new_dct[key] = str(value)\n",
    "    \n",
    "    return new_dct\n",
    "\n",
    "dict_to_string_map(my_meetup_dot_com_profile)"
   ]
  },
  {
   "cell_type": "markdown",
   "id": "0aa57294",
   "metadata": {},
   "source": [
    "## Zipping Up"
   ]
  },
  {
   "cell_type": "code",
   "execution_count": null,
   "id": "8346f014",
   "metadata": {},
   "outputs": [],
   "source": [
    "# Loop through them to make a dictionary, where the first list is the keys,\n",
    "# and the second list is the values.\n",
    "# You might want to make this into a function where the first argument is\n",
    "# the first list, and the second argument is the second list\n",
    "def zip_two_lists(key_list, value_list):\n",
    "    my_dictionary = {}\n",
    "    for i in range(len(key_list)):\n",
    "        my_key = key_list[i]\n",
    "        my_value = value_list[i]\n",
    "\n",
    "        print('Set my_dictionary[', my_key, '] to be ', my_value)\n",
    "        my_dictionary[my_key] = my_value\n",
    "    return my_dictionary\n",
    "\n",
    "# Print out your new dictionary\n",
    "my_list_of_keys = ['a', 'b', 'c', 'd', 'e', 'f']\n",
    "my_list_of_values = [23, 42, 12, 9, 5, 1]\n",
    "my_new_dictionary = zip_two_lists(my_list_of_keys, my_list_of_values)\n",
    "print(my_new_dictionary)\n",
    "my_new_dictionary = zip_two_lists(my_list_of_values, my_list_of_keys)\n",
    "print(my_new_dictionary)"
   ]
  },
  {
   "cell_type": "code",
   "execution_count": null,
   "id": "280668c6",
   "metadata": {},
   "outputs": [],
   "source": [
    "new_dct = {}\n",
    "for key, value in zip(my_list_of_keys, my_list_of_values):\n",
    "    new_dct[key] = value\n",
    "new_dct"
   ]
  },
  {
   "cell_type": "markdown",
   "id": "fc7335c1",
   "metadata": {},
   "source": [
    "# 002: Basic Control Structures II"
   ]
  },
  {
   "cell_type": "code",
   "execution_count": null,
   "id": "3f97f8a7",
   "metadata": {},
   "outputs": [],
   "source": [
    "def dict_to_string_map(dct):\n",
    "    new_dct = {}\n",
    "    \n",
    "    for key, value in dct.items():\n",
    "        if type(value) is list:\n",
    "            new_dct[key] = ', '.join(value)\n",
    "        else:\n",
    "            new_dct[key] = str(value)\n",
    "    \n",
    "    return new_dct\n",
    "\n",
    "dict_to_string_map(my_meetup_dot_com_profile)"
   ]
  },
  {
   "cell_type": "markdown",
   "id": "ddfefa3e",
   "metadata": {},
   "source": [
    "## Yes but no, but yes, but no"
   ]
  },
  {
   "cell_type": "code",
   "execution_count": null,
   "id": "92ae43cd",
   "metadata": {},
   "outputs": [],
   "source": [
    "# ANANSWER\n",
    "my_dictionary = {\n",
    "    'hoho': 1,\n",
    "    'hehe': 2,\n",
    "    'myhaha': 3\n",
    "}\n",
    "# hoho, hehe, myhaha are fine; anything else gives a KeyError, unless it contains the text \"haha\"\n",
    "\n",
    "def check_dictionary(key, dct):\n",
    "    try:\n",
    "        dct[key]\n",
    "    except KeyError as e:\n",
    "        if 'haha' in key:\n",
    "            raise RuntimeError(\"Now you're just having a laugh\")\n",
    "        raise e\n",
    "    \n",
    "check_dictionary('myhaha', my_dictionary) # fine\n",
    "check_dictionary('hohoho', my_dictionary) # KeyError\n",
    "check_dictionary('hohohaha', my_dictionary) # RuntimeError"
   ]
  },
  {
   "cell_type": "markdown",
   "id": "00e18caa",
   "metadata": {},
   "source": [
    "## Three's a crowd"
   ]
  },
  {
   "cell_type": "code",
   "execution_count": null,
   "id": "6a9c5d24",
   "metadata": {},
   "outputs": [],
   "source": [
    "filter_function = lambda n: (n % 3 > 0) and (n < 1000) # INSERT FUNCTION HERE - SHOULD EVALUATE TO TRUE or FALSE\n",
    "list(filter(filter_function, [1, 234, 129123, 15, 34, 41991, 14]))"
   ]
  },
  {
   "cell_type": "markdown",
   "id": "18e1be05",
   "metadata": {},
   "source": [
    "## Calling a halt"
   ]
  },
  {
   "cell_type": "code",
   "execution_count": null,
   "id": "afde3db9",
   "metadata": {},
   "outputs": [],
   "source": [
    "import json\n",
    "with open('halts.geojson', 'r') as halts_f:\n",
    "    halts_geojson = json.load(halts_f)\n",
    "\n",
    "all_halts = halts_geojson['features']\n",
    "halt_names = map(lambda feature: feature['properties']['Station'], all_halts)\n",
    "belfast_halts = filter(lambda name: name.startswith('BELFAST'), halt_names) # replace this line\n",
    "belfast_halts = map(lambda name: name.replace('BELFAST - ', '').replace(' RAIL HALT', ''), belfast_halts)\n",
    "\n",
    "sorted(belfast_halts)"
   ]
  },
  {
   "cell_type": "markdown",
   "id": "de885134",
   "metadata": {},
   "source": [
    "## End of the line"
   ]
  },
  {
   "cell_type": "code",
   "execution_count": null,
   "id": "0a53f4bb",
   "metadata": {},
   "outputs": [],
   "source": [
    "with open('halts.geojson', 'r') as halts_f:\n",
    "    halts_geojson = json.load(halts_f)\n",
    "\n",
    "halts_dictionary = {h['properties']['Station']: h['geometry']['coordinates'] for h in halts_geojson['features']}\n",
    "\n",
    "halts_dictionary if halts_dictionary['BELFAST - ADELAIDE RAIL HALT'] != [-5.955437428473338, 54.57871560269907] else \"🥳\""
   ]
  },
  {
   "cell_type": "markdown",
   "id": "58874cf8",
   "metadata": {},
   "source": [
    "## Optimal Prime"
   ]
  },
  {
   "cell_type": "code",
   "execution_count": null,
   "id": "2dcc13e8",
   "metadata": {},
   "outputs": [],
   "source": [
    "def is_prime(n):\n",
    "    if n == 2:\n",
    "        return True\n",
    "    \n",
    "    for y in primes():\n",
    "        if y > int(n ** .5):\n",
    "            return True\n",
    "        if n % y == 0:\n",
    "            return False"
   ]
  }
 ],
 "metadata": {
  "kernelspec": {
   "display_name": "Python 3",
   "language": "python",
   "name": "python3"
  },
  "language_info": {
   "codemirror_mode": {
    "name": "ipython",
    "version": 3
   },
   "file_extension": ".py",
   "mimetype": "text/x-python",
   "name": "python",
   "nbconvert_exporter": "python",
   "pygments_lexer": "ipython3",
   "version": "3.7.11"
  }
 },
 "nbformat": 4,
 "nbformat_minor": 5
}
