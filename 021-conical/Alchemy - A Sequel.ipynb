{
 "cells": [
  {
   "cell_type": "markdown",
   "metadata": {},
   "source": [
    "# Brewing up a Stone"
   ]
  },
  {
   "cell_type": "markdown",
   "metadata": {},
   "source": [
    "## Alchemy with Flask and SQLAlchemy"
   ]
  },
  {
   "cell_type": "markdown",
   "metadata": {},
   "source": [
    "Before chemistry, there was alchemy, and the learned elite used to search for the secret of the true cure for all afflictions, the Philosopher's Stone. Using modern technology, we are able to implement it as a web service."
   ]
  },
  {
   "cell_type": "markdown",
   "metadata": {},
   "source": [
    "While a plethora of abstruse, esoteric jingo concealed the complex, ever-changing rite, the basic recipe boils down to:\n",
    "\n",
    "* Cooking - charring\n",
    "* Washing - brightening\n",
    "* Pickling - yellowing\n",
    "* Fermentation - reddening"
   ]
  },
  {
   "cell_type": "markdown",
   "metadata": {},
   "source": [
    "This recipe also works for gherkins."
   ]
  },
  {
   "cell_type": "markdown",
   "metadata": {},
   "source": [
    "### SQLAlchemy"
   ]
  },
  {
   "cell_type": "markdown",
   "metadata": {},
   "source": [
    "For those who haven't come across it, SQLAlchemy is a database toolkit and ORM - Object Relational Mapper. That is (amongst other things), it facilitates turning a set of living objects to and from frozen database records. Very alchemical."
   ]
  },
  {
   "cell_type": "markdown",
   "metadata": {},
   "source": [
    "During its construction, its creator used [Martin Fowler's work](https://martinfowler.com/eaaCatalog/) in enterprise architecture (who we talked about before) to incorporate a number of patterns. A few to highlight:"
   ]
  },
  {
   "cell_type": "markdown",
   "metadata": {},
   "source": [
    "* [Association Table Mapping](https://martinfowler.com/eaaCatalog/associationTableMapping.html)\n",
    "* [Inheritance Mapping](https://martinfowler.com/eaaCatalog/inheritanceMappers.html)\n",
    "* [Unit of Work](https://martinfowler.com/eaaCatalog/unitOfWork.html)\n",
    "* [Embedded Value](https://martinfowler.com/eaaCatalog/embeddedValue.html)\n"
   ]
  },
  {
   "cell_type": "markdown",
   "metadata": {},
   "source": [
    "## Implementing Alchemy"
   ]
  },
  {
   "cell_type": "markdown",
   "metadata": {},
   "source": [
    "* One unit of each of the substances Mercury, Salt and Sulphur are mixed, using my \"Alembic\" (mixing pot), giving one unit of another substance, Gloop\n",
    "* Any attempt to mix anything other than those three substances, gives Sludge, another substance\n",
    "* Substances can undergo several Processes in my Alembic - they can be Cooked, Washed, Pickled or Fermented\n",
    "* If Gloop is Cooked, Washed, Pickled and Fermented, in that order, it is the Philosopher's Stone (panacea and cure of all ills)\n",
    "\n",
    "Final rule:\n",
    "\n",
    "GROUP 1: When I process a substance, using any process, it becomes a different substance\n",
    "\n",
    "GROUP 2: When I process a substance, its state changes but is essentially the same substance (NB: mixing is not a process)\n",
    "\n",
    "* Extension Rule: To process a Substance, at least one unit must be in my Pantry, including Gloop - even when freshly processed/created, it must be stored there before re-use (to cool)"
   ]
  },
  {
   "cell_type": "markdown",
   "metadata": {},
   "source": [
    "----"
   ]
  },
  {
   "cell_type": "markdown",
   "metadata": {
    "hidePrompt": true
   },
   "source": [
    "Each group has 10 minutes to discuss how they plan to approach it - no code, just words and pictures (if you want to screenshare).\n",
    "Write down all your names in alphabetical order in Etherpad, and pick a rule for ech person to begin implementing (if you don't have a rule, focus on any models or shared classes)."
   ]
  },
  {
   "cell_type": "markdown",
   "metadata": {},
   "source": [
    "At this point, you begin coding, but zero talking or code comments (this time!). Only active code. Use Etherpad to share your code. Every 5 minutes, the next person in the alphabetical list swaps between groups. We'll take a break and, if necessary, do another round."
   ]
  },
  {
   "cell_type": "markdown",
   "metadata": {},
   "source": [
    "Test with tox !"
   ]
  },
  {
   "cell_type": "markdown",
   "metadata": {},
   "source": [
    "### Tips"
   ]
  },
  {
   "cell_type": "markdown",
   "metadata": {},
   "source": [
    "Try and avoid \"create\", \"update\", \"delete\" or obvious equivalents as verbs - think about the word in the domain."
   ]
  },
  {
   "cell_type": "markdown",
   "metadata": {},
   "source": [
    "## 12 Factor App"
   ]
  },
  {
   "cell_type": "markdown",
   "metadata": {},
   "source": [
    "From https://12factor.net/\n",
    "([license](https://github.com/heroku/12factor/blob/master/LICENSE))\n",
    "\n",
    "1. **Codebase**: One codebase tracked in revision control, many deploys\n",
    "2. **Dependencies**: Explicitly declare and isolate dependencies\n",
    "3. **Config**: Store config in the environment\n",
    "4. **Backing services**: Treat backing services as attached resources\n",
    "5. **Build, release, run**: Strictly separate build and run stages\n",
    "6. **Processes**: Execute the app as one or more stateless processes\n",
    "7. **Port binding**: Export services via port binding\n",
    "8. **Concurrency**: Scale out via the process model\n",
    "9. **Disposability**: Maximize robustness with fast startup and graceful shutdown\n",
    "10. **Dev/prod parity**: Keep development, staging, and production as similar as possible\n",
    "11. **Logs**: Treat logs as event streams\n",
    "12. **Admin processes**: Run admin/management tasks as one-off processes"
   ]
  },
  {
   "cell_type": "markdown",
   "metadata": {},
   "source": [
    "## Exercise"
   ]
  },
  {
   "cell_type": "markdown",
   "metadata": {},
   "source": [
    "In the name order in the Etherpad, take your corresponding \"factor\" and add a section to Etherpad to explain why Flask+Docker+SQLAlchemy (or any one of them) can help to achieving it. Focus on why this is different from a big monolithic Python/Java/.NET application. Does the testing approach used by tox help any of these?"
   ]
  },
  {
   "cell_type": "markdown",
   "metadata": {},
   "source": [
    "## Extension Exercise"
   ]
  },
  {
   "cell_type": "markdown",
   "metadata": {},
   "source": [
    "Looking at https://github.com/docker-library/docs/blob/master/postgres/README.md#-via-docker-stack-deploy-or-docker-compose can you work out how to add a `db:` section to the existing `docker-compose.yml` ?"
   ]
  },
  {
   "cell_type": "markdown",
   "metadata": {},
   "source": [
    "If you did, can you configure `magnumopus` to use that instead?"
   ]
  },
  {
   "cell_type": "markdown",
   "metadata": {},
   "source": [
    "How about an nginx proxy, so that you can port-forward to your `web` container from port 8080?"
   ]
  },
  {
   "cell_type": "markdown",
   "metadata": {},
   "source": [
    "----"
   ]
  },
  {
   "cell_type": "markdown",
   "metadata": {},
   "source": [
    "# Further reading..."
   ]
  },
  {
   "cell_type": "markdown",
   "metadata": {},
   "source": [
    "### Patterns"
   ]
  },
  {
   "cell_type": "markdown",
   "metadata": {},
   "source": [
    "http://io.made.com/blog/2017-09-07-introducing-command-handler.html"
   ]
  },
  {
   "cell_type": "markdown",
   "metadata": {},
   "source": [
    "https://www.infoworld.com/article/3117713/design-patterns-that-i-often-avoid-repository-pattern.html"
   ]
  },
  {
   "cell_type": "markdown",
   "metadata": {},
   "source": [
    "https://github.com/faif/python-patterns"
   ]
  },
  {
   "cell_type": "markdown",
   "metadata": {},
   "source": [
    "https://medium.com/@ssola/building-microservices-with-python-part-i-5240a8dcc2fb"
   ]
  },
  {
   "cell_type": "markdown",
   "metadata": {},
   "source": [
    "https://www.vinaysahni.com/best-practices-for-a-pragmatic-restful-api#restful"
   ]
  },
  {
   "cell_type": "markdown",
   "metadata": {},
   "source": [
    "### Persistence"
   ]
  },
  {
   "cell_type": "markdown",
   "metadata": {},
   "source": [
    "https://softwareengineering.stackexchange.com/questions/374047/sqlalchemy-and-ddd-its-own-pattern"
   ]
  },
  {
   "cell_type": "markdown",
   "metadata": {},
   "source": [
    "https://www.sqlalchemy.org/features.html"
   ]
  },
  {
   "cell_type": "markdown",
   "metadata": {},
   "source": [
    "http://dev.nando.audio/2014/04/01/large_apps_with_sqlalchemy__architecture.html"
   ]
  },
  {
   "cell_type": "markdown",
   "metadata": {},
   "source": [
    "https://proofit404.github.io/mappers/usage/"
   ]
  },
  {
   "cell_type": "markdown",
   "metadata": {},
   "source": [
    "https://stackoverflow.com/questions/2276523/how-do-i-effectively-use-sqlalchemy-with-multiple-ddd-repositories"
   ]
  },
  {
   "cell_type": "markdown",
   "metadata": {},
   "source": [
    "### Web"
   ]
  },
  {
   "cell_type": "markdown",
   "metadata": {},
   "source": [
    "https://bobwaycott.com/blog/how-i-use-flask/flask-app-organization/#a-sample-app-layout"
   ]
  },
  {
   "cell_type": "markdown",
   "metadata": {},
   "source": [
    "https://flask.palletsprojects.com/en/1.1.x/patterns/"
   ]
  },
  {
   "cell_type": "markdown",
   "metadata": {},
   "source": [
    "https://pypi.org/project/Flask-Injector/"
   ]
  },
  {
   "cell_type": "markdown",
   "metadata": {},
   "source": [
    "https://testdriven.io/blog/dockerizing-django-with-postgres-gunicorn-and-nginx/"
   ]
  },
  {
   "cell_type": "markdown",
   "metadata": {},
   "source": [
    "https://github.com/pytest-dev/pytest-flask"
   ]
  }
 ],
 "metadata": {
  "kernelspec": {
   "display_name": "PythonCourse",
   "language": "python",
   "name": "pythoncourse"
  },
  "language_info": {
   "codemirror_mode": {
    "name": "ipython",
    "version": 3
   },
   "file_extension": ".py",
   "mimetype": "text/x-python",
   "name": "python",
   "nbconvert_exporter": "python",
   "pygments_lexer": "ipython3",
   "version": "3.7.3"
  }
 },
 "nbformat": 4,
 "nbformat_minor": 2
}
