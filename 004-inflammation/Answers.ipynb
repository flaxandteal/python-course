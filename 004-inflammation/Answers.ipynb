{
 "cells": [
  {
   "cell_type": "markdown",
   "id": "4e77a1f6",
   "metadata": {},
   "source": [
    "# 004: A New Treatment for Arthritis"
   ]
  },
  {
   "cell_type": "markdown",
   "id": "a5b33fe9",
   "metadata": {},
   "source": [
    "## Times tables"
   ]
  },
  {
   "cell_type": "code",
   "execution_count": null,
   "id": "57f2f337",
   "metadata": {},
   "outputs": [],
   "source": [
    "start = time.time()\n",
    "np.arange(1e8).max()\n",
    "time.time() - start"
   ]
  },
  {
   "cell_type": "code",
   "execution_count": null,
   "id": "2571dd9a",
   "metadata": {},
   "outputs": [],
   "source": [
    "start = time.time()\n",
    "biggest = max(range(100000000))\n",
    "print(biggest)\n",
    "time.time() - start"
   ]
  },
  {
   "cell_type": "code",
   "execution_count": null,
   "id": "ffb627c5",
   "metadata": {},
   "outputs": [],
   "source": [
    "start = time.time()\n",
    "# create a max-finding for-loop here\n",
    "biggest = 0\n",
    "for i in range(100000000):\n",
    "    if i > biggest:\n",
    "        biggest = i\n",
    "print(i)\n",
    "time.time() - start"
   ]
  },
  {
   "cell_type": "code",
   "execution_count": null,
   "id": "ac828523",
   "metadata": {},
   "outputs": [],
   "source": [
    "start = time.time()\n",
    "# create a 1e8 length numpy array, and find the max\n",
    "my_range = np.arange(1e8)\n",
    "biggest = my_range.max()\n",
    "time.time() - start"
   ]
  },
  {
   "cell_type": "markdown",
   "id": "71f28fb5",
   "metadata": {},
   "source": [
    "## Array of methods"
   ]
  },
  {
   "cell_type": "code",
   "execution_count": null,
   "id": "e43d5427",
   "metadata": {},
   "outputs": [],
   "source": [
    "# ANANSWER\n",
    "print(data.mean(axis=0)[:3])\n",
    "print(data[:,:3].mean(axis=0))"
   ]
  }
 ],
 "metadata": {
  "kernelspec": {
   "display_name": "Python 3",
   "language": "python",
   "name": "python3"
  },
  "language_info": {
   "codemirror_mode": {
    "name": "ipython",
    "version": 3
   },
   "file_extension": ".py",
   "mimetype": "text/x-python",
   "name": "python",
   "nbconvert_exporter": "python",
   "pygments_lexer": "ipython3",
   "version": "3.7.11"
  }
 },
 "nbformat": 4,
 "nbformat_minor": 5
}
