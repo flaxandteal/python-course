{
 "cells": [
  {
   "cell_type": "markdown",
   "metadata": {
    "slideshow": {
     "slide_type": "notes"
    }
   },
   "source": [
    "First off, an acknowledgement of the usefulness of the Software Carpentry materials, and particularly data, in preparing this session - this course is not, however, affiliated with or endorsed by the Software Carpentry team. Nonetheless, if you would like a more in-depth walkthrough, relevant to this arthritis example, I recommend you explore their resources, particularly the python-novice-inflammation workshop."
   ]
  },
  {
   "cell_type": "markdown",
   "metadata": {
    "slideshow": {
     "slide_type": "slide"
    }
   },
   "source": [
    "# A New Treatment for Arthritis\n",
    "\n",
    "## Starting out with some data"
   ]
  },
  {
   "cell_type": "markdown",
   "metadata": {
    "slideshow": {
     "slide_type": "notes"
    }
   },
   "source": [
    "In this task, we will examine some data representing trials of an arthritis treatment. Our data is in the form of an ASCII file, where each row represents a patient and each column a consecutive day's measurement of inflammation."
   ]
  },
  {
   "cell_type": "markdown",
   "metadata": {
    "slideshow": {
     "slide_type": "slide"
    }
   },
   "source": [
    "# The Scientific Python Trifecta"
   ]
  },
  {
   "cell_type": "markdown",
   "metadata": {
    "slideshow": {
     "slide_type": "fragment"
    }
   },
   "source": [
    "* **numpy** - handling numbers"
   ]
  },
  {
   "cell_type": "markdown",
   "metadata": {
    "slideshow": {
     "slide_type": "fragment"
    }
   },
   "source": [
    "* **matplotlib** - plotting"
   ]
  },
  {
   "cell_type": "markdown",
   "metadata": {
    "slideshow": {
     "slide_type": "fragment"
    }
   },
   "source": [
    "* **scipy** - general scientific methods"
   ]
  },
  {
   "cell_type": "markdown",
   "metadata": {
    "slideshow": {
     "slide_type": "notes"
    }
   },
   "source": [
    "**numpy** has flexible routines for loading raw data..."
   ]
  },
  {
   "cell_type": "markdown",
   "metadata": {
    "slideshow": {
     "slide_type": "slide"
    }
   },
   "source": [
    "In the same directory as your notebooks, there is a folder with some data, called `data`."
   ]
  },
  {
   "cell_type": "code",
   "execution_count": 3,
   "metadata": {
    "slideshow": {
     "slide_type": "fragment"
    }
   },
   "outputs": [
    {
     "name": "stdout",
     "output_type": "stream",
     "text": [
      "0,0,1,3,1,2,4,7,8,3,3,3,10,5,7,4,7,7,12,18,6,13,11,11,7,7,4,6,8,8,4,4,5,7,3,4,2,3,0,0\n",
      " 0,1,2,1,2,1,3,2,2,6,10,11,5,9,4,4,7,16,8,6,18,4,12,5,12,7,11,5,11,3,3,5,4,4,5,5,1,1,0,1\n",
      " 0,1,1,3,3,2,6,2,5,9,5,7,4,5,4,15,5,11,9,10,19,14,12,17,7,12,11,7,4,2,10,5,4,2,2,3,2,2,1,1\n",
      "\n"
     ]
    }
   ],
   "source": [
    "with open('data/inflammation-01.csv', 'r') as f:\n",
    "    snippet = f.readlines()[:3]\n",
    "print(*snippet)"
   ]
  },
  {
   "cell_type": "markdown",
   "metadata": {
    "slideshow": {
     "slide_type": "notes"
    }
   },
   "source": [
    "This construct, a `with` statement, addresses the age-old problem of cleaning up file descriptors. In general, a *with context* expects the object being used to have some open and close routines that will be called at the entrance and exit of the block, respectively. Note that we don't have scoping here - the `snippet` variable exists outside the block, making it easy to load data in a short block and handle it later."
   ]
  },
  {
   "cell_type": "markdown",
   "metadata": {
    "slideshow": {
     "slide_type": "subslide"
    }
   },
   "source": [
    "We could use more traditional syntax:\n",
    "\n",
    "```python\n",
    "    f = open('foo.csv', 'r')\n",
    "    ...\n",
    "    f.close()\n",
    "```\n",
    "\n",
    "but this succinct approach has the benefit of containing use within a protected block."
   ]
  },
  {
   "cell_type": "markdown",
   "metadata": {
    "slideshow": {
     "slide_type": "notes"
    }
   },
   "source": [
    "It can be used for much more than just simple files, such as XML builders, sockets or mutexes."
   ]
  },
  {
   "cell_type": "markdown",
   "metadata": {
    "slideshow": {
     "slide_type": "notes"
    }
   },
   "source": [
    "We also note that a new piece of Python syntax has appeared - a star, indicating that an iterable (here, a list) is used to fill up arguments to a function. This is especially useful with print, and is equivalent to:\n",
    "\n",
    "```python\n",
    "    print(snippet[0], snippet[1], snippet[2])\n",
    "```\n",
    "\n",
    "However, there are places it really shines. In fact, you can also name arguments to a function - in that case you can additionally provide a dict that fills them out (with two stars to indicate the expansion)."
   ]
  },
  {
   "cell_type": "markdown",
   "metadata": {
    "slideshow": {
     "slide_type": "notes"
    }
   },
   "source": [
    "Looking at the printed data, you can see we have a large number of columns (equal for each row), data in the range 0-20 and it is comma-separated. Remember, each row represents a patient and each column, the measurement of inflammation on a given day."
   ]
  },
  {
   "cell_type": "markdown",
   "metadata": {
    "slideshow": {
     "slide_type": "slide"
    }
   },
   "source": [
    "# Import the data"
   ]
  },
  {
   "cell_type": "code",
   "execution_count": 4,
   "metadata": {},
   "outputs": [
    {
     "name": "stdout",
     "output_type": "stream",
     "text": [
      "[[0. 0. 1. ... 3. 0. 0.]\n",
      " [0. 1. 2. ... 1. 0. 1.]\n",
      " [0. 1. 1. ... 2. 1. 1.]\n",
      " ...\n",
      " [0. 1. 1. ... 1. 1. 1.]\n",
      " [0. 0. 0. ... 0. 2. 0.]\n",
      " [0. 0. 1. ... 1. 1. 0.]]\n"
     ]
    }
   ],
   "source": [
    "import numpy as np\n",
    "data = np.loadtxt(fname='data/inflammation-01.csv', delimiter=',') # Comma-separated...\n",
    "print(data)"
   ]
  },
  {
   "cell_type": "markdown",
   "metadata": {
    "slideshow": {
     "slide_type": "notes"
    }
   },
   "source": [
    "While this has kindly been rendered for us as if it were a list of lists, in reality it is something much more useful..."
   ]
  },
  {
   "cell_type": "code",
   "execution_count": 5,
   "metadata": {
    "slideshow": {
     "slide_type": "fragment"
    }
   },
   "outputs": [
    {
     "data": {
      "text/plain": [
       "numpy.ndarray"
      ]
     },
     "execution_count": 5,
     "metadata": {},
     "output_type": "execute_result"
    }
   ],
   "source": [
    "type(data)"
   ]
  },
  {
   "cell_type": "markdown",
   "metadata": {
    "slideshow": {
     "slide_type": "notes"
    }
   },
   "source": [
    "This type is `numpy`'s N-dimensional matrix class. More generally, it is an instance of `numpy.array`, the defining class of numpy, if there is such a thing.\n",
    "\n",
    "This means we get a wide swathe of attributes and methods applicable to matrices, and a whole load of functions inside `numpy` and other libraries that will happily take it as an argument. One particularly useful property is `shape`:"
   ]
  },
  {
   "cell_type": "code",
   "execution_count": 6,
   "metadata": {
    "slideshow": {
     "slide_type": "fragment"
    }
   },
   "outputs": [
    {
     "data": {
      "text/plain": [
       "(60, 40)"
      ]
     },
     "execution_count": 6,
     "metadata": {},
     "output_type": "execute_result"
    }
   ],
   "source": [
    "data.shape"
   ]
  },
  {
   "cell_type": "markdown",
   "metadata": {
    "slideshow": {
     "slide_type": "notes"
    }
   },
   "source": [
    "This tells us that there are 60 patients (rows), each with 40 days of inflammation measurements (columns)."
   ]
  },
  {
   "cell_type": "markdown",
   "metadata": {
    "slideshow": {
     "slide_type": "slide"
    }
   },
   "source": [
    "We can get an idea of the wide variety of methods available on the `data` object..."
   ]
  },
  {
   "cell_type": "code",
   "execution_count": 7,
   "metadata": {
    "scrolled": true
   },
   "outputs": [
    {
     "data": {
      "text/plain": [
       "'T, __abs__, __add__, __and__, __array__, __array_finalize__, __array_function__, __array_interface__, __array_prepare__, __array_priority__, __array_struct__, __array_ufunc__, __array_wrap__, __bool__, __class__, __complex__, __contains__, __copy__, __deepcopy__, __delattr__, __delitem__, __dir__, __divmod__, __doc__, __eq__, __float__, __floordiv__, __format__, __ge__, __getattribute__, __getitem__, __gt__, __hash__, __iadd__, __iand__, __ifloordiv__, __ilshift__, __imatmul__, __imod__, __imul__, __index__, __init__, __init_subclass__, __int__, __invert__, __ior__, __ipow__, __irshift__, __isub__, __iter__, __itruediv__, __ixor__, __le__, __len__, __lshift__, __lt__, __matmul__, __mod__, __mul__, __ne__, __neg__, __new__, __or__, __pos__, __pow__, __radd__, __rand__, __rdivmod__, __reduce__, __reduce_ex__, __repr__, __rfloordiv__, __rlshift__, __rmatmul__, __rmod__, __rmul__, __ror__, __rpow__, __rrshift__, __rshift__, __rsub__, __rtruediv__, __rxor__, __setattr__, __setitem__, __setstate__, __sizeof__, __str__, __sub__, __subclasshook__, __truediv__, __xor__, all, any, argmax, argmin, argpartition, argsort, astype, base, byteswap, choose, clip, compress, conj, conjugate, copy, ctypes, cumprod, cumsum, data, diagonal, dot, dtype, dump, dumps, fill, flags, flat, flatten, getfield, imag, item, itemset, itemsize, max, mean, min, nbytes, ndim, newbyteorder, nonzero, partition, prod, ptp, put, ravel, real, repeat, reshape, resize, round, searchsorted, setfield, setflags, shape, size, sort, squeeze, std, strides, sum, swapaxes, take, tobytes, tofile, tolist, tostring, trace, transpose, var, view'"
      ]
     },
     "execution_count": 7,
     "metadata": {},
     "output_type": "execute_result"
    }
   ],
   "source": [
    "\", \".join(dir(data))"
   ]
  },
  {
   "cell_type": "markdown",
   "metadata": {
    "slideshow": {
     "slide_type": "notes"
    }
   },
   "source": [
    "A lot of the magic methods here, those with double underscores on either side, allow Python to treat this object more like a built-in. For instance, the `__neg__` method will get called when we enter `-data`. If we try `data1 < data2`, then `data1.__lt__` will be called with `data2` as an argument, expecting a boolean return. The behaviour when the user writes `data.previously_unknown_attr` is defined by the `__getattr__` method - this need not be an error. In some ways, you can think of this as an expansion of the concept of operator overloading.\n",
    "\n",
    "The `array` class uses those methods very effectively, to help us write clear and efficient code."
   ]
  },
  {
   "cell_type": "code",
   "execution_count": null,
   "metadata": {
    "slideshow": {
     "slide_type": "slide"
    }
   },
   "outputs": [],
   "source": [
    "print(data * 2)"
   ]
  },
  {
   "cell_type": "markdown",
   "metadata": {},
   "source": [
    "This works because `numpy` has overridden the `__mul__` method."
   ]
  },
  {
   "cell_type": "markdown",
   "metadata": {
    "slideshow": {
     "slide_type": "slide"
    }
   },
   "source": [
    "We can also do our slicing in multiple dimensions... let's get the top-left corner..."
   ]
  },
  {
   "cell_type": "code",
   "execution_count": 15,
   "metadata": {},
   "outputs": [
    {
     "data": {
      "text/plain": [
       "array([[0., 0.],\n",
       "       [0., 1.],\n",
       "       [0., 1.]])"
      ]
     },
     "execution_count": 15,
     "metadata": {},
     "output_type": "execute_result"
    }
   ],
   "source": [
    "data[0:3, 0:2]"
   ]
  },
  {
   "cell_type": "code",
   "execution_count": 19,
   "metadata": {},
   "outputs": [
    {
     "data": {
      "text/plain": [
       "array([[0., 0., 1.],\n",
       "       [0., 1., 2.],\n",
       "       [0., 1., 1.]])"
      ]
     },
     "execution_count": 19,
     "metadata": {},
     "output_type": "execute_result"
    }
   ],
   "source": [
    "data[:3,:3]"
   ]
  },
  {
   "cell_type": "markdown",
   "metadata": {
    "slideshow": {
     "slide_type": "notes"
    }
   },
   "source": [
    "...or more succinctly..."
   ]
  },
  {
   "cell_type": "markdown",
   "metadata": {
    "slideshow": {
     "slide_type": "slide"
    }
   },
   "source": [
    "Try grabbing the bottom left corner (3x3)..."
   ]
  },
  {
   "cell_type": "code",
   "execution_count": 20,
   "metadata": {},
   "outputs": [
    {
     "data": {
      "text/plain": [
       "array([[0., 1., 1.],\n",
       "       [0., 0., 0.],\n",
       "       [0., 0., 1.]])"
      ]
     },
     "execution_count": 20,
     "metadata": {},
     "output_type": "execute_result"
    }
   ],
   "source": [
    "data[-3:, :3]"
   ]
  },
  {
   "cell_type": "markdown",
   "metadata": {
    "slideshow": {
     "slide_type": "slide"
    }
   },
   "source": [
    "A few more practical uses of `nparray`:"
   ]
  },
  {
   "cell_type": "code",
   "execution_count": 21,
   "metadata": {
    "slideshow": {
     "slide_type": "fragment"
    }
   },
   "outputs": [
    {
     "data": {
      "text/plain": [
       "(6.14875, 20.0, 0.0)"
      ]
     },
     "execution_count": 21,
     "metadata": {},
     "output_type": "execute_result"
    }
   ],
   "source": [
    "data.mean(), data.max(), data.min()"
   ]
  },
  {
   "cell_type": "markdown",
   "metadata": {},
   "source": [
    "Why use these methods, especially max and min, when Python has built in ones? Numpy is implemented using, mostly, C libraries for linear algebra - this means that, while Python is slow and heavy as a language, it's not the one doing all the work..."
   ]
  },
  {
   "cell_type": "markdown",
   "metadata": {},
   "source": [
    "### Exercise"
   ]
  },
  {
   "cell_type": "markdown",
   "metadata": {},
   "source": [
    "Using the [numpy](https://numpy.org/doc/stable/user/quickstart.html) docs (look for an equivalent of Python's in-built `range`...) can you compare how long finding a max or min in a _large_ array of ints takes in numpy, versus using the max or min built-in, or a for-loop?"
   ]
  },
  {
   "cell_type": "code",
   "execution_count": 22,
   "metadata": {},
   "outputs": [],
   "source": [
    "import time"
   ]
  },
  {
   "cell_type": "code",
   "execution_count": 25,
   "metadata": {
    "hideOutput": true
   },
   "outputs": [
    {
     "name": "stdout",
     "output_type": "stream",
     "text": [
      "99999999\n"
     ]
    },
    {
     "data": {
      "text/plain": [
       "3.364633798599243"
      ]
     },
     "execution_count": 25,
     "metadata": {},
     "output_type": "execute_result"
    }
   ],
   "source": [
    "start = time.time()\n",
    "biggest = max(range(100000000))\n",
    "print(biggest)\n",
    "time.time() - start"
   ]
  },
  {
   "cell_type": "code",
   "execution_count": 24,
   "metadata": {
    "hideOutput": true
   },
   "outputs": [
    {
     "name": "stdout",
     "output_type": "stream",
     "text": [
      "99999999\n"
     ]
    },
    {
     "data": {
      "text/plain": [
       "11.761155366897583"
      ]
     },
     "execution_count": 24,
     "metadata": {},
     "output_type": "execute_result"
    }
   ],
   "source": [
    "start = time.time()\n",
    "# create a max-finding for-loop here\n",
    "biggest = 0\n",
    "for i in range(100000000):\n",
    "    if i > biggest:\n",
    "        biggest = i\n",
    "print(i)\n",
    "time.time() - start"
   ]
  },
  {
   "cell_type": "code",
   "execution_count": 29,
   "metadata": {
    "hideOutput": true
   },
   "outputs": [
    {
     "data": {
      "text/plain": [
       "0.6374130249023438"
      ]
     },
     "execution_count": 29,
     "metadata": {},
     "output_type": "execute_result"
    }
   ],
   "source": [
    "start = time.time()\n",
    "# create a 1e8 length numpy array, and find the max\n",
    "my_range = np.arange(1e8)\n",
    "biggest = my_range.max()\n",
    "time.time() - start"
   ]
  },
  {
   "cell_type": "code",
   "execution_count": null,
   "metadata": {
    "hideCode": false,
    "hideOutput": true
   },
   "outputs": [],
   "source": [
    "# ANANSWER\n",
    "start = time.time()\n",
    "np.arange(1e8).max()\n",
    "time.time() - start"
   ]
  },
  {
   "cell_type": "markdown",
   "metadata": {},
   "source": [
    "Often you will see this expressed in the Python science community as \"vectorized beats a loop\" - writing code in a way that allows numpy to execute rate-limiting array operations in C, instead of Python, will speed up code significantly."
   ]
  },
  {
   "cell_type": "markdown",
   "metadata": {},
   "source": [
    "### Extension"
   ]
  },
  {
   "cell_type": "markdown",
   "metadata": {},
   "source": [
    "What issues can you see with timing a function this way?"
   ]
  },
  {
   "cell_type": "markdown",
   "metadata": {},
   "source": [
    "----"
   ]
  },
  {
   "cell_type": "code",
   "execution_count": 50,
   "metadata": {
    "slideshow": {
     "slide_type": "fragment"
    }
   },
   "outputs": [
    {
     "data": {
      "text/plain": [
       "17.0"
      ]
     },
     "execution_count": 50,
     "metadata": {},
     "output_type": "execute_result"
    }
   ],
   "source": [
    "data[3, :].max()  # Max inflammation for 4th patient"
   ]
  },
  {
   "cell_type": "markdown",
   "metadata": {},
   "source": [
    "This could also be written `data[3,:]` - colon on its own just signifies all entries in that axis, from first to last"
   ]
  },
  {
   "cell_type": "code",
   "execution_count": 42,
   "metadata": {
    "slideshow": {
     "slide_type": "fragment"
    }
   },
   "outputs": [
    {
     "data": {
      "text/plain": [
       "3.0"
      ]
     },
     "execution_count": 42,
     "metadata": {},
     "output_type": "execute_result"
    }
   ],
   "source": [
    "data[:,3].max() # Max infl for 2nd day"
   ]
  },
  {
   "cell_type": "code",
   "execution_count": 47,
   "metadata": {},
   "outputs": [
    {
     "data": {
      "text/plain": [
       "array([ 0.,  1.,  2.,  1.,  2.,  1.,  3.,  2.,  2.,  6., 10., 11.,  5.,\n",
       "        9.,  4.,  4.,  7., 16.,  8.,  6., 18.,  4., 12.,  5., 12.,  7.,\n",
       "       11.,  5., 11.,  3.,  3.,  5.,  4.,  4.,  5.,  5.,  1.,  1.,  0.,\n",
       "        1.])"
      ]
     },
     "execution_count": 47,
     "metadata": {},
     "output_type": "execute_result"
    }
   ],
   "source": [
    "data[1, :]"
   ]
  },
  {
   "cell_type": "markdown",
   "metadata": {
    "slideshow": {
     "slide_type": "slide"
    }
   },
   "source": [
    "Suppose we want the max for every day..."
   ]
  },
  {
   "cell_type": "markdown",
   "metadata": {
    "slideshow": {
     "slide_type": "notes"
    }
   },
   "source": [
    "We could create a new list and write a loop to go through it, but it seems there should be a more transparent, succinct, *Pythonic* approach"
   ]
  },
  {
   "cell_type": "code",
   "execution_count": 54,
   "metadata": {
    "slideshow": {
     "slide_type": "fragment"
    }
   },
   "outputs": [
    {
     "data": {
      "text/plain": [
       "array([ 0.,  1.,  2.,  3.,  4.,  5.,  6.,  7.,  8.,  9., 10., 11., 12.,\n",
       "       13., 14., 15., 16., 17., 18., 19., 20., 19., 18., 17., 16., 15.,\n",
       "       14., 13., 12., 11., 10.,  9.,  8.,  7.,  6.,  5.,  4.,  3.,  2.,\n",
       "        1.])"
      ]
     },
     "execution_count": 54,
     "metadata": {},
     "output_type": "execute_result"
    }
   ],
   "source": [
    "data.max(axis=0)"
   ]
  },
  {
   "cell_type": "markdown",
   "metadata": {
    "slideshow": {
     "slide_type": "notes"
    }
   },
   "source": [
    "As you can see, the second day does indeed have `max` of `1.0`. Notice that it returns an array (this is a superclass of `ndarray`), so we can do...\n",
    "\n",
    "An aside: this is the first time you have seen a named argument. In an argument list of a function, you can supply a name for arguments:"
   ]
  },
  {
   "cell_type": "markdown",
   "metadata": {
    "slideshow": {
     "slide_type": "slide"
    }
   },
   "source": [
    "```python\n",
    "def some_function(arg1, info=38, axis=None):\n",
    "   ...\n",
    "```"
   ]
  },
  {
   "cell_type": "markdown",
   "metadata": {},
   "source": [
    "To write a function like this, you must provide a default for the argument. You can then call the function only passing a subset of arguments, as you have just seen."
   ]
  },
  {
   "cell_type": "code",
   "execution_count": 55,
   "metadata": {
    "slideshow": {
     "slide_type": "fragment"
    }
   },
   "outputs": [
    {
     "data": {
      "text/plain": [
       "(40,)"
      ]
     },
     "execution_count": 55,
     "metadata": {},
     "output_type": "execute_result"
    }
   ],
   "source": [
    "data.max(axis=0).shape"
   ]
  },
  {
   "cell_type": "markdown",
   "metadata": {
    "slideshow": {
     "slide_type": "notes"
    }
   },
   "source": [
    "This shouldn't be surprising - we take the maximum over all patients for each of 40 days, so we end up with a 40 element array."
   ]
  },
  {
   "cell_type": "markdown",
   "metadata": {},
   "source": [
    "### Exercise"
   ]
  },
  {
   "cell_type": "markdown",
   "metadata": {
    "slideshow": {
     "slide_type": "slide"
    }
   },
   "source": [
    "Try using the following cell to get the mean inflammation over all patients for each of the first three days..."
   ]
  },
  {
   "cell_type": "markdown",
   "metadata": {
    "slideshow": {
     "slide_type": "notes"
    }
   },
   "source": [
    "(you should use slicing and end up with a 3 element array)"
   ]
  },
  {
   "cell_type": "code",
   "execution_count": null,
   "metadata": {},
   "outputs": [],
   "source": []
  },
  {
   "cell_type": "code",
   "execution_count": 56,
   "metadata": {
    "hideCode": false,
    "scrolled": true
   },
   "outputs": [
    {
     "name": "stdout",
     "output_type": "stream",
     "text": [
      "[0.         0.45       1.11666667]\n",
      "[0.         0.45       1.11666667]\n"
     ]
    }
   ],
   "source": [
    "# ANANSWER\n",
    "print(data.mean(axis=0)[:3])\n",
    "print(data[:,:3].mean(axis=0))"
   ]
  },
  {
   "cell_type": "markdown",
   "metadata": {
    "slideshow": {
     "slide_type": "slide"
    }
   },
   "source": [
    "# Plotting\n",
    "## Like we're Brutus the Younger"
   ]
  },
  {
   "cell_type": "markdown",
   "metadata": {
    "slideshow": {
     "slide_type": "slide"
    }
   },
   "source": [
    "First, we use a magic method that works in Jupyter (strictly, in its IPython backend)"
   ]
  },
  {
   "cell_type": "code",
   "execution_count": 57,
   "metadata": {},
   "outputs": [],
   "source": [
    "# Switch on the plotting\n",
    "%matplotlib inline"
   ]
  },
  {
   "cell_type": "markdown",
   "metadata": {
    "slideshow": {
     "slide_type": "fragment"
    }
   },
   "source": [
    "Now for inline plotting we can use the `matplotlib` module, the go-to for Python plotting (but not in the Dijkstra sense)..."
   ]
  },
  {
   "cell_type": "code",
   "execution_count": 58,
   "metadata": {
    "slideshow": {
     "slide_type": "fragment"
    }
   },
   "outputs": [
    {
     "data": {
      "image/png": "[encoded data removed]",
      "text/plain": [
       "<Figure size 432x288 with 1 Axes>"
      ]
     },
     "metadata": {
      "needs_background": "light"
     },
     "output_type": "display_data"
    }
   ],
   "source": [
    "import matplotlib\n",
    "pretty_pic = matplotlib.pyplot.imshow(data)\n",
    "matplotlib.pyplot.show(pretty_pic)"
   ]
  },
  {
   "cell_type": "markdown",
   "metadata": {
    "slideshow": {
     "slide_type": "notes"
    }
   },
   "source": [
    "Red shows greater inflammation, and what we may have guessed from the bits of CSV we saw, inflammation starts low, grows and reduces. Patients along the side, days along the bottom."
   ]
  },
  {
   "cell_type": "markdown",
   "metadata": {
    "slideshow": {
     "slide_type": "slide"
    }
   },
   "source": [
    "Time for a challenge... plot the heat map (as above) for the fourth, fifth and sixth patients, transposed with days up the side. The easiest way is to [start with Google](https://www.google.ie/search?q=numpy+ndarray+transpose)..."
   ]
  },
  {
   "cell_type": "code",
   "execution_count": 59,
   "metadata": {},
   "outputs": [
    {
     "data": {
      "image/png": "[encoded data removed]",
      "text/plain": [
       "<Figure size 432x288 with 1 Axes>"
      ]
     },
     "metadata": {
      "needs_background": "light"
     },
     "output_type": "display_data"
    }
   ],
   "source": [
    "import matplotlib\n",
    "pretty_pic = matplotlib.pyplot.imshow(data[4:7].T)\n",
    "matplotlib.pyplot.show(pretty_pic)"
   ]
  },
  {
   "cell_type": "markdown",
   "metadata": {
    "slideshow": {
     "slide_type": "slide"
    }
   },
   "source": [
    "# Reproducible Plots\n",
    "\n",
    "If you come from a MATLAB background, or use other plotting tools, you will be used to saving/re-opening a plot..."
   ]
  },
  {
   "cell_type": "markdown",
   "metadata": {
    "slideshow": {
     "slide_type": "fragment"
    }
   },
   "source": [
    "...in Python you normally have a plotting script that you run each time (and save the image)."
   ]
  },
  {
   "cell_type": "markdown",
   "metadata": {
    "slideshow": {
     "slide_type": "slide"
    }
   },
   "source": [
    "## Cons\n",
    "\n",
    "* You have no standard GUI for designing plots\n",
    "* If your plot involves lots of processing, it's slow to open"
   ]
  },
  {
   "cell_type": "markdown",
   "metadata": {
    "slideshow": {
     "slide_type": "fragment"
    }
   },
   "source": [
    "## Pros\n",
    "\n",
    "* Changes are trivially easy\n",
    "* Every time you open the plot, it contains current data"
   ]
  },
  {
   "cell_type": "markdown",
   "metadata": {
    "slideshow": {
     "slide_type": "slide"
    }
   },
   "source": [
    "## Con-workarounds\n",
    "\n",
    "* There are libraries for adding GUI elements to plots\n",
    "* You can split into two scripts\n",
    " * output processed data\n",
    " * plot"
   ]
  },
  {
   "cell_type": "markdown",
   "metadata": {
    "slideshow": {
     "slide_type": "slide"
    }
   },
   "source": [
    "# Example plotting script"
   ]
  },
  {
   "cell_type": "code",
   "execution_count": 61,
   "metadata": {},
   "outputs": [
    {
     "data": {
      "image/png": "[encoded data removed]",
      "text/plain": [
       "<Figure size 360x216 with 1 Axes>"
      ]
     },
     "metadata": {
      "needs_background": "light"
     },
     "output_type": "display_data"
    }
   ],
   "source": [
    "import numpy as np\n",
    "from matplotlib import pyplot\n",
    "\n",
    "data = np.loadtxt(fname='data/inflammation-01.csv', delimiter=',')\n",
    "pyplot.figure(figsize=(5.0, 3.0))\n",
    "\n",
    "pyplot.xlabel('Day')    \n",
    "pyplot.ylabel('Inflammation')\n",
    "\n",
    "pyplot.plot(data.mean(axis=0), label='Average')\n",
    "pyplot.plot(data.max(axis=0), label='Max')\n",
    "pyplot.plot(data.min(axis=0), label='Min')\n",
    "pyplot.legend()\n",
    "\n",
    "pyplot.show()"
   ]
  },
  {
   "cell_type": "code",
   "execution_count": null,
   "metadata": {
    "scrolled": false,
    "slideshow": {
     "slide_type": "slide"
    }
   },
   "outputs": [],
   "source": [
    "exec(In[18])  # Cheeky way to reshow output... forget immediately."
   ]
  },
  {
   "cell_type": "markdown",
   "metadata": {
    "slideshow": {
     "slide_type": "notes"
    }
   },
   "source": [
    "Now if I want to modify some part... I can do so and have the updated plot straight-away"
   ]
  },
  {
   "cell_type": "markdown",
   "metadata": {
    "slideshow": {
     "slide_type": "notes"
    }
   },
   "source": [
    "This particular syntax is for fairly basic use, with only one set of axis and so forth, but it's probably quite familiar if you are coming from MATLAB. If we want to expand a bit more, first we use a more classic matplotlib approach, and neater programming approach, by setting properties directly on specific objects, such as axes..."
   ]
  },
  {
   "cell_type": "code",
   "execution_count": 62,
   "metadata": {
    "slideshow": {
     "slide_type": "slide"
    }
   },
   "outputs": [
    {
     "data": {
      "image/png": "[encoded data removed]",
      "text/plain": [
       "<Figure size 360x216 with 1 Axes>"
      ]
     },
     "metadata": {
      "needs_background": "light"
     },
     "output_type": "display_data"
    }
   ],
   "source": [
    "# This is the whole figure, possibly\n",
    "# with multiple subplots\n",
    "fig = pyplot.figure(figsize=(5.0, 3.0))\n",
    "\n",
    "# This is a specific set of axes\n",
    "axes = fig.add_subplot(1, 1, 1)\n",
    "axes.set_xlabel('Day')\n",
    "axes.set_ylabel('Inflammation')\n",
    "\n",
    "axes.plot(data.mean(axis=0), label='Average')\n",
    "axes.plot(data.max(axis=0), label='Max')\n",
    "axes.plot(data.min(axis=0), label='Min')\n",
    "axes.legend()\n",
    "\n",
    "pyplot.show()"
   ]
  },
  {
   "cell_type": "markdown",
   "metadata": {
    "slideshow": {
     "slide_type": "notes"
    }
   },
   "source": [
    "Not particularly more complicated, but more flexible... say we have a series of plots..."
   ]
  },
  {
   "cell_type": "code",
   "execution_count": 80,
   "metadata": {
    "slideshow": {
     "slide_type": "slide"
    }
   },
   "outputs": [
    {
     "data": {
      "image/png": "[encoded data removed]",
      "text/plain": [
       "<Figure size 720x216 with 3 Axes>"
      ]
     },
     "metadata": {
      "needs_background": "light"
     },
     "output_type": "display_data"
    }
   ],
   "source": [
    "fig = pyplot.figure(figsize=(10.0, 3.0))\n",
    "\n",
    "axes = []  # Blank list\n",
    "for i in range(1, 4):\n",
    "    ax = fig.add_subplot(1, 3, i)\n",
    "    ax.set_xlabel('Day')\n",
    "    ax.set_title(f'Plot {i}')\n",
    "    axes.append(ax)\n",
    "    \n",
    "axes[0].set_ylabel('Mean')\n",
    "axes[1].set_ylabel('Max')\n",
    "axes[2].set_ylabel('Min')\n",
    "\n",
    "\n",
    "for row in data:\n",
    "    axes[0].plot(row, color='#dddddd')\n",
    "    axes[1].plot(row, color='#dddddd')\n",
    "    axes[2].plot(row, color='#dddddd')\n",
    "\n",
    "axes[0].plot(data.mean(axis=0), linestyle=':')\n",
    "axes[1].plot(data.max(axis=0), linestyle='--')\n",
    "axes[2].plot(data.min(axis=0), color='red')\n",
    "\n",
    "fig.tight_layout()\n",
    "pyplot.show(fig)"
   ]
  },
  {
   "cell_type": "markdown",
   "metadata": {
    "slideshow": {
     "slide_type": "slide"
    }
   },
   "source": [
    "### Exercise: Plot Tidying"
   ]
  },
  {
   "cell_type": "markdown",
   "metadata": {
    "slideshow": {
     "slide_type": "fragment"
    }
   },
   "source": [
    "Modify the previous cell to give the max line with a dash, the mean line with dots and the min line red.\n",
    "\n",
    "Even better, add a title at the top."
   ]
  },
  {
   "cell_type": "markdown",
   "metadata": {
    "slideshow": {
     "slide_type": "notes"
    }
   },
   "source": [
    "When done, vote done.\n",
    "\n",
    "### Extension\n",
    "\n",
    "If you find this very easy and are waiting, carry on and have a go at plotting all the patients in very light grey behind your three coloured lines. See how long it takes to run for those 63 lines."
   ]
  },
  {
   "cell_type": "markdown",
   "metadata": {
    "slideshow": {
     "slide_type": "fragment"
    }
   },
   "source": [
    "If you're having trouble, Google **pyplot line style** and pick the **pylab_examples example code** link..."
   ]
  },
  {
   "cell_type": "markdown",
   "metadata": {
    "slideshow": {
     "slide_type": "notes"
    }
   },
   "source": [
    "Bear in mind, and this is particularly the case with matplotlib, that there are multiple similar tools with slightly different configurations and long lists of technical documentation - try not to get lost in them and use Etherpad to flags things up. However, short examples are findable via Google, especially via Stack Overflow, that get you going fast."
   ]
  },
  {
   "cell_type": "markdown",
   "metadata": {
    "slideshow": {
     "slide_type": "slide"
    }
   },
   "source": [
    "# But...\n",
    "## Not so interactive"
   ]
  },
  {
   "cell_type": "markdown",
   "metadata": {
    "slideshow": {
     "slide_type": "notes"
    }
   },
   "source": [
    "If we are using Jupyter, it is probably because we want to have something interactive. Fixed plots in a web-page make it seem like something is missing."
   ]
  },
  {
   "cell_type": "markdown",
   "metadata": {
    "slideshow": {
     "slide_type": "slide"
    }
   },
   "source": [
    "# Bokeh\n",
    "## Dynamic plots"
   ]
  },
  {
   "cell_type": "code",
   "execution_count": null,
   "metadata": {},
   "outputs": [],
   "source": [
    "import numpy as np\n",
    "import bokeh.plotting as bplot\n",
    "from bokeh.io import output_notebook\n",
    "output_notebook()"
   ]
  },
  {
   "cell_type": "markdown",
   "metadata": {},
   "source": [
    "If this works, you should see an icon like a rainbow-coloured camera shutter."
   ]
  },
  {
   "cell_type": "code",
   "execution_count": null,
   "metadata": {
    "slideshow": {
     "slide_type": "slide"
    }
   },
   "outputs": [],
   "source": [
    "fig = bplot.figure()\n",
    "days = np.arange(data.shape[1])\n",
    "fig.line(days, data.mean(axis=0))\n",
    "fig.xaxis.axis_label = \"Day\"\n",
    "bplot.show(fig)"
   ]
  },
  {
   "cell_type": "markdown",
   "metadata": {
    "slideshow": {
     "slide_type": "notes"
    }
   },
   "source": [
    "Notice the syntax is quite similar to `matplotlib` but a little different, so make sure you don't get them mixed up. For example, `plot` has become specifically `line` and we now explicitly provide the days along the bottom. Note that `numpy.arange` is just like `range` but it returns a `numpy` array."
   ]
  },
  {
   "cell_type": "markdown",
   "metadata": {
    "slideshow": {
     "slide_type": "slide"
    }
   },
   "source": [
    "### Exercise\n",
    "\n",
    "Reproduce our three-line matplotlib plot in Bokeh"
   ]
  },
  {
   "cell_type": "code",
   "execution_count": null,
   "metadata": {},
   "outputs": [],
   "source": [
    "# Here's cell for you..."
   ]
  },
  {
   "cell_type": "markdown",
   "metadata": {
    "slideshow": {
     "slide_type": "notes"
    }
   },
   "source": [
    "Start with the [Bokeh documentation](http://bokeh.pydata.org/en/0.10.0/docs/quickstart.html) and the Bokeh example above..."
   ]
  },
  {
   "cell_type": "markdown",
   "metadata": {
    "slideshow": {
     "slide_type": "slide"
    }
   },
   "source": [
    "# Interactive plots"
   ]
  },
  {
   "cell_type": "markdown",
   "metadata": {
    "slideshow": {
     "slide_type": "notes"
    }
   },
   "source": [
    "But really, this still isn't very interactive... let's try adding a drop-down to pick which function (average, max, min) that we want to use."
   ]
  },
  {
   "cell_type": "code",
   "execution_count": null,
   "metadata": {
    "slideshow": {
     "slide_type": "fragment"
    }
   },
   "outputs": [],
   "source": [
    "from bokeh.models import ColumnDataSource\n",
    "from bokeh.io import push_notebook\n",
    "\n",
    "# Start out with days vs average\n",
    "initial_coordinates = {'x': days, 'y': data.mean(axis=0)}\n",
    "source = ColumnDataSource(initial_coordinates)\n",
    "\n",
    "# Define a callback to update the plot when we\n",
    "# pick something else\n",
    "def update_plot_statistic(statistic):\n",
    "    if statistic == \"Average\":\n",
    "        source.data['y'] = data.mean(axis=0)\n",
    "    elif statistic == \"Max\":\n",
    "        source.data['y'] = data.max(axis=0)\n",
    "    elif statistic == \"Min\":\n",
    "        source.data['y'] = data.min(axis=0)\n",
    "    push_notebook()"
   ]
  },
  {
   "cell_type": "markdown",
   "metadata": {
    "slideshow": {
     "slide_type": "notes"
    }
   },
   "source": [
    "First off, note that we do not have to tell the function to import the global variable, we can just use it. Now, examine the function - this is callback that we will use to update the plot when we change a drop-down menu choice of function.\n",
    "\n",
    "We create a `source` object, an instance of the `ColumnDataSource` class, and when this function is called, it updates the '`y`' item in `source.data`. Inside the function, we check what has been picked (this is the argument to the function), and update the source \"`y`\" array on that basis. Finally, we push this change to the notebook."
   ]
  },
  {
   "cell_type": "markdown",
   "metadata": {
    "slideshow": {
     "slide_type": "notes"
    }
   },
   "source": [
    "Now we need a widget to use this..."
   ]
  },
  {
   "cell_type": "code",
   "execution_count": null,
   "metadata": {
    "slideshow": {
     "slide_type": "slide"
    }
   },
   "outputs": [],
   "source": [
    "from ipywidgets import interact\n",
    "fig = bplot.figure()\n",
    "\n",
    "days = np.arange(data.shape[1])\n",
    "\n",
    "fig.xaxis.axis_label = 'Day'\n",
    "fig.yaxis.axis_label = 'Inflammation'\n",
    "\n",
    "fig.line(x='x', y='y', source=source)\n",
    "bplot.show(fig, notebook_handle=True)\n",
    "interact(update_plot_statistic, statistic=[\"Average\", \"Max\", \"Min\"])"
   ]
  },
  {
   "cell_type": "markdown",
   "metadata": {
    "slideshow": {
     "slide_type": "notes"
    }
   },
   "source": [
    "This a very basic approach - the widget tool guesses you want a drop-down because you pass a list. Alternatively, you could pass a list with two floats as limits and get a slider back."
   ]
  },
  {
   "cell_type": "markdown",
   "metadata": {
    "slideshow": {
     "slide_type": "notes"
    }
   },
   "source": [
    "It seems you do have to output the image before the widgets, if you define the callback in Python, at least. However, there are a lot of other interactors - you can pass a JS callback (as a string), assign URLs to various objects in your plot, animate it, etc. etc. etc."
   ]
  },
  {
   "cell_type": "markdown",
   "metadata": {
    "slideshow": {
     "slide_type": "slide"
    }
   },
   "source": [
    "### Exercise\n",
    "\n",
    "Produce the plot above, but using a slider. This will call a function with one argument called `percentile`, which sets the `y` source to be that percentile for each day. In stats terms, the \"median\" of a dataset is (by definition) percentile 50, and the \"quartiles\" are percentiles 25 and 75. In any case, [`np.percentile(data, pc)`](https://docs.scipy.org/doc/numpy/reference/generated/numpy.percentile.html) can take a 2d data array and returns the percentiles for each row."
   ]
  },
  {
   "cell_type": "code",
   "execution_count": null,
   "metadata": {},
   "outputs": [],
   "source": [
    "# Use this cell for the plot"
   ]
  },
  {
   "cell_type": "code",
   "execution_count": null,
   "metadata": {},
   "outputs": [],
   "source": [
    "# And this for the one line `interact` call afterwards\n",
    "interact(update_plot_for_percentile, percentile=(0, 100, 1))"
   ]
  },
  {
   "cell_type": "markdown",
   "metadata": {
    "slideshow": {
     "slide_type": "slide"
    }
   },
   "source": [
    "# Summary"
   ]
  },
  {
   "cell_type": "markdown",
   "metadata": {
    "slideshow": {
     "slide_type": "fragment"
    }
   },
   "source": [
    "* **numpy** lets you manipulate large arrays fast "
   ]
  },
  {
   "cell_type": "markdown",
   "metadata": {
    "slideshow": {
     "slide_type": "fragment"
    }
   },
   "source": [
    "* **matplotlib** lets you plot reproducibly"
   ]
  },
  {
   "cell_type": "markdown",
   "metadata": {
    "slideshow": {
     "slide_type": "fragment"
    }
   },
   "source": [
    "* you can do processing and plotting together or separately"
   ]
  },
  {
   "cell_type": "markdown",
   "metadata": {
    "slideshow": {
     "slide_type": "notes"
    }
   },
   "source": [
    "# Answers"
   ]
  },
  {
   "cell_type": "code",
   "execution_count": null,
   "metadata": {
    "slideshow": {
     "slide_type": "notes"
    }
   },
   "outputs": [],
   "source": [
    "# This is the whole figure, possibly\n",
    "# with multiple subplots\n",
    "fig = bplot.figure()\n",
    "\n",
    "days = np.arange(data.shape[1])\n",
    "\n",
    "# This is a specific set of axes\n",
    "fig.xaxis.axis_label = 'Day'\n",
    "fig.yaxis.axis_label = 'Inflammation'\n",
    "\n",
    "fig.line(days, data.mean(axis=0), legend='Average', color='green')\n",
    "fig.line(days, data.max(axis=0), legend='Max', color='blue')\n",
    "fig.line(days, data.min(axis=0), legend='Min', color='red')\n",
    "\n",
    "bplot.show(fig)"
   ]
  },
  {
   "cell_type": "code",
   "execution_count": null,
   "metadata": {
    "slideshow": {
     "slide_type": "notes"
    }
   },
   "outputs": [],
   "source": [
    "# Start out with days vs average\n",
    "initial_coordinates = {'x': days, 'y': data.mean(axis=0)}\n",
    "source = ColumnDataSource(initial_coordinates)\n",
    "\n",
    "# Define a callback to update the plot when we\n",
    "# pick something else\n",
    "def update_plot_for_percentile(percentile):\n",
    "    source.data['y'] = np.percentile(data, percentile, axis=0)\n",
    "    push_notebook()\n",
    "    \n",
    "fig = bplot.figure(y_range=(0, data.max()))\n",
    "\n",
    "days = np.arange(data.shape[1])\n",
    "\n",
    "fig.xaxis.axis_label = 'Day'\n",
    "fig.yaxis.axis_label = 'Inflammation'\n",
    "\n",
    "fig.line('x', 'y', source=source)\n",
    "\n",
    "bplot.show(fig, notebook_handle=True)"
   ]
  }
 ],
 "metadata": {
  "kernelspec": {
   "display_name": "Python 3",
   "language": "python",
   "name": "python3"
  },
  "language_info": {
   "codemirror_mode": {
    "name": "ipython",
    "version": 3
   },
   "file_extension": ".py",
   "mimetype": "text/x-python",
   "name": "python",
   "nbconvert_exporter": "python",
   "pygments_lexer": "ipython3",
   "version": "3.7.3"
  },
  "livereveal": {
   "theme": "beige",
   "transition": "cascade"
  }
 },
 "nbformat": 4,
 "nbformat_minor": 1
}
