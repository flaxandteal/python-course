{
 "cells": [
  {
   "cell_type": "markdown",
   "metadata": {},
   "source": [
    "# Patterns"
   ]
  },
  {
   "cell_type": "markdown",
   "metadata": {},
   "source": [
    "## Knitting Code Beautifully"
   ]
  },
  {
   "cell_type": "markdown",
   "metadata": {},
   "source": [
    "We discussed Pythonic as being an ethos, rather than enforced rules - a subjective achievement that works by consensus. And that that is fundamental to how and why Python as an ecosystem or a language, works."
   ]
  },
  {
   "cell_type": "markdown",
   "metadata": {},
   "source": [
    "Design patterns are of a similar nature, and are seen in many languages in different ways - although tend to be discussed much more commonly in traditional enterprise languages, such as C# or Java. Nonetheless, they are highly relevant and, perhaps, an undervalued way of thinking about code quality in Python. Equivalently, and perhaps more importantly, anti-patterns - habits that make code worse or could be considered \"Code Smells\", indicators of deeper problems.\n",
    "\n",
    "One helpful language-independent resource from a leading author, is Martin Fowler's website: https://martinfowler.com/bliki/CodeSmell.html for instance. His wiki is a bit like TV Tropes for software projects."
   ]
  },
  {
   "cell_type": "markdown",
   "metadata": {},
   "source": [
    "These are not laws - Pythonic philosophy states that practicality beats purity and a hard-to-explain implementation is a bad idea. A literal reading of some design patterns would frequently be at odds with this, so it always comes down to judgement - in my opinion, Pythonic beats established design patterns, when in Python. Some design patterns have language assumptions (such as exception-handling being expensive) that contravene the underlying design principles of Python. The one thing that's critical, as all authors agree on, is that **thinking it through it is the key objective**, not your conclusion."
   ]
  },
  {
   "cell_type": "markdown",
   "metadata": {},
   "source": [
    "One final caveat: I know experienced programmers who say that design patterns are an anti-pattern themselves. This is based on the precept that languages should enforce or at least guide good coding practice, and that design patterns are a sticking plaster - certainly, Python goes the other philosophical direction, giving great freedom to the programmer and trusting that they use it wisely. As they say, with great power..."
   ]
  },
  {
   "cell_type": "markdown",
   "metadata": {},
   "source": [
    "## Domain-Driven Design"
   ]
  },
  {
   "cell_type": "markdown",
   "metadata": {},
   "source": [
    "This will be a whistle-stop tour - we can delve a bit more into individual concepts in subsequent days, but I am keen that the terms and notions are at least familiar. The first and perhaps more under-described here, is domain-driven design. Tens of thousands of pages have been written about it, debate rages about what the \"ubiquitous language\" concept that underlies it is, or whether it's useful, but DDD (as it's affectionately known) boils down to:"
   ]
  },
  {
   "cell_type": "markdown",
   "metadata": {},
   "source": [
    "### The terminology you use in the code should reflect the terminology of the user"
   ]
  },
  {
   "cell_type": "markdown",
   "metadata": {},
   "source": [
    "Going a little deeper, this is implemented by creating a conceptual \"domain model\", that is, a conceptual model of the business domain. Then, this is reflected in the code. A follow-on is that you start separating your code more cleanly into layers - a huge number of DDD patterns exist around how best to do this, but sticking to the basics is better than getting bogged down! But, you generally see at least:\n",
    "\n",
    "* an *application layer*: code handling presentation through UI or APIs; and\n",
    "* a *domain layer*: code implementing \"business logic\", i.e. logic rules of the application;\n",
    "* an *infrastructure layer*: code that deals with DBs, logging, etc"
   ]
  },
  {
   "cell_type": "markdown",
   "metadata": {},
   "source": [
    "Sometimes it is confused with UML, but UML is only a tool that may or may not be useful - DDD is a way of thinking. I would highly recommend Martin Fowler's work on this, for a broader understanding and deep-dive: https://martinfowler.com/tags/domain%20driven%20design.html"
   ]
  },
  {
   "cell_type": "markdown",
   "metadata": {},
   "source": [
    "DDD is prevalent in C#, where a lot of best-practice theory in the language ecosystem draws from DDD literature. Perhaps surprisingly for some, PHP's renaissance owed a huge amount to the purism of DDD advocates - PHP syntactically is (IMO) the best wide-spread scripting language for encouraging good programming practice. When PHP advocates in the late 2000s saw the damage poor code was doing to the language's reputation (and theirs!), library writers upped the bar high - the core PHP libraries have extremely strong principles around language style, idiom and design patterns. Modern web frameworks, such as Laravel and (especially) Symfony are excellent for educating new coders in those. But there's a long legacy to shake..."
   ]
  },
  {
   "cell_type": "markdown",
   "metadata": {},
   "source": [
    "Strangely, Python, which is a beautiful language, is much laxer about this, and gives little guidance or assistance. However, DDD, at its highest level, is a simple concept to start with."
   ]
  },
  {
   "cell_type": "markdown",
   "metadata": {},
   "source": [
    "The first step is building a domain model - this is entirely offline. To start, a concept of \"entities\" is useful: these are conceptual nouns that the domain-expert keeps referring to (also may be thought of as a stakeholder, or client, perhaps). The best way to tease these out is discussion - spot how they use words, what they refer to. The next concept is \"relationships\" - if they are a bridge-building company, they may talk about how many Arches (an entity) a Bridge (another entity) has. You can tell that one *bridge* has many *arches*. Perhaps a *surveyor* periodically \"surveys\" a bridge and \"signs it off\". Finally, there is the business logic: perhaps an application should insist that every *bridge* has an *arch* - this is a business rule - or that a surveyor only signs off a bridge if it is \"structurally sound\"."
   ]
  },
  {
   "cell_type": "markdown",
   "metadata": {},
   "source": [
    "A basic way of pulling together a diagram of this is PlantUML (abusing its class diagram syntax...):"
   ]
  },
  {
   "cell_type": "code",
   "execution_count": 4,
   "metadata": {},
   "outputs": [],
   "source": [
    "import iplantuml"
   ]
  },
  {
   "cell_type": "code",
   "execution_count": 19,
   "metadata": {},
   "outputs": [
    {
     "data": {
      "image/svg+xml": [
       "<svg contentScriptType=\"application/ecmascript\" contentStyleType=\"text/css\" height=\"380px\" preserveAspectRatio=\"none\" style=\"width:154px;height:380px;\" version=\"1.1\" viewBox=\"0 0 154 380\" width=\"154px\" xmlns=\"http://www.w3.org/2000/svg\" xmlns:xlink=\"http://www.w3.org/1999/xlink\" zoomAndPan=\"magnify\"><defs><filter height=\"300%\" id=\"fikru8qleakj0\" width=\"300%\" x=\"-1\" y=\"-1\"><feGaussianBlur result=\"blurOut\" stdDeviation=\"2.0\"/><feColorMatrix in=\"blurOut\" result=\"blurOut2\" type=\"matrix\" values=\"0 0 0 0 0 0 0 0 0 0 0 0 0 0 0 0 0 0 .4 0\"/><feOffset dx=\"4.0\" dy=\"4.0\" in=\"blurOut2\" result=\"blurOut3\"/><feBlend in=\"SourceGraphic\" in2=\"blurOut3\" mode=\"normal\"/></filter></defs><g><!--MD5=[eceda079a953f334a451af9ce441a01a]\n",
       "class Bridge--><rect fill=\"#FEFECE\" filter=\"url(#fikru8qleakj0)\" height=\"86.4141\" id=\"Bridge\" style=\"stroke: #A80036; stroke-width: 1.5;\" width=\"137\" x=\"6\" y=\"146\"/><ellipse cx=\"50.25\" cy=\"162\" fill=\"#ADD1B2\" rx=\"11\" ry=\"11\" style=\"stroke: #A80036; stroke-width: 1.0;\"/><path d=\"M52.5938,157.6719 C51.6563,157.2344 51.0625,157.0938 50.1875,157.0938 C47.5625,157.0938 45.5625,159.1719 45.5625,161.8906 L45.5625,163.0156 C45.5625,165.5938 47.6719,167.4844 50.5625,167.4844 C51.7813,167.4844 52.9375,167.1875 53.6875,166.6406 C54.2656,166.2344 54.5938,165.7813 54.5938,165.3906 C54.5938,164.9375 54.2031,164.5469 53.7344,164.5469 C53.5156,164.5469 53.3125,164.625 53.125,164.8125 C52.6719,165.2969 52.6719,165.2969 52.4844,165.3906 C52.0625,165.6563 51.375,165.7813 50.6094,165.7813 C48.5625,165.7813 47.2656,164.6875 47.2656,162.9844 L47.2656,161.8906 C47.2656,160.1094 48.5156,158.7969 50.25,158.7969 C50.8281,158.7969 51.4375,158.9531 51.9063,159.2031 C52.3906,159.4844 52.5625,159.7031 52.6563,160.1094 C52.7188,160.5156 52.75,160.6406 52.8906,160.7656 C53.0313,160.9063 53.2656,161.0156 53.4844,161.0156 C53.75,161.0156 54.0156,160.875 54.1875,160.6563 C54.2969,160.5 54.3281,160.3125 54.3281,159.8906 L54.3281,158.4688 C54.3281,158.0313 54.3125,157.9063 54.2188,157.75 C54.0625,157.4844 53.7813,157.3438 53.4844,157.3438 C53.1875,157.3438 52.9844,157.4375 52.7656,157.75 L52.5938,157.6719 Z \"/><text fill=\"#000000\" font-family=\"sans-serif\" font-size=\"12\" lengthAdjust=\"spacingAndGlyphs\" textLength=\"40\" x=\"70.75\" y=\"166.1543\">Bridge</text><line style=\"stroke: #A80036; stroke-width: 1.5;\" x1=\"7\" x2=\"142\" y1=\"178\" y2=\"178\"/><text fill=\"#000000\" font-family=\"sans-serif\" font-size=\"11\" lengthAdjust=\"spacingAndGlyphs\" textLength=\"36\" x=\"12\" y=\"192.2104\">length</text><text fill=\"#000000\" font-family=\"sans-serif\" font-size=\"11\" lengthAdjust=\"spacingAndGlyphs\" textLength=\"36\" x=\"12\" y=\"205.0151\">height</text><line style=\"stroke: #A80036; stroke-width: 1.0;\" x1=\"7\" x2=\"142\" y1=\"211.6094\" y2=\"211.6094\"/><text fill=\"#000000\" font-family=\"sans-serif\" font-size=\"11\" lengthAdjust=\"spacingAndGlyphs\" textLength=\"125\" x=\"12\" y=\"225.8198\">is_structurally_sound()</text><!--MD5=[97cec61d98002aaa71fd5209f974c962]\n",
       "class Surveyor--><rect fill=\"#FEFECE\" filter=\"url(#fikru8qleakj0)\" height=\"60.8047\" id=\"Surveyor\" style=\"stroke: #A80036; stroke-width: 1.5;\" width=\"87\" x=\"31\" y=\"8\"/><ellipse cx=\"46\" cy=\"24\" fill=\"#ADD1B2\" rx=\"11\" ry=\"11\" style=\"stroke: #A80036; stroke-width: 1.0;\"/><path d=\"M48.3438,19.6719 C47.4063,19.2344 46.8125,19.0938 45.9375,19.0938 C43.3125,19.0938 41.3125,21.1719 41.3125,23.8906 L41.3125,25.0156 C41.3125,27.5938 43.4219,29.4844 46.3125,29.4844 C47.5313,29.4844 48.6875,29.1875 49.4375,28.6406 C50.0156,28.2344 50.3438,27.7813 50.3438,27.3906 C50.3438,26.9375 49.9531,26.5469 49.4844,26.5469 C49.2656,26.5469 49.0625,26.625 48.875,26.8125 C48.4219,27.2969 48.4219,27.2969 48.2344,27.3906 C47.8125,27.6563 47.125,27.7813 46.3594,27.7813 C44.3125,27.7813 43.0156,26.6875 43.0156,24.9844 L43.0156,23.8906 C43.0156,22.1094 44.2656,20.7969 46,20.7969 C46.5781,20.7969 47.1875,20.9531 47.6563,21.2031 C48.1406,21.4844 48.3125,21.7031 48.4063,22.1094 C48.4688,22.5156 48.5,22.6406 48.6406,22.7656 C48.7813,22.9063 49.0156,23.0156 49.2344,23.0156 C49.5,23.0156 49.7656,22.875 49.9375,22.6563 C50.0469,22.5 50.0781,22.3125 50.0781,21.8906 L50.0781,20.4688 C50.0781,20.0313 50.0625,19.9063 49.9688,19.75 C49.8125,19.4844 49.5313,19.3438 49.2344,19.3438 C48.9375,19.3438 48.7344,19.4375 48.5156,19.75 L48.3438,19.6719 Z \"/><text fill=\"#000000\" font-family=\"sans-serif\" font-size=\"12\" lengthAdjust=\"spacingAndGlyphs\" textLength=\"55\" x=\"60\" y=\"28.1543\">Surveyor</text><line style=\"stroke: #A80036; stroke-width: 1.5;\" x1=\"32\" x2=\"117\" y1=\"40\" y2=\"40\"/><text fill=\"#000000\" font-family=\"sans-serif\" font-size=\"11\" lengthAdjust=\"spacingAndGlyphs\" textLength=\"33\" x=\"37\" y=\"54.2104\">name</text><line style=\"stroke: #A80036; stroke-width: 1.5;\" x1=\"32\" x2=\"117\" y1=\"60.8047\" y2=\"60.8047\"/><!--MD5=[7c376814b3847b404a133e42502654f7]\n",
       "class Arch--><rect fill=\"#FEFECE\" filter=\"url(#fikru8qleakj0)\" height=\"60.8047\" id=\"Arch\" style=\"stroke: #A80036; stroke-width: 1.5;\" width=\"64\" x=\"42.5\" y=\"309\"/><ellipse cx=\"59.75\" cy=\"325\" fill=\"#ADD1B2\" rx=\"11\" ry=\"11\" style=\"stroke: #A80036; stroke-width: 1.0;\"/><path d=\"M62.0938,320.6719 C61.1563,320.2344 60.5625,320.0938 59.6875,320.0938 C57.0625,320.0938 55.0625,322.1719 55.0625,324.8906 L55.0625,326.0156 C55.0625,328.5938 57.1719,330.4844 60.0625,330.4844 C61.2813,330.4844 62.4375,330.1875 63.1875,329.6406 C63.7656,329.2344 64.0938,328.7813 64.0938,328.3906 C64.0938,327.9375 63.7031,327.5469 63.2344,327.5469 C63.0156,327.5469 62.8125,327.625 62.625,327.8125 C62.1719,328.2969 62.1719,328.2969 61.9844,328.3906 C61.5625,328.6563 60.875,328.7813 60.1094,328.7813 C58.0625,328.7813 56.7656,327.6875 56.7656,325.9844 L56.7656,324.8906 C56.7656,323.1094 58.0156,321.7969 59.75,321.7969 C60.3281,321.7969 60.9375,321.9531 61.4063,322.2031 C61.8906,322.4844 62.0625,322.7031 62.1563,323.1094 C62.2188,323.5156 62.25,323.6406 62.3906,323.7656 C62.5313,323.9063 62.7656,324.0156 62.9844,324.0156 C63.25,324.0156 63.5156,323.875 63.6875,323.6563 C63.7969,323.5 63.8281,323.3125 63.8281,322.8906 L63.8281,321.4688 C63.8281,321.0313 63.8125,320.9063 63.7188,320.75 C63.5625,320.4844 63.2813,320.3438 62.9844,320.3438 C62.6875,320.3438 62.4844,320.4375 62.2656,320.75 L62.0938,320.6719 Z \"/><text fill=\"#000000\" font-family=\"sans-serif\" font-size=\"12\" lengthAdjust=\"spacingAndGlyphs\" textLength=\"27\" x=\"74.25\" y=\"329.1543\">Arch</text><line style=\"stroke: #A80036; stroke-width: 1.5;\" x1=\"43.5\" x2=\"105.5\" y1=\"341\" y2=\"341\"/><text fill=\"#000000\" font-family=\"sans-serif\" font-size=\"11\" lengthAdjust=\"spacingAndGlyphs\" textLength=\"52\" x=\"48.5\" y=\"355.2104\">diameter</text><line style=\"stroke: #A80036; stroke-width: 1.5;\" x1=\"43.5\" x2=\"105.5\" y1=\"361.8047\" y2=\"361.8047\"/><!--MD5=[009ce0f2898e3163fb52f67bcc2d953c]\n",
       "link Bridge to Arch--><path d=\"M74.5,232.157 C74.5,254.861 74.5,282.5219 74.5,303.9415 \" fill=\"none\" id=\"Bridge-&gt;Arch\" style=\"stroke: #A80036; stroke-width: 1.0;\"/><polygon fill=\"#A80036\" points=\"74.5,308.967,78.5,299.967,74.5,303.967,70.5,299.967,74.5,308.967\" style=\"stroke: #A80036; stroke-width: 1.0;\"/><text fill=\"#000000\" font-family=\"sans-serif\" font-size=\"13\" lengthAdjust=\"spacingAndGlyphs\" textLength=\"23\" x=\"75.5\" y=\"275.0669\">has</text><!--MD5=[03ea9c03a1c69ddfe1e207e3156aae5f]\n",
       "link Surveyor to Bridge--><path d=\"M40.1881,69.222 C28.8745,82.664 20.3468,99.269 25.5,116 C28.1662,124.657 32.2678,133.204 36.9871,141.221 \" fill=\"none\" id=\"Surveyor-&gt;Bridge\" style=\"stroke: #A80036; stroke-width: 1.0;\"/><polygon fill=\"#A80036\" points=\"39.6672,145.616,38.3974,135.8493,37.0644,141.3469,31.5668,140.0139,39.6672,145.616\" style=\"stroke: #A80036; stroke-width: 1.0;\"/><text fill=\"#000000\" font-family=\"sans-serif\" font-size=\"13\" lengthAdjust=\"spacingAndGlyphs\" textLength=\"51\" x=\"26.5\" y=\"112.0669\">surveys</text><!--MD5=[03ea9c03a1c69ddfe1e207e3156aae5f]\n",
       "link Surveyor to Bridge--><path d=\"M79.2703,69.081 C80.5934,78.606 81.8458,89.224 82.5,99 C83.4054,112.528 82.7602,127.193 81.5175,140.641 \" fill=\"none\" id=\"Surveyor-&gt;Bridge-1\" style=\"stroke: #A80036; stroke-width: 1.0;\"/><polygon fill=\"#A80036\" points=\"80.9933,145.927,85.8634,137.3665,81.4876,140.9515,77.9026,136.5757,80.9933,145.927\" style=\"stroke: #A80036; stroke-width: 1.0;\"/><text fill=\"#000000\" font-family=\"sans-serif\" font-size=\"13\" lengthAdjust=\"spacingAndGlyphs\" textLength=\"55\" x=\"83.5\" y=\"112.0669\">signs off</text><!--MD5=[2e492f3a4595c135f1fe330f51838b19]\n",
       "@startuml\n",
       "class Bridge {\n",
       "    length\n",
       "    height\n",
       "    - - - -\n",
       "    is_structurally_sound()\n",
       "}\n",
       "\n",
       "class Surveyor {\n",
       "   name\n",
       "}\n",
       "\n",
       "class Arch {\n",
       "    diameter\n",
       "}\n",
       "\n",
       "Bridge - -> Arch : has\n",
       "Surveyor - -> Bridge : surveys\n",
       "Surveyor - -> Bridge : signs off\n",
       "@enduml\n",
       "\n",
       "PlantUML version 1.2020.11(Sat May 30 10:13:43 UTC 2020)\n",
       "(GPL source distribution)\n",
       "Java Runtime: Java(TM) SE Runtime Environment\n",
       "JVM: Java HotSpot(TM) 64-Bit Server VM\n",
       "Default Encoding: UTF-8\n",
       "Language: en\n",
       "Country: US\n",
       "--></g></svg>"
      ],
      "text/plain": [
       "<IPython.core.display.SVG object>"
      ]
     },
     "execution_count": 19,
     "metadata": {},
     "output_type": "execute_result"
    }
   ],
   "source": [
    "%%plantuml\n",
    "\n",
    "@startuml\n",
    "class Bridge {\n",
    "    length\n",
    "    height\n",
    "    ----\n",
    "    is_structurally_sound()\n",
    "}\n",
    "\n",
    "class Surveyor {\n",
    "   name\n",
    "}\n",
    "\n",
    "class Arch {\n",
    "    diameter\n",
    "}\n",
    "\n",
    "Bridge --> Arch : has\n",
    "Surveyor --> Bridge : surveys\n",
    "Surveyor --> Bridge : signs off\n",
    "@enduml"
   ]
  },
  {
   "cell_type": "markdown",
   "metadata": {},
   "source": [
    "* a **surveyor** can only **sign off** a **bridge** if it is **structurally sound**\n",
    "* a **bridge** can have several **arches**\n",
    "* a **bridge** must have at least one **arch**\n",
    "* the total of all **diameters** of a **bridge**'s **arches** must be less than the **width** of the **bridge**"
   ]
  },
  {
   "cell_type": "markdown",
   "metadata": {},
   "source": [
    "---"
   ]
  },
  {
   "cell_type": "markdown",
   "metadata": {},
   "source": [
    "Strictly, in DDD, class diagrams are not really encouraged (partially because DDD has better tools for breaking down problems too complex for this monolithic approach), but they're adequate for getting you thinking along those lines."
   ]
  },
  {
   "cell_type": "markdown",
   "metadata": {},
   "source": [
    "A simple example:"
   ]
  },
  {
   "cell_type": "markdown",
   "metadata": {},
   "source": [
    "### Exercise: Knit Wit"
   ]
  },
  {
   "cell_type": "markdown",
   "metadata": {},
   "source": [
    "You have been commissioned to build a web application for choosing knitting patterns. Perhaps a gallery, but maybe different types of wool, or techniques, will show different patterns? Do you want to link out to sales sites? Do you have users?\n",
    "\n",
    "* Split up into 2 groups. Within your group, nominate one person as a \"product owner\" and one person as an \"architect\"\n",
    "* The product owner is commissioning the app - their word is law! But... (for this exercise) they do not participate in the app design. The other team members should quiz them to understand what the needs are - what entities do they talk about? How are they related? What business rules are there? (e.g. who should see what? does thick wool show the same designs as fine wool?)\n",
    "* The other team members should guide the architect (who screenshares this notebook) in producing a simple domain model diagram, and bullet point list of business logic rules - don't overcomplicate it! But make sure to use the _language_ of the product owner (entities and relationships)"
   ]
  },
  {
   "cell_type": "code",
   "execution_count": 20,
   "metadata": {},
   "outputs": [
    {
     "data": {
      "image/svg+xml": [
       "<svg contentScriptType=\"application/ecmascript\" contentStyleType=\"text/css\" height=\"192px\" preserveAspectRatio=\"none\" style=\"width:208px;height:192px;\" version=\"1.1\" viewBox=\"0 0 208 192\" width=\"208px\" xmlns=\"http://www.w3.org/2000/svg\" xmlns:xlink=\"http://www.w3.org/1999/xlink\" zoomAndPan=\"magnify\"><defs><filter height=\"300%\" id=\"ftgd61h4t0foc\" width=\"300%\" x=\"-1\" y=\"-1\"><feGaussianBlur result=\"blurOut\" stdDeviation=\"2.0\"/><feColorMatrix in=\"blurOut\" result=\"blurOut2\" type=\"matrix\" values=\"0 0 0 0 0 0 0 0 0 0 0 0 0 0 0 0 0 0 .4 0\"/><feOffset dx=\"4.0\" dy=\"4.0\" in=\"blurOut2\" result=\"blurOut3\"/><feBlend in=\"SourceGraphic\" in2=\"blurOut3\" mode=\"normal\"/></filter></defs><g><!--MD5=[a84b5e344b767443b49bf270afd4784c]\n",
       "class AnEntity--><rect fill=\"#FEFECE\" filter=\"url(#ftgd61h4t0foc)\" height=\"48\" id=\"AnEntity\" style=\"stroke: #A80036; stroke-width: 1.5;\" width=\"79\" x=\"22\" y=\"8\"/><ellipse cx=\"37\" cy=\"24\" fill=\"#ADD1B2\" rx=\"11\" ry=\"11\" style=\"stroke: #A80036; stroke-width: 1.0;\"/><path d=\"M39.3438,19.6719 C38.4063,19.2344 37.8125,19.0938 36.9375,19.0938 C34.3125,19.0938 32.3125,21.1719 32.3125,23.8906 L32.3125,25.0156 C32.3125,27.5938 34.4219,29.4844 37.3125,29.4844 C38.5313,29.4844 39.6875,29.1875 40.4375,28.6406 C41.0156,28.2344 41.3438,27.7813 41.3438,27.3906 C41.3438,26.9375 40.9531,26.5469 40.4844,26.5469 C40.2656,26.5469 40.0625,26.625 39.875,26.8125 C39.4219,27.2969 39.4219,27.2969 39.2344,27.3906 C38.8125,27.6563 38.125,27.7813 37.3594,27.7813 C35.3125,27.7813 34.0156,26.6875 34.0156,24.9844 L34.0156,23.8906 C34.0156,22.1094 35.2656,20.7969 37,20.7969 C37.5781,20.7969 38.1875,20.9531 38.6563,21.2031 C39.1406,21.4844 39.3125,21.7031 39.4063,22.1094 C39.4688,22.5156 39.5,22.6406 39.6406,22.7656 C39.7813,22.9063 40.0156,23.0156 40.2344,23.0156 C40.5,23.0156 40.7656,22.875 40.9375,22.6563 C41.0469,22.5 41.0781,22.3125 41.0781,21.8906 L41.0781,20.4688 C41.0781,20.0313 41.0625,19.9063 40.9688,19.75 C40.8125,19.4844 40.5313,19.3438 40.2344,19.3438 C39.9375,19.3438 39.7344,19.4375 39.5156,19.75 L39.3438,19.6719 Z \"/><text fill=\"#000000\" font-family=\"sans-serif\" font-size=\"12\" lengthAdjust=\"spacingAndGlyphs\" textLength=\"47\" x=\"51\" y=\"28.1543\">AnEntity</text><line style=\"stroke: #A80036; stroke-width: 1.5;\" x1=\"23\" x2=\"100\" y1=\"40\" y2=\"40\"/><line style=\"stroke: #A80036; stroke-width: 1.5;\" x1=\"23\" x2=\"100\" y1=\"48\" y2=\"48\"/><!--MD5=[dcbd755de95778b0970624ab9bdcab8e]\n",
       "class AnotherEntity--><rect fill=\"#FEFECE\" filter=\"url(#ftgd61h4t0foc)\" height=\"48\" id=\"AnotherEntity\" style=\"stroke: #A80036; stroke-width: 1.5;\" width=\"111\" x=\"6\" y=\"133\"/><ellipse cx=\"21\" cy=\"149\" fill=\"#ADD1B2\" rx=\"11\" ry=\"11\" style=\"stroke: #A80036; stroke-width: 1.0;\"/><path d=\"M23.3438,144.6719 C22.4063,144.2344 21.8125,144.0938 20.9375,144.0938 C18.3125,144.0938 16.3125,146.1719 16.3125,148.8906 L16.3125,150.0156 C16.3125,152.5938 18.4219,154.4844 21.3125,154.4844 C22.5313,154.4844 23.6875,154.1875 24.4375,153.6406 C25.0156,153.2344 25.3438,152.7813 25.3438,152.3906 C25.3438,151.9375 24.9531,151.5469 24.4844,151.5469 C24.2656,151.5469 24.0625,151.625 23.875,151.8125 C23.4219,152.2969 23.4219,152.2969 23.2344,152.3906 C22.8125,152.6563 22.125,152.7813 21.3594,152.7813 C19.3125,152.7813 18.0156,151.6875 18.0156,149.9844 L18.0156,148.8906 C18.0156,147.1094 19.2656,145.7969 21,145.7969 C21.5781,145.7969 22.1875,145.9531 22.6563,146.2031 C23.1406,146.4844 23.3125,146.7031 23.4063,147.1094 C23.4688,147.5156 23.5,147.6406 23.6406,147.7656 C23.7813,147.9063 24.0156,148.0156 24.2344,148.0156 C24.5,148.0156 24.7656,147.875 24.9375,147.6563 C25.0469,147.5 25.0781,147.3125 25.0781,146.8906 L25.0781,145.4688 C25.0781,145.0313 25.0625,144.9063 24.9688,144.75 C24.8125,144.4844 24.5313,144.3438 24.2344,144.3438 C23.9375,144.3438 23.7344,144.4375 23.5156,144.75 L23.3438,144.6719 Z \"/><text fill=\"#000000\" font-family=\"sans-serif\" font-size=\"12\" lengthAdjust=\"spacingAndGlyphs\" textLength=\"79\" x=\"35\" y=\"153.1543\">AnotherEntity</text><line style=\"stroke: #A80036; stroke-width: 1.5;\" x1=\"7\" x2=\"116\" y1=\"165\" y2=\"165\"/><line style=\"stroke: #A80036; stroke-width: 1.5;\" x1=\"7\" x2=\"116\" y1=\"173\" y2=\"173\"/><!--MD5=[732282bf846bb59bed220ef96208b210]\n",
       "link AnEntity to AnotherEntity--><path d=\"M61.5,56.135 C61.5,76.494 61.5,106.1907 61.5,127.908 \" fill=\"none\" id=\"AnEntity-&gt;AnotherEntity\" style=\"stroke: #A80036; stroke-width: 1.0;\"/><polygon fill=\"#A80036\" points=\"61.5,132.9684,65.5,123.9684,61.5,127.9684,57.5,123.9684,61.5,132.9684\" style=\"stroke: #A80036; stroke-width: 1.0;\"/><text fill=\"#000000\" font-family=\"sans-serif\" font-size=\"13\" lengthAdjust=\"spacingAndGlyphs\" textLength=\"134\" x=\"62.5\" y=\"99.0669\">does something with</text><!--MD5=[f5e2c7ef7d22740c70c471ee5b17a1f6]\n",
       "@startuml\n",
       "class AnEntity {\n",
       "}\n",
       "\n",
       "class AnotherEntity {\n",
       "}\n",
       "\n",
       "AnEntity - -> AnotherEntity : \"does something with\"\n",
       "@enduml\n",
       "\n",
       "PlantUML version 1.2020.11(Sat May 30 10:13:43 UTC 2020)\n",
       "(GPL source distribution)\n",
       "Java Runtime: Java(TM) SE Runtime Environment\n",
       "JVM: Java HotSpot(TM) 64-Bit Server VM\n",
       "Default Encoding: UTF-8\n",
       "Language: en\n",
       "Country: US\n",
       "--></g></svg>"
      ],
      "text/plain": [
       "<IPython.core.display.SVG object>"
      ]
     },
     "execution_count": 20,
     "metadata": {},
     "output_type": "execute_result"
    }
   ],
   "source": [
    "%%plantuml\n",
    "\n",
    "class AnEntity {\n",
    "}\n",
    "\n",
    "class AnotherEntity {\n",
    "}\n",
    "\n",
    "AnEntity --> AnotherEntity : \"does something with\""
   ]
  },
  {
   "cell_type": "markdown",
   "metadata": {},
   "source": [
    "* Rule 1 about **AnEntity** ....\n",
    "* Rule 2...."
   ]
  },
  {
   "cell_type": "markdown",
   "metadata": {},
   "source": [
    "----"
   ]
  },
  {
   "cell_type": "markdown",
   "metadata": {},
   "source": [
    "The second phase is as follows:"
   ]
  },
  {
   "cell_type": "markdown",
   "metadata": {},
   "source": [
    "* Pass the entity relationship to the other group (architects can save their notebook in the Shared folder)\n",
    "* Architects: create an Etherpad link that your own group can share between them: https://pad.riseup.net/\n",
    "* In your groups, try and take the other group's diagram and create classes based on it, relating to entities, and to give them methods and properties using only, where possible, the language that you have been given. Don't worry about implementing them! Just add a comment to the method body to explain what it does. Use the Etherpad link created by your architect to work on it collaboratively."
   ]
  },
  {
   "cell_type": "markdown",
   "metadata": {},
   "source": [
    "### Additional Resources"
   ]
  },
  {
   "cell_type": "markdown",
   "metadata": {},
   "source": [
    "* https://github.com/valignatev/ddd-dynamic\n",
    "* https://github.com/Softwarepark/exercises/blob/master/transport-tycoon.md - programming challenges and solutions, including in Python, with DDD, using Transport Tycoon scenarios as motivation"
   ]
  },
  {
   "cell_type": "markdown",
   "metadata": {},
   "source": [
    "## Anaemic Domain Model\n",
    "\n",
    "This anti-pattern or code smell is about the use of OOP to disguise procedural programming. That is, using core classes as simple data stores, and not thinking hard about them representing some sort of entity - for instance, if I have a User:"
   ]
  },
  {
   "cell_type": "code",
   "execution_count": 27,
   "metadata": {},
   "outputs": [
    {
     "data": {
      "text/plain": [
       "'Hi, my name is Ash'"
      ]
     },
     "execution_count": 27,
     "metadata": {},
     "output_type": "execute_result"
    }
   ],
   "source": [
    "class User:\n",
    "    def __init__(self, name):\n",
    "        self.name = name\n",
    "        \n",
    "def user_greeting(user):\n",
    "    return f\"Hi, my name is {user.name}\"\n",
    "\n",
    "def check_user_has_name(user):\n",
    "    if not user.name:\n",
    "        raise RuntimeException(\"User has no name\")\n",
    "\n",
    "ash = User('Ash')\n",
    "check_user_has_name(ash)\n",
    "user_greeting(ash)"
   ]
  },
  {
   "cell_type": "markdown",
   "metadata": {},
   "source": [
    "This User doesn't do anything! They are only a name, with no actions. But yet... we have a function that makes a user \"greet\". An obvious question is, if a \"user greets someone\", why is \"greeting\" not a \"User\" method? This is a simplistic example, but you should question a class that has no methods, or business logic in it...\n",
    "\n",
    "There is a use case for largely methodless classes, \"Value Objects\", as they are known, but the rule of thumb is that they should only be used when they have no conceptual existence beyond their value - for example, two colours are interchangeable if they have the same hex-code (often a value object), but two users are not interchangeable just because they have the same name!\n",
    "\n",
    "Another question is why business logic specific to a user shouldn't be part of a user class - could check_user_has_name be something inherent to a user?"
   ]
  },
  {
   "cell_type": "code",
   "execution_count": 30,
   "metadata": {},
   "outputs": [
    {
     "data": {
      "text/plain": [
       "'Hi, my name is Ash'"
      ]
     },
     "execution_count": 30,
     "metadata": {},
     "output_type": "execute_result"
    }
   ],
   "source": [
    "class User:\n",
    "    def __init__(self, name):\n",
    "        self.name = name\n",
    "        \n",
    "    def greet(self):\n",
    "        return f\"Hi, my name is {self.name}\"\n",
    "\n",
    "    def check_has_name(self):\n",
    "        if not self.name:\n",
    "            raise RuntimeException(\"I have no name\")\n",
    "\n",
    "ash = User('Ash')\n",
    "ash.check_has_name()\n",
    "ash.greet()"
   ]
  },
  {
   "cell_type": "markdown",
   "metadata": {},
   "source": [
    "## Call Super"
   ]
  },
  {
   "cell_type": "markdown",
   "metadata": {},
   "source": [
    "This one is particularly tempting in Python - it's not a massive issue, but it touches on a number of underlying OOP principles."
   ]
  },
  {
   "cell_type": "markdown",
   "metadata": {},
   "source": [
    "Lets suppose that we have a library that defines a User that sits in a chair (odd library, but hey)."
   ]
  },
  {
   "cell_type": "code",
   "execution_count": 37,
   "metadata": {},
   "outputs": [],
   "source": [
    "class User:\n",
    "    in_chair = True\n",
    "    \n",
    "    def stand_up(self):\n",
    "        self.in_chair = False\n",
    "    \n",
    "    # Don't forget to call this go_to_door method if overriding!!\n",
    "    def go_to_door(self):\n",
    "        self.stand_up()"
   ]
  },
  {
   "cell_type": "markdown",
   "metadata": {},
   "source": [
    "We wish to use this user in our own class."
   ]
  },
  {
   "cell_type": "code",
   "execution_count": 36,
   "metadata": {},
   "outputs": [],
   "source": [
    "# In my own class\n",
    "class Receptionist(User):\n",
    "    behind_desk = True\n",
    "\n",
    "    def go_to_door(self):\n",
    "        self.behind_desk = False\n",
    "        super(Receptionist).go_to_door()"
   ]
  },
  {
   "cell_type": "markdown",
   "metadata": {},
   "source": [
    "Here, any subclass of User, must remember to run `super(MyClass).go_to_door()` or else..."
   ]
  },
  {
   "cell_type": "code",
   "execution_count": 41,
   "metadata": {},
   "outputs": [
    {
     "data": {
      "text/plain": [
       "(True, False)"
      ]
     },
     "execution_count": 41,
     "metadata": {},
     "output_type": "execute_result"
    }
   ],
   "source": [
    "class Receptionist(User):\n",
    "    behind_desk = True\n",
    "\n",
    "    def go_to_door(self):\n",
    "        self.behind_desk = False\n",
    "        \n",
    "dan = Receptionist()\n",
    "dan.go_to_door()\n",
    "dan.in_chair, dan.behind_desk"
   ]
  },
  {
   "cell_type": "markdown",
   "metadata": {},
   "source": [
    "🤔"
   ]
  },
  {
   "cell_type": "markdown",
   "metadata": {},
   "source": [
    "All subclasses must remember to call the superclass's method - if they forget, or misread the docs, an inconsistent state is created. This is a specific case of a wider principle. Quoting Martin Fowler:\n",
    "\n",
    "> Whenever you have to remember to do something every time, that's a sign of a bad API."
   ]
  },
  {
   "cell_type": "markdown",
   "metadata": {},
   "source": [
    "How do you deal with that? One option is to use a \"hook\"."
   ]
  },
  {
   "cell_type": "code",
   "execution_count": 38,
   "metadata": {},
   "outputs": [],
   "source": [
    "class User:\n",
    "    in_chair = True\n",
    "    \n",
    "    def stand_up(self):\n",
    "        self.in_chair = False\n",
    "    \n",
    "    def go_to_door(self):\n",
    "        self.stand_up()\n",
    "        self.do_going_to_door()\n",
    "        \n",
    "    # Override this!\n",
    "    def do_going_to_door(self):\n",
    "        pass"
   ]
  },
  {
   "cell_type": "code",
   "execution_count": 40,
   "metadata": {},
   "outputs": [
    {
     "data": {
      "text/plain": [
       "(False, False)"
      ]
     },
     "execution_count": 40,
     "metadata": {},
     "output_type": "execute_result"
    }
   ],
   "source": [
    "class Receptionist(User):\n",
    "    behind_desk = True\n",
    "\n",
    "    def do_going_to_door(self):\n",
    "        self.behind_desk = False\n",
    "        \n",
    "dan = Receptionist()\n",
    "dan.go_to_door()\n",
    "dan.in_chair, dan.behind_desk"
   ]
  },
  {
   "cell_type": "markdown",
   "metadata": {},
   "source": [
    "Success - Dan is at the door, and not still sitting down or behind a desk."
   ]
  },
  {
   "cell_type": "markdown",
   "metadata": {},
   "source": [
    "### Getters and Setters"
   ]
  },
  {
   "cell_type": "markdown",
   "metadata": {},
   "source": [
    "Particularly tempting if you are coming from a Java or C# background, Python discourages lots of getter and setter methods in code. In part, because Python (for better or worse) philosophically puts much less emphasis on privacy of class members. In part, because it has more Pythonic ways of doing it..."
   ]
  },
  {
   "cell_type": "code",
   "execution_count": 43,
   "metadata": {},
   "outputs": [
    {
     "data": {
      "text/plain": [
       "0.9"
      ]
     },
     "execution_count": 43,
     "metadata": {},
     "output_type": "execute_result"
    }
   ],
   "source": [
    "class Biscuit:\n",
    "    crumbliness_coefficient = 0.3\n",
    "    \n",
    "    def get_crumbliness_coefficient(self):\n",
    "        return self.crumbliness_coefficient\n",
    "    \n",
    "    def set_crumbliness_coefficient(self, crumble):\n",
    "        self.crumbliness_coefficient = crumble\n",
    "        \n",
    "flapjack = Biscuit()\n",
    "flapjack.set_crumbliness_coefficient(0.9)\n",
    "flapjack.get_crumbliness_coefficient()"
   ]
  },
  {
   "cell_type": "markdown",
   "metadata": {},
   "source": [
    "Python is more focused on succinctness and clarity:"
   ]
  },
  {
   "cell_type": "code",
   "execution_count": 47,
   "metadata": {},
   "outputs": [
    {
     "data": {
      "text/plain": [
       "0.9"
      ]
     },
     "execution_count": 47,
     "metadata": {},
     "output_type": "execute_result"
    }
   ],
   "source": [
    "class Biscuit:\n",
    "    crumbliness_coefficient = 0.3\n",
    "    \n",
    "flapjack = Biscuit()\n",
    "flapjack.crumbliness_coefficient = 0.9\n",
    "flapjack.crumbliness_coefficient"
   ]
  },
  {
   "cell_type": "markdown",
   "metadata": {},
   "source": [
    "Of course, there are some cases when this breach of encapsulation is a bit too much, or you need to do some processing."
   ]
  },
  {
   "cell_type": "code",
   "execution_count": 52,
   "metadata": {},
   "outputs": [
    {
     "data": {
      "text/plain": [
       "0.9"
      ]
     },
     "execution_count": 52,
     "metadata": {},
     "output_type": "execute_result"
    }
   ],
   "source": [
    "class Biscuit:\n",
    "    _crumbliness_coefficient = 0.3\n",
    "    \n",
    "    @property\n",
    "    def crumbliness_coefficient(self):\n",
    "        return self._crumbliness_coefficient\n",
    "    \n",
    "    @crumbliness_coefficient.setter\n",
    "    def crumbliness_coefficient(self, crumble):\n",
    "        self._crumbliness_coefficient = crumble\n",
    "        \n",
    "flapjack = Biscuit()\n",
    "flapjack.crumbliness_coefficient = 0.9\n",
    "flapjack.crumbliness_coefficient"
   ]
  },
  {
   "cell_type": "markdown",
   "metadata": {},
   "source": [
    "Note the use of an underscore to indicate that `_crumbliness_coefficient` should be protected within the class..."
   ]
  },
  {
   "cell_type": "code",
   "execution_count": 53,
   "metadata": {},
   "outputs": [
    {
     "data": {
      "text/plain": [
       "0.9"
      ]
     },
     "execution_count": 53,
     "metadata": {},
     "output_type": "execute_result"
    }
   ],
   "source": [
    "flapjack._crumbliness_coefficient"
   ]
  },
  {
   "cell_type": "markdown",
   "metadata": {},
   "source": [
    "...but that is convention. Not generally recommended, but we can go one step further (especially if talking about strictly private methods), and use a double-underscore - Python will enforce this."
   ]
  },
  {
   "cell_type": "code",
   "execution_count": 56,
   "metadata": {},
   "outputs": [
    {
     "data": {
      "text/plain": [
       "0.9"
      ]
     },
     "execution_count": 56,
     "metadata": {},
     "output_type": "execute_result"
    }
   ],
   "source": [
    "class Biscuit:\n",
    "    __crumbliness_coefficient = 0.3\n",
    "    \n",
    "    @property\n",
    "    def crumbliness_coefficient(self):\n",
    "        return self.__crumbliness_coefficient\n",
    "    \n",
    "    @crumbliness_coefficient.setter\n",
    "    def crumbliness_coefficient(self, crumble):\n",
    "        self.__crumbliness_coefficient = crumble\n",
    "        \n",
    "flapjack = Biscuit()\n",
    "flapjack.crumbliness_coefficient = 0.9\n",
    "flapjack.crumbliness_coefficient"
   ]
  },
  {
   "cell_type": "code",
   "execution_count": 57,
   "metadata": {},
   "outputs": [
    {
     "ename": "AttributeError",
     "evalue": "'Biscuit' object has no attribute '__crumbliness_coefficient'",
     "output_type": "error",
     "traceback": [
      "\u001b[0;31m---------------------------------------------------------------------------\u001b[0m",
      "\u001b[0;31mAttributeError\u001b[0m                            Traceback (most recent call last)",
      "\u001b[0;32m<ipython-input-57-22680e1d863d>\u001b[0m in \u001b[0;36m<module>\u001b[0;34m\u001b[0m\n\u001b[0;32m----> 1\u001b[0;31m \u001b[0mflapjack\u001b[0m\u001b[0;34m.\u001b[0m\u001b[0m__crumbliness_coefficient\u001b[0m\u001b[0;34m\u001b[0m\u001b[0;34m\u001b[0m\u001b[0m\n\u001b[0m",
      "\u001b[0;31mAttributeError\u001b[0m: 'Biscuit' object has no attribute '__crumbliness_coefficient'"
     ]
    }
   ],
   "source": [
    "flapjack.__crumbliness_coefficient"
   ]
  },
  {
   "cell_type": "markdown",
   "metadata": {},
   "source": [
    "# Mix-and-match Types"
   ]
  },
  {
   "cell_type": "markdown",
   "metadata": {},
   "source": [
    "Realistically, there are occasions where this one is necessary or even desirable, but far fewer than you would see in the wild. In contrast to the previous, coming from a Java or C# background should make you less susceptible..."
   ]
  },
  {
   "cell_type": "code",
   "execution_count": 62,
   "metadata": {},
   "outputs": [],
   "source": [
    "class Prisoner:\n",
    "    def __init__(self, name):\n",
    "        self.name = name\n",
    "        \n",
    "    def get_number(self):\n",
    "        if self.name == 'Valjean':\n",
    "            return 24601\n",
    "        elif self.name == 'Number Six':\n",
    "            return 6\n",
    "        elif self.name == 'Bird man of Alcatraz':\n",
    "            return '#594'\n",
    "        else:\n",
    "            return None"
   ]
  },
  {
   "cell_type": "markdown",
   "metadata": {},
   "source": [
    "While there are a couple of issues there, this succinctly shows a method that can return three different types. Why is that an issue?"
   ]
  },
  {
   "cell_type": "code",
   "execution_count": 63,
   "metadata": {},
   "outputs": [
    {
     "data": {
      "text/plain": [
       "'Prison number: #594'"
      ]
     },
     "execution_count": 63,
     "metadata": {},
     "output_type": "execute_result"
    }
   ],
   "source": [
    "robert_stroud = Prisoner('Bird man of Alcatraz')\n",
    "'Prison number: ' + robert_stroud.get_number()"
   ]
  },
  {
   "cell_type": "markdown",
   "metadata": {},
   "source": [
    "That all seems fine in a test, but..."
   ]
  },
  {
   "cell_type": "code",
   "execution_count": 65,
   "metadata": {},
   "outputs": [
    {
     "ename": "TypeError",
     "evalue": "can only concatenate str (not \"int\") to str",
     "output_type": "error",
     "traceback": [
      "\u001b[0;31m---------------------------------------------------------------------------\u001b[0m",
      "\u001b[0;31mTypeError\u001b[0m                                 Traceback (most recent call last)",
      "\u001b[0;32m<ipython-input-65-bcb97be1f9ed>\u001b[0m in \u001b[0;36m<module>\u001b[0;34m\u001b[0m\n\u001b[1;32m      1\u001b[0m \u001b[0mmayor_madeleine\u001b[0m \u001b[0;34m=\u001b[0m \u001b[0mPrisoner\u001b[0m\u001b[0;34m(\u001b[0m\u001b[0;34m'Valjean'\u001b[0m\u001b[0;34m)\u001b[0m\u001b[0;34m\u001b[0m\u001b[0;34m\u001b[0m\u001b[0m\n\u001b[0;32m----> 2\u001b[0;31m \u001b[0;34m'Prison number: '\u001b[0m \u001b[0;34m+\u001b[0m \u001b[0mmayor_madeleine\u001b[0m\u001b[0;34m.\u001b[0m\u001b[0mget_number\u001b[0m\u001b[0;34m(\u001b[0m\u001b[0;34m)\u001b[0m\u001b[0;34m\u001b[0m\u001b[0;34m\u001b[0m\u001b[0m\n\u001b[0m",
      "\u001b[0;31mTypeError\u001b[0m: can only concatenate str (not \"int\") to str"
     ]
    }
   ],
   "source": [
    "mayor_madeleine = Prisoner('Valjean')\n",
    "'Prison number: ' + mayor_madeleine.get_number()"
   ]
  },
  {
   "cell_type": "markdown",
   "metadata": {},
   "source": [
    "or..."
   ]
  },
  {
   "cell_type": "code",
   "execution_count": 76,
   "metadata": {},
   "outputs": [
    {
     "ename": "TypeError",
     "evalue": "can only concatenate str (not \"NoneType\") to str",
     "output_type": "error",
     "traceback": [
      "\u001b[0;31m---------------------------------------------------------------------------\u001b[0m",
      "\u001b[0;31mTypeError\u001b[0m                                 Traceback (most recent call last)",
      "\u001b[0;32m<ipython-input-76-9f69c30e84c4>\u001b[0m in \u001b[0;36m<module>\u001b[0;34m\u001b[0m\n\u001b[1;32m      1\u001b[0m \u001b[0mmary_stuart\u001b[0m \u001b[0;34m=\u001b[0m \u001b[0mPrisoner\u001b[0m\u001b[0;34m(\u001b[0m\u001b[0;34m'Mary Queen of Scots'\u001b[0m\u001b[0;34m)\u001b[0m\u001b[0;34m\u001b[0m\u001b[0;34m\u001b[0m\u001b[0m\n\u001b[0;32m----> 2\u001b[0;31m \u001b[0;34m'Prison number: '\u001b[0m \u001b[0;34m+\u001b[0m \u001b[0mmary_stuart\u001b[0m\u001b[0;34m.\u001b[0m\u001b[0mget_number\u001b[0m\u001b[0;34m(\u001b[0m\u001b[0;34m)\u001b[0m\u001b[0;34m\u001b[0m\u001b[0;34m\u001b[0m\u001b[0m\n\u001b[0m",
      "\u001b[0;31mTypeError\u001b[0m: can only concatenate str (not \"NoneType\") to str"
     ]
    }
   ],
   "source": [
    "mary_stuart = Prisoner('Mary Queen of Scots')\n",
    "'Prison number: ' + mary_stuart.get_number()"
   ]
  },
  {
   "cell_type": "markdown",
   "metadata": {},
   "source": [
    "One approach for helping constrain types going in and out of a function or method is Python's relatively recent typing syntax."
   ]
  },
  {
   "cell_type": "code",
   "execution_count": 82,
   "metadata": {},
   "outputs": [],
   "source": [
    "class Prisoner:\n",
    "    def __init__(self, name: str):\n",
    "        self.name = name\n",
    "        \n",
    "    def get_number(self) -> str:\n",
    "        if self.name == 'Valjean':\n",
    "            return 24601\n",
    "        elif self.name == 'Number Six':\n",
    "            return 6\n",
    "        elif self.name == 'Bird man of Alcatraz':\n",
    "            return '#594'\n",
    "        else:\n",
    "            return None\n",
    "\n",
    "        \n",
    "cell_content = In[-1]"
   ]
  },
  {
   "cell_type": "markdown",
   "metadata": {},
   "source": [
    "Python's type-checking is actually very powerful, allowing C++-style templating of types to be checked - for instance, a sequence of floats or Prisoners (that will throw an exception if it is passed a list with an int in it). A static type-checker is then able to check for these kind of issues - a good example is `mypy`, which is normally run for the command line. If we dump out the previous cell to a file, we can try it... "
   ]
  },
  {
   "cell_type": "code",
   "execution_count": 83,
   "metadata": {},
   "outputs": [],
   "source": [
    "with open('prisoner.py', 'w') as f:\n",
    "    f.write(cell_content)"
   ]
  },
  {
   "cell_type": "code",
   "execution_count": 84,
   "metadata": {},
   "outputs": [
    {
     "name": "stdout",
     "output_type": "stream",
     "text": [
      "prisoner.py:7: \u001b[1m\u001b[31merror:\u001b[m Incompatible return value type (got \u001b[m\u001b[1m\"int\"\u001b[m, expected \u001b[m\u001b[1m\"str\"\u001b[m)\u001b[m\r\n",
      "prisoner.py:9: \u001b[1m\u001b[31merror:\u001b[m Incompatible return value type (got \u001b[m\u001b[1m\"int\"\u001b[m, expected \u001b[m\u001b[1m\"str\"\u001b[m)\u001b[m\r\n",
      "prisoner.py:13: \u001b[1m\u001b[31merror:\u001b[m Incompatible return value type (got \u001b[m\u001b[1m\"None\"\u001b[m, expected \u001b[m\u001b[1m\"str\"\u001b[m)\u001b[m\r\n",
      "prisoner.py:16: \u001b[1m\u001b[31merror:\u001b[m Name 'In' is not defined\u001b[m\r\n",
      "\u001b[1m\u001b[31mFound 4 errors in 1 file (checked 1 source file)\u001b[m\r\n"
     ]
    }
   ],
   "source": [
    "!mypy prisoner.py"
   ]
  },
  {
   "cell_type": "markdown",
   "metadata": {},
   "source": [
    "### Exercise: Typing Practice"
   ]
  },
  {
   "cell_type": "markdown",
   "metadata": {},
   "source": [
    "Create a `Game` class - it should create a property, its `board` that is a 3x3 list of lists or numpy array. You should have a method `move` that can take a string `x` or a string `o`. It should also return a nice board representation when `board_to_string` is called (make it fancy if you like!)."
   ]
  },
  {
   "cell_type": "code",
   "execution_count": 101,
   "metadata": {},
   "outputs": [
    {
     "name": "stdout",
     "output_type": "stream",
     "text": [
      "-----\n",
      "|o  |\n",
      "|xo |\n",
      "|   |\n",
      "-----\n"
     ]
    }
   ],
   "source": [
    "my_game = Game()\n",
    "my_game.move('x', 0, 0)\n",
    "my_game.move('o', 1, 1)\n",
    "my_game.move('x', 1, 0)\n",
    "my_game.move('o', 0, 0)\n",
    "\n",
    "print(my_game.board_to_string())"
   ]
  },
  {
   "cell_type": "code",
   "execution_count": 102,
   "metadata": {
    "hideCode": true
   },
   "outputs": [],
   "source": [
    "# ANANSWER\n",
    "\n",
    "class Game:\n",
    "    def __init__(self):\n",
    "        self.board = [\n",
    "            [None, None, None],\n",
    "            [None, None, None],\n",
    "            [None, None, None]\n",
    "        ]\n",
    "        \n",
    "    def move(self, counter, i, j):\n",
    "        self.board[i][j] = counter\n",
    "        \n",
    "    def board_to_string(self):\n",
    "        board = '-' * 5 + '\\n'\n",
    "        for row in self.board:\n",
    "            board += '|'\n",
    "            board += ''.join([counter if counter else ' ' for counter in row])\n",
    "            board += '|\\n'\n",
    "        board += '-' * 5\n",
    "            \n",
    "        return board"
   ]
  },
  {
   "cell_type": "markdown",
   "metadata": {},
   "source": [
    "### Extension 0"
   ]
  },
  {
   "cell_type": "markdown",
   "metadata": {},
   "source": [
    "Throw an exception if the cell you wish to move to already has a counter in it."
   ]
  },
  {
   "cell_type": "markdown",
   "metadata": {},
   "source": [
    "Now, create two exceptions by subclassing RuntimeError - one for winning, and one for a draw. The move method should fire either of these if appropriate."
   ]
  },
  {
   "cell_type": "markdown",
   "metadata": {},
   "source": [
    "### Extension 1"
   ]
  },
  {
   "cell_type": "markdown",
   "metadata": {},
   "source": [
    "Try adding type-checking to every method of game - both arguments (except `self`) and return values (with `->`)"
   ]
  },
  {
   "cell_type": "markdown",
   "metadata": {},
   "source": [
    "### Extension 2"
   ]
  },
  {
   "cell_type": "markdown",
   "metadata": {},
   "source": [
    "A useful class that can help constrain values to a discrete set is `Enum`."
   ]
  },
  {
   "cell_type": "code",
   "execution_count": 106,
   "metadata": {},
   "outputs": [],
   "source": [
    "from enum import Enum\n",
    "\n",
    "class Counter(Enum):\n",
    "    X = 'x'\n",
    "    O = 'o'\n",
    "    \n",
    "X = Counter.X\n",
    "O = Counter.O\n",
    "\n",
    "my_game.move(X, 1, 0)"
   ]
  },
  {
   "cell_type": "code",
   "execution_count": 108,
   "metadata": {},
   "outputs": [
    {
     "data": {
      "text/plain": [
       "'x'"
      ]
     },
     "execution_count": 108,
     "metadata": {},
     "output_type": "execute_result"
    }
   ],
   "source": [
    "X.value"
   ]
  },
  {
   "cell_type": "markdown",
   "metadata": {},
   "source": [
    "Can you adapt your `my_game.board_to_string` to use your Counters? Hint: `X.value` is the string `x`."
   ]
  },
  {
   "cell_type": "markdown",
   "metadata": {},
   "source": [
    "For your type-checking to work, you will need to now check that the first non-self argument to `move` is a Counter. Have a look at the type-hints docs to see how to do that."
   ]
  },
  {
   "cell_type": "markdown",
   "metadata": {},
   "source": [
    "### Extension Squared"
   ]
  },
  {
   "cell_type": "markdown",
   "metadata": {},
   "source": [
    "If you're feeling brave, can you implement a simple AI to play against you? It will move (and call the `move` method for its own move) when you call a `Game.play` method. To begin with, get it to pick the first empty cell and set its counter there. You should throw an exception if `move` is called on its move, or `play` is called on yours."
   ]
  },
  {
   "cell_type": "markdown",
   "metadata": {},
   "source": [
    "Once you have that working, try to get it to play a sensible algorithm. Theoretically, if it goes first and takes the centre cell, and always blocks you getting three, it will at least always draw!"
   ]
  },
  {
   "cell_type": "markdown",
   "metadata": {},
   "source": [
    "# Sequential Coupling"
   ]
  },
  {
   "cell_type": "markdown",
   "metadata": {},
   "source": [
    "This is an easy-to-fall-into trap, where methods must be called in a certain order to work. Sometimes it is unavoidable, but a common workaround is to use that hook pattern we saw earlier."
   ]
  },
  {
   "cell_type": "code",
   "execution_count": 110,
   "metadata": {},
   "outputs": [
    {
     "data": {
      "text/plain": [
       "10"
      ]
     },
     "execution_count": 110,
     "metadata": {},
     "output_type": "execute_result"
    }
   ],
   "source": [
    "class Model:\n",
    "    def build(self):\n",
    "        self.vector = [1, 2, 3, 4]\n",
    "        \n",
    "    def run(self):\n",
    "        return sum(self.vector)\n",
    "\n",
    "model = Model()\n",
    "model.build()\n",
    "model.run()"
   ]
  },
  {
   "cell_type": "code",
   "execution_count": 111,
   "metadata": {},
   "outputs": [
    {
     "ename": "AttributeError",
     "evalue": "'Model' object has no attribute 'vector'",
     "output_type": "error",
     "traceback": [
      "\u001b[0;31m---------------------------------------------------------------------------\u001b[0m",
      "\u001b[0;31mAttributeError\u001b[0m                            Traceback (most recent call last)",
      "\u001b[0;32m<ipython-input-111-a9a8bd0033b8>\u001b[0m in \u001b[0;36m<module>\u001b[0;34m\u001b[0m\n\u001b[1;32m      1\u001b[0m \u001b[0mmodel\u001b[0m \u001b[0;34m=\u001b[0m \u001b[0mModel\u001b[0m\u001b[0;34m(\u001b[0m\u001b[0;34m)\u001b[0m\u001b[0;34m\u001b[0m\u001b[0;34m\u001b[0m\u001b[0m\n\u001b[0;32m----> 2\u001b[0;31m \u001b[0mmodel\u001b[0m\u001b[0;34m.\u001b[0m\u001b[0mrun\u001b[0m\u001b[0;34m(\u001b[0m\u001b[0;34m)\u001b[0m\u001b[0;34m\u001b[0m\u001b[0;34m\u001b[0m\u001b[0m\n\u001b[0m\u001b[1;32m      3\u001b[0m \u001b[0mmodel\u001b[0m\u001b[0;34m.\u001b[0m\u001b[0mbuild\u001b[0m\u001b[0;34m(\u001b[0m\u001b[0;34m)\u001b[0m\u001b[0;34m\u001b[0m\u001b[0;34m\u001b[0m\u001b[0m\n",
      "\u001b[0;32m<ipython-input-110-b94346577222>\u001b[0m in \u001b[0;36mrun\u001b[0;34m(self)\u001b[0m\n\u001b[1;32m      4\u001b[0m \u001b[0;34m\u001b[0m\u001b[0m\n\u001b[1;32m      5\u001b[0m     \u001b[0;32mdef\u001b[0m \u001b[0mrun\u001b[0m\u001b[0;34m(\u001b[0m\u001b[0mself\u001b[0m\u001b[0;34m)\u001b[0m\u001b[0;34m:\u001b[0m\u001b[0;34m\u001b[0m\u001b[0;34m\u001b[0m\u001b[0m\n\u001b[0;32m----> 6\u001b[0;31m         \u001b[0;32mreturn\u001b[0m \u001b[0msum\u001b[0m\u001b[0;34m(\u001b[0m\u001b[0mself\u001b[0m\u001b[0;34m.\u001b[0m\u001b[0mvector\u001b[0m\u001b[0;34m)\u001b[0m\u001b[0;34m\u001b[0m\u001b[0;34m\u001b[0m\u001b[0m\n\u001b[0m\u001b[1;32m      7\u001b[0m \u001b[0;34m\u001b[0m\u001b[0m\n\u001b[1;32m      8\u001b[0m \u001b[0mmodel\u001b[0m \u001b[0;34m=\u001b[0m \u001b[0mModel\u001b[0m\u001b[0;34m(\u001b[0m\u001b[0;34m)\u001b[0m\u001b[0;34m\u001b[0m\u001b[0;34m\u001b[0m\u001b[0m\n",
      "\u001b[0;31mAttributeError\u001b[0m: 'Model' object has no attribute 'vector'"
     ]
    }
   ],
   "source": [
    "model = Model()\n",
    "model.run()\n",
    "model.build()"
   ]
  },
  {
   "cell_type": "markdown",
   "metadata": {},
   "source": [
    "One option is to have a governing method that can call the sequence - a subclass, if needed, only needs to override the \"hooks\" and the order is still guaranteed."
   ]
  },
  {
   "cell_type": "code",
   "execution_count": 112,
   "metadata": {},
   "outputs": [
    {
     "data": {
      "text/plain": [
       "10"
      ]
     },
     "execution_count": 112,
     "metadata": {},
     "output_type": "execute_result"
    }
   ],
   "source": [
    "class Model:\n",
    "    def execute(self):\n",
    "        self.build()\n",
    "        return self.run()\n",
    "    \n",
    "    def build(self):\n",
    "        self.vector = [1, 2, 3, 4]\n",
    "        \n",
    "    def run(self):\n",
    "        return sum(self.vector)\n",
    "\n",
    "model = Model()\n",
    "model.execute()"
   ]
  },
  {
   "cell_type": "markdown",
   "metadata": {},
   "source": [
    "Sometimes the issue is resolvable by moving more of the program's functionality inside the class, if steps need to be conducted between method calls. At the least, checking necessary state or steps have occured when a method is called is a way to highlight ordering issues."
   ]
  },
  {
   "cell_type": "code",
   "execution_count": 116,
   "metadata": {},
   "outputs": [
    {
     "ename": "RuntimeError",
     "evalue": "The model has not been built - please call build() first.",
     "output_type": "error",
     "traceback": [
      "\u001b[0;31m---------------------------------------------------------------------------\u001b[0m",
      "\u001b[0;31mRuntimeError\u001b[0m                              Traceback (most recent call last)",
      "\u001b[0;32m<ipython-input-116-8e872aba75e3>\u001b[0m in \u001b[0;36m<module>\u001b[0;34m\u001b[0m\n\u001b[1;32m     12\u001b[0m \u001b[0;34m\u001b[0m\u001b[0m\n\u001b[1;32m     13\u001b[0m \u001b[0mmodel\u001b[0m \u001b[0;34m=\u001b[0m \u001b[0mModel\u001b[0m\u001b[0;34m(\u001b[0m\u001b[0;34m)\u001b[0m\u001b[0;34m\u001b[0m\u001b[0;34m\u001b[0m\u001b[0m\n\u001b[0;32m---> 14\u001b[0;31m \u001b[0mmodel\u001b[0m\u001b[0;34m.\u001b[0m\u001b[0mrun\u001b[0m\u001b[0;34m(\u001b[0m\u001b[0;34m)\u001b[0m\u001b[0;34m\u001b[0m\u001b[0;34m\u001b[0m\u001b[0m\n\u001b[0m\u001b[1;32m     15\u001b[0m \u001b[0mmodel\u001b[0m\u001b[0;34m.\u001b[0m\u001b[0mbuild\u001b[0m\u001b[0;34m(\u001b[0m\u001b[0;34m)\u001b[0m\u001b[0;34m\u001b[0m\u001b[0;34m\u001b[0m\u001b[0m\n",
      "\u001b[0;32m<ipython-input-116-8e872aba75e3>\u001b[0m in \u001b[0;36mrun\u001b[0;34m(self)\u001b[0m\n\u001b[1;32m      8\u001b[0m     \u001b[0;32mdef\u001b[0m \u001b[0mrun\u001b[0m\u001b[0;34m(\u001b[0m\u001b[0mself\u001b[0m\u001b[0;34m)\u001b[0m\u001b[0;34m:\u001b[0m\u001b[0;34m\u001b[0m\u001b[0;34m\u001b[0m\u001b[0m\n\u001b[1;32m      9\u001b[0m         \u001b[0;32mif\u001b[0m \u001b[0;32mnot\u001b[0m \u001b[0mself\u001b[0m\u001b[0;34m.\u001b[0m\u001b[0mmodel_built\u001b[0m\u001b[0;34m:\u001b[0m\u001b[0;34m\u001b[0m\u001b[0;34m\u001b[0m\u001b[0m\n\u001b[0;32m---> 10\u001b[0;31m             \u001b[0;32mraise\u001b[0m \u001b[0mRuntimeError\u001b[0m\u001b[0;34m(\u001b[0m\u001b[0;34m'The model has not been built - please call build() first.'\u001b[0m\u001b[0;34m)\u001b[0m\u001b[0;34m\u001b[0m\u001b[0;34m\u001b[0m\u001b[0m\n\u001b[0m\u001b[1;32m     11\u001b[0m         \u001b[0;32mreturn\u001b[0m \u001b[0msum\u001b[0m\u001b[0;34m(\u001b[0m\u001b[0mself\u001b[0m\u001b[0;34m.\u001b[0m\u001b[0mvector\u001b[0m\u001b[0;34m)\u001b[0m\u001b[0;34m\u001b[0m\u001b[0;34m\u001b[0m\u001b[0m\n\u001b[1;32m     12\u001b[0m \u001b[0;34m\u001b[0m\u001b[0m\n",
      "\u001b[0;31mRuntimeError\u001b[0m: The model has not been built - please call build() first."
     ]
    }
   ],
   "source": [
    "class Model:\n",
    "    model_built = False\n",
    "    \n",
    "    def build(self):\n",
    "        self.vector = [1, 2, 3, 4]\n",
    "        self.model_built = True\n",
    "        \n",
    "    def run(self):\n",
    "        if not self.model_built:\n",
    "            raise RuntimeError('The model has not been built - please call build() first.')\n",
    "        return sum(self.vector)\n",
    "\n",
    "model = Model()\n",
    "model.run()\n",
    "model.build()"
   ]
  },
  {
   "cell_type": "markdown",
   "metadata": {},
   "source": [
    "# Yo-Yo Problem\n",
    "## Or too much abstraction in general"
   ]
  },
  {
   "cell_type": "markdown",
   "metadata": {},
   "source": [
    "Python tends to reduce abstraction compared to statically typed languages - this is part of its paradigm, and comes back to \"concise and clear\" as principle. The Yo-Yo problem is the idea that too much subclassing can make it very hard to debug code."
   ]
  },
  {
   "cell_type": "markdown",
   "metadata": {},
   "source": [
    "`Lifeform -> Animal -> Cow -> Jersey -> MilkingJersey -> MilkingJerseyCalledDaisy`"
   ]
  },
  {
   "cell_type": "markdown",
   "metadata": {},
   "source": [
    "Possibly better: `Animal -> Cow[type=Jersey, state=milking, name=Daisy]`"
   ]
  }
 ],
 "metadata": {
  "kernelspec": {
   "display_name": "Python 3",
   "language": "python",
   "name": "python3"
  },
  "language_info": {
   "codemirror_mode": {
    "name": "ipython",
    "version": 3
   },
   "file_extension": ".py",
   "mimetype": "text/x-python",
   "name": "python",
   "nbconvert_exporter": "python",
   "pygments_lexer": "ipython3",
   "version": "3.7.3"
  }
 },
 "nbformat": 4,
 "nbformat_minor": 2
}
