{
 "cells": [
  {
   "cell_type": "markdown",
   "metadata": {},
   "source": [
    "# Solid Ideas"
   ]
  },
  {
   "cell_type": "markdown",
   "metadata": {},
   "source": [
    "SOLID is a collection of 5 design principles: the Single Responsibility Principle, the Open Closed Principle, the Liskov Substitution Principle, the Interface Segregation Principle and Dependency Inversion."
   ]
  },
  {
   "cell_type": "markdown",
   "metadata": {},
   "source": [
    "## Single Responsibility Principle"
   ]
  },
  {
   "cell_type": "markdown",
   "metadata": {},
   "source": [
    "While the idea that a function or method should have one job is embedded in most engineers consciousnesses, this is the idea that a class or module should, similarly, only have one job."
   ]
  },
  {
   "cell_type": "code",
   "execution_count": 1,
   "metadata": {},
   "outputs": [],
   "source": [
    "class StatisticalAnalyzer:\n",
    "    def analyze(self, statistics):\n",
    "        self.analysis = {\n",
    "            'mean': statistics.mean(),\n",
    "            'max': statistics.max(),\n",
    "            'min': statistics.min()\n",
    "        }\n",
    "        \n",
    "    def print_analysis(self):\n",
    "        print(\n",
    "            'MEAN', self.analysis['mean'],\n",
    "            'MAX', self.analysis['max'],\n",
    "            'MIN', self.analysis['min']\n",
    "        )"
   ]
  },
  {
   "cell_type": "markdown",
   "metadata": {},
   "source": [
    "The issue here is that we are doing two tasks - analysing data and printing that analysis out. Why is that an issue? Firstly, you can see the tight coupling between printing and analysis - if the printing was handled by a separate class, the interdependency would be clearer, and the responsibility of StatisticalAnalyzer to return a consistent format would be highlighted. As it is, a change to the analysis requires a change to the outputting system, but perhaps this isn't obvious.\n",
    "\n",
    "A second issue is that, if printing isn't the responsibility of the analyser, then a user can more easily swap output types - why should the output method matter to the statistical tool? Perhaps the user wishes to output JSON, or even HTML.\n",
    "\n",
    "The final issue, like most design principles, is something more abstract: SRP helps you write maintenable, learnable, clear code, neatly segmented for future developers."
   ]
  },
  {
   "cell_type": "markdown",
   "metadata": {},
   "source": [
    "While this is a hard technique to enforce, a few tips to spot an issue are (1) keeping one (or a few intertwined) classes in a module - more modules, fewer classes per module - and (2) checking the imports in each to see if you are pulling from multiple domains. Should this module be using both `pandas` and `requests`?"
   ]
  },
  {
   "cell_type": "markdown",
   "metadata": {},
   "source": [
    "## Open-Closed Principle"
   ]
  },
  {
   "cell_type": "markdown",
   "metadata": {},
   "source": [
    "This is a shortening of \"Open for Extension, Closed for Modification\". This is a way of thinking about how you relate your classes and subclasses. A clearer way, in my opinion, that it has been expressed is:"
   ]
  },
  {
   "cell_type": "markdown",
   "metadata": {},
   "source": [
    "> You should be able to extend the behavior of a system without having to modify that system."
   ]
  },
  {
   "cell_type": "code",
   "execution_count": 2,
   "metadata": {},
   "outputs": [],
   "source": [
    "from smtplib import SMTP\n",
    "\n",
    "class Mailer:\n",
    "    def mail(self, email, content):\n",
    "        with SMTP(self.domain, self.port) as smtp:\n",
    "            smtp.send_message(content, to_addrs=[email])"
   ]
  },
  {
   "cell_type": "markdown",
   "metadata": {},
   "source": [
    "This class is a mailer - but it assumes that every emailing is via SMTP... if we wish to use a different approach, or even a different SMTP library, or one we had preconfigured with certain headers not known to the Mailer class, we would have to \"open\" this file to \"modify\" it, because it is \"closed\" to \"extension\"."
   ]
  },
  {
   "cell_type": "code",
   "execution_count": 4,
   "metadata": {},
   "outputs": [],
   "source": [
    "class Mailer:\n",
    "    def mail(self, email, content):\n",
    "        with self.mailer as smtp:\n",
    "            smtp.send_message(content, to_addrs=[email])\n",
    "            \n",
    "class SmtpMailer(Mailer):\n",
    "    mailer = SMTP"
   ]
  },
  {
   "cell_type": "markdown",
   "metadata": {},
   "source": [
    "Not perfect, but this is slightly better - now a subclass can replace the actual mailer doing the action. Why is that useful? Well, aside from sending, e.g. an mail-request to an event queue for some other process to send to SMTP (perhaps to manage rate-limiting across parallel processes), a use-case is a dummy mailer - maybe we just want to test our code without sending emails!"
   ]
  },
  {
   "cell_type": "code",
   "execution_count": 10,
   "metadata": {},
   "outputs": [],
   "source": [
    "class DummySMTP:\n",
    "    def __init__(self, domain, port):\n",
    "        self.domain = domain\n",
    "        self.port = port\n",
    "        \n",
    "    def start(self):\n",
    "        print('START')\n",
    "        \n",
    "    def send_message(self, content, to_addrs):\n",
    "        print(content, to_addrs)\n",
    "        \n",
    "    def finish(self):\n",
    "        print('END')"
   ]
  },
  {
   "cell_type": "markdown",
   "metadata": {},
   "source": [
    "This is a handy point to introduce `contextlib` - I mentioned you could create your own `with` statement resources..."
   ]
  },
  {
   "cell_type": "code",
   "execution_count": 11,
   "metadata": {},
   "outputs": [],
   "source": [
    "import contextlib\n",
    "\n",
    "@contextlib.contextmanager\n",
    "def dummy_smtp(domain, port):\n",
    "    dummy_smtp = DummySMTP(domain, port)\n",
    "    dummy_smtp.start()\n",
    "    try:\n",
    "        yield dummy_smtp\n",
    "    finally:\n",
    "        dummy_smtp.end()"
   ]
  },
  {
   "cell_type": "markdown",
   "metadata": {},
   "source": [
    "The code above is sufficient to let `dummy_smtp` work in a `with` statement. When `with` is called, all the code inside runs up to the `yield`. If an exception (or normal exit) occurs, the `finally` block is run - i.e. in all cases.\n",
    "\n",
    "This is now enough, that just like our two-line SMTPMailer subclass, we can have a DummyMailer subclass."
   ]
  },
  {
   "cell_type": "code",
   "execution_count": 12,
   "metadata": {},
   "outputs": [],
   "source": [
    "class DummyMailer(Mailer):\n",
    "    mailer = dummy_smtp"
   ]
  },
  {
   "cell_type": "markdown",
   "metadata": {},
   "source": [
    "Mailer has let us achieve our goal by being open for extension, but we haven't needed to modify the class (i.e. it's closed for modification)."
   ]
  },
  {
   "cell_type": "markdown",
   "metadata": {},
   "source": [
    "### Exercise: Open a File"
   ]
  },
  {
   "cell_type": "markdown",
   "metadata": {},
   "source": [
    "Create your own contextmanager that opens a file, yields it and closes the file in a finally block. Try it and make sure it works the same way as `with open('myfile.txt', 'w')`"
   ]
  },
  {
   "cell_type": "code",
   "execution_count": null,
   "metadata": {},
   "outputs": [],
   "source": []
  },
  {
   "cell_type": "markdown",
   "metadata": {},
   "source": [
    "## Liskov Substitution Principle"
   ]
  },
  {
   "cell_type": "markdown",
   "metadata": {},
   "source": [
    "The Liskov Substitution Principle is a more conceptual principle than the previous one - anything that uses a class, should be able to use any subclass without knowing (call the same methods, expect the same basic behaviours). A concrete example helps."
   ]
  },
  {
   "cell_type": "code",
   "execution_count": 16,
   "metadata": {},
   "outputs": [],
   "source": [
    "class Language:\n",
    "    def translate(self, text):\n",
    "        return ...\n",
    "\n",
    "class Translator:\n",
    "    def say(self, text: str, language: Language) -> str:\n",
    "        return language.translate(text)"
   ]
  },
  {
   "cell_type": "markdown",
   "metadata": {},
   "source": [
    "This seems fine, right?"
   ]
  },
  {
   "cell_type": "code",
   "execution_count": 17,
   "metadata": {},
   "outputs": [],
   "source": [
    "class SignLanguage(Language):\n",
    "    def translate(self, text):\n",
    "        return ... # Well, not a string anyway"
   ]
  },
  {
   "cell_type": "markdown",
   "metadata": {},
   "source": [
    "So our translator could be given an object of a subclass of Language, SignLanguage, and suddenly its translate method has broken! This is a violation of LSP somewhere. One way to address is to have a subclass `SpokenLanguage` of `Language` and make `Translator` dependent on that instead. Another is to make the translator more flexible on what it will accept back.\n",
    "\n",
    "Python's duck-typing philosophy really shines here, but is simultaneously the greatest challenge - substitution is much easier because Python discourages unnecessary type-checking (decreasing the likely LSP issues), but we are also more likely to be handed something we aren't expecting.\n",
    "\n",
    "As in all Python cases, the most generic approach is to make sure you have a reasonable number (but not excessive) try-except statements, and a reasonable fallback. But it doesn't substitute for good planning.\n",
    "\n",
    "This is a particularly clear cut example, but a common, more abstract one, is a Rectangle. A Square seems like a reasonable subclass of a rectangle, but suppose a rectange has a settable height and width... any function consuming a Rectangle may wish to set the height and or width, but what happens if it's given a Square?\n",
    "\n",
    "Several options exist to mitigate that issue while protecting LSP, for instance:\n",
    "\n",
    "* height and width are immutable in a Rectangle - the problem never arises\n",
    "* changing height or width of a Square changes both - should be clearly documented\n",
    "* Square isn't made a subclass of Rectangle - if you still want to type-hint for Rectangle and include a Square, Python also lets you use Union types: `Union[Rectangle, Square]`"
   ]
  },
  {
   "cell_type": "markdown",
   "metadata": {},
   "source": [
    "Another way to violate LSP is to require things in a subclass that anyone using the superclass would not provide. \n",
    "A notorious restatement of LSP (echoing Python's duck-typing principle):\n",
    "\n",
    "> If it walks like a duck, quacks like a duck, but needs batteries, you probably have the wrong abstraction\n",
    "\n",
    "Perhaps this takes the form of an initialization method that must be called in your subclass (can you override and extend an existing one?), or a particular object that must be passed, not required for instances of the superclass."
   ]
  },
  {
   "cell_type": "markdown",
   "metadata": {},
   "source": [
    "How can we help reduce LSP issues? Well, the first is having clear type-hinting in the superclass, so we can see what we should be returning. However, following the Open/Closed Principle, it's then even more important we get our abstraction right so we don't just scope-out SignLanguage by insisting all languages return a `str` for `translate`. Still, lets say we make `SpokenLanguage` our class - how do we help ensure subclasses do what we expect?"
   ]
  },
  {
   "cell_type": "code",
   "execution_count": 24,
   "metadata": {},
   "outputs": [],
   "source": [
    "class SpokenLanguage:\n",
    "    def translate(self, text) -> str:\n",
    "        raise NotImplementedError()\n",
    "    \n",
    "class MathematicsTheLanguageOfTheUniverse(SpokenLanguage):\n",
    "    def translate(self, text) -> int:\n",
    "        return len(text)\n",
    "    \n",
    "with open('test.py', 'w') as f:\n",
    "    f.write(In[-1])"
   ]
  },
  {
   "cell_type": "code",
   "execution_count": 25,
   "metadata": {},
   "outputs": [
    {
     "name": "stdout",
     "output_type": "stream",
     "text": [
      "test.py:6: \u001b[1m\u001b[31merror:\u001b[m Return type \u001b[m\u001b[1m\"int\"\u001b[m of \u001b[m\u001b[1m\"translate\"\u001b[m incompatible with return type \u001b[m\u001b[1m\"str\"\u001b[m in supertype \u001b[m\u001b[1m\"SpokenLanguage\"\u001b[m\u001b[m\r\n",
      "test.py:10: \u001b[1m\u001b[31merror:\u001b[m Name 'In' is not defined\u001b[m\r\n",
      "\u001b[1m\u001b[31mFound 2 errors in 1 file (checked 1 source file)\u001b[m\r\n"
     ]
    }
   ],
   "source": [
    "!mypy test.py"
   ]
  },
  {
   "cell_type": "markdown",
   "metadata": {},
   "source": [
    "Also notice that one way we have implemented an abstract method is using the `NotImplementedError` exception. Some static checkers will spot this, but having no compile step, you are then relying on static checking to enforce it manually."
   ]
  },
  {
   "cell_type": "markdown",
   "metadata": {},
   "source": [
    "This doesn't really help us in the Rectangle/Square example - there, as in other languages, we simply need to spot that, when creating our Square class, we are introducing constraints that do not exist on the Rectangle superclass."
   ]
  },
  {
   "cell_type": "markdown",
   "metadata": {},
   "source": [
    "## Interface Segregation Principle"
   ]
  },
  {
   "cell_type": "markdown",
   "metadata": {},
   "source": [
    "This is one that turns up less in Python - the best example, across languages, is when an interface (as in Java or C#) requires methods that a perfectly legitimate class implementing it doesn't want to provide."
   ]
  },
  {
   "cell_type": "code",
   "execution_count": 27,
   "metadata": {},
   "outputs": [
    {
     "ename": "TypeError",
     "evalue": "Can't instantiate abstract class Dolfin with abstract methods walk",
     "output_type": "error",
     "traceback": [
      "\u001b[0;31m---------------------------------------------------------------------------\u001b[0m",
      "\u001b[0;31mTypeError\u001b[0m                                 Traceback (most recent call last)",
      "\u001b[0;32m<ipython-input-27-1dcee1546bf0>\u001b[0m in \u001b[0;36m<module>\u001b[0;34m\u001b[0m\n\u001b[1;32m      9\u001b[0m     \u001b[0;34m...\u001b[0m\u001b[0;34m\u001b[0m\u001b[0;34m\u001b[0m\u001b[0m\n\u001b[1;32m     10\u001b[0m \u001b[0;34m\u001b[0m\u001b[0m\n\u001b[0;32m---> 11\u001b[0;31m \u001b[0mDolfin\u001b[0m\u001b[0;34m(\u001b[0m\u001b[0;34m)\u001b[0m\u001b[0;34m\u001b[0m\u001b[0;34m\u001b[0m\u001b[0m\n\u001b[0m",
      "\u001b[0;31mTypeError\u001b[0m: Can't instantiate abstract class Dolfin with abstract methods walk"
     ]
    }
   ],
   "source": [
    "import abc\n",
    "\n",
    "class Animal(abc.ABC):\n",
    "    @abc.abstractmethod\n",
    "    def walk(self):\n",
    "        ...\n",
    "        \n",
    "class Dolfin(Animal):\n",
    "    ...\n",
    "    \n",
    "Dolfin()"
   ]
  },
  {
   "cell_type": "markdown",
   "metadata": {},
   "source": [
    "So, at this point, we have to question whether `walk` is a reasonable thing to add as a requirement for all Animals. Also notice that we have used `abc`, a Python built-in module for strongly enforcing abstract methods. This isn't as common as it could be, as Python is focused on encouraging try-except in consumer functions, rather than assuming functionality is available up front (the main reason for adding an interface). However, if you are building a system that will be extensible but needs to implement certain subclasses, absolutely essentially, then `abc` is a good way of enforcing that. Unfortunately, the exception will only be raised when the subclass is instantiated, but that's slightly better than waiting until the missing method is called!"
   ]
  },
  {
   "cell_type": "markdown",
   "metadata": {},
   "source": [
    "In some ways, implementing abstract classes with NotImplementedError in the superclass helps side-step this in Python - subclassing it doesn't force you to implement that method. For optionally-implementable methods, this is a reasonable approach. But you still need to be careful what you consider optional..."
   ]
  },
  {
   "cell_type": "markdown",
   "metadata": {},
   "source": [
    "## Dependency Inversion"
   ]
  },
  {
   "cell_type": "markdown",
   "metadata": {},
   "source": [
    "This is one area that is as easy in Python as any other language (although PHP frameworks are notably fantastic at streamlining this). It's pretty simple - remember our Mailer class that wanted an SMTP object?"
   ]
  },
  {
   "cell_type": "code",
   "execution_count": 29,
   "metadata": {},
   "outputs": [],
   "source": [
    "from smtplib import SMTP\n",
    "\n",
    "class Mailer:\n",
    "    def mail(self, email, content):\n",
    "        with SMTP(self.domain, self.port) as smtp:\n",
    "            smtp.send_message(content, to_addrs=[email])\n",
    "            \n",
    "mailer = Mailer()"
   ]
  },
  {
   "cell_type": "markdown",
   "metadata": {},
   "source": [
    "Well, why did it need to embed that in its definition? We did one better by subclasses, removing the direct dependency on SMTP to SMTPMailer, _but_ if all we are doing is changing one member, is there a better way?"
   ]
  },
  {
   "cell_type": "code",
   "execution_count": 30,
   "metadata": {},
   "outputs": [],
   "source": [
    "from smtplib import SMTP\n",
    "\n",
    "class Mailer:\n",
    "    def __init__(self, mailer):\n",
    "        self.mailer = mailer\n",
    "        \n",
    "    def mail(self, email, content):\n",
    "        with self.mailer(self.domain, self.port) as smtp:\n",
    "            smtp.send_message(content, to_addrs=[email])\n",
    "            \n",
    "mailer = Mailer(SMTP)"
   ]
  },
  {
   "cell_type": "markdown",
   "metadata": {},
   "source": [
    "This is a nicer approach - we no longer assume what the actual mechanism is, we allow the calling class to swap out SMTP for a DummySMTP object (or any other it likes) and it makes Mailer more focused on its original purpose.\n",
    "\n",
    "A critical benefit of this, to generalize, is test code - you can do BDD and TDD more easily, if you know your Mailer isn't automatically going to start sending things out. All your unit tests (which expect that you aren't chucking other random classes into your tested class) will pass in DummyMailer, or a mock object, and be able to examine what has been done to it.\n",
    "\n",
    "It also helps the programmer to focus on defining a good SRP-friendly Mailer class, that isn't focused on external assumptions (such as the class it is using), but does its job well.\n",
    "\n",
    "In other languages, this can encourage a proliferation of interfaces - perhaps using an new `abc` Abstract Base Class as a type-hint to ensure that the `mailer` passed into the constructor is indeed something that can be used inside the `mail` method. However, in Python, this could quickly reduce the succinctness and clarity of the code - and may run a little too far against the duck-typing principle.\n",
    "\n",
    "Leaving the caller to pass a sensible mailer to the constructor (while clearly documenting expectations of methods, etc.) and, if necessary, using a try-except to provide a fallback approach if `with self.mailer...` doesn't work, may be a more appropriate idea in this context."
   ]
  },
  {
   "cell_type": "markdown",
   "metadata": {},
   "source": [
    "----"
   ]
  },
  {
   "cell_type": "markdown",
   "metadata": {},
   "source": [
    "## Law of Demeter"
   ]
  },
  {
   "cell_type": "markdown",
   "metadata": {},
   "source": [
    "Lastly, a principle that isn't one of the five SOLID principles, but often comes up in similar conversations, is the Law of Demeter. This is frequently broken in Python - but it's perhaps less of an imperative. That said, it's important to think about. One of my favourite, slightly graphic explanations of this is:"
   ]
  },
  {
   "cell_type": "markdown",
   "metadata": {},
   "source": [
    "> If a waiter asks a diner for payment, they should wait until that person has taken their wallet out and handed them the money. They should not reach into the diner's pocket, grab the wallet, and take the money out themselves."
   ]
  },
  {
   "cell_type": "code",
   "execution_count": 36,
   "metadata": {},
   "outputs": [],
   "source": [
    "class Wallet:\n",
    "    money = 50\n",
    "    \n",
    "    def extract(self, amount):\n",
    "        self.money -= amount\n",
    "\n",
    "class Diner:\n",
    "    def __init__(self):\n",
    "        self.wallet = Wallet()\n",
    "    \n",
    "class Waiter:\n",
    "    money_on_tray = 0\n",
    "    \n",
    "    def request_payment(self, diner, amount):\n",
    "        diner.wallet.extract(amount)\n",
    "        self.money_on_tray += amount\n",
    "        \n",
    "waiter = Waiter()\n",
    "diner = Diner()\n",
    "waiter.request_payment(diner, 10)"
   ]
  },
  {
   "cell_type": "markdown",
   "metadata": {},
   "source": [
    "...versus..."
   ]
  },
  {
   "cell_type": "code",
   "execution_count": 35,
   "metadata": {},
   "outputs": [],
   "source": [
    "class Wallet:\n",
    "    money = 50\n",
    "    \n",
    "    def extract(self, amount):\n",
    "        self.money -= amount\n",
    "\n",
    "class Diner:\n",
    "    def __init__(self):\n",
    "        self.wallet = Wallet()\n",
    "    \n",
    "    def give_money(self, amount):\n",
    "        self.wallet.extract(amount)\n",
    "        return amount\n",
    "    \n",
    "class Waiter:\n",
    "    money_on_tray = 0\n",
    "    \n",
    "    def request_payment(self, diner, amount):\n",
    "        diner.give_money(amount)\n",
    "        self.money_on_tray += amount\n",
    "        \n",
    "waiter = Waiter()\n",
    "diner = Diner()\n",
    "waiter.request_payment(diner, 10)"
   ]
  },
  {
   "cell_type": "markdown",
   "metadata": {},
   "source": [
    "Why? On a technical level, because how the Diner is managing their money is none of the waiter's business. Should it matter if they have a purse instead? Or they want to use card? Clearly not, but once the waiter class uses `diner.wallet` the assumption is in-built. If `diner` was coming from a third-party class, an upgrade could easily break `waiter` - presumably, the third-party `Diner` class is giving no future guarantees about how it manages its internal properties."
   ]
  },
  {
   "cell_type": "markdown",
   "metadata": {},
   "source": [
    "_However_ , the Law of Demeter is much less important in Python - clarity and conciseness encourage some reaching, at the expense of this encapsulation. Therefore, the Law of Demeter should be seen more as an encouragement. As in all languages, the easiest way to spot it, although not foolproof, is a long series of dots:\n",
    "\n",
    "    thing.method().other_thing.other_method()\n",
    "    \n",
    "The more dots, the more brittle your code is likely to be, and susceptible to cause code-base breakages when an apparently unrelated class changes."
   ]
  },
  {
   "cell_type": "markdown",
   "metadata": {},
   "source": [
    "**Exception**: one common pattern is to return the same object repeatedly to allow _chaining_. This appears in a number of common Python libraries, such as `pandas` or `SqlAlchemy` (database ORM). In this case, LOD is not violated by a long sequence of dots because _the same object is returned by every call in the chain_. E.g. `df.transpose().apply(fn, axis=1).sum()`"
   ]
  },
  {
   "cell_type": "markdown",
   "metadata": {},
   "source": [
    "**Note for writing classes**: If you do not wish external users to depend on a property or method in your class, prefix it with an underscore. If you are consuming them, see an underscore prefix as a red-flag - do not use. This is an alternative approach to help address the underlying issues of LOD."
   ]
  },
  {
   "cell_type": "markdown",
   "metadata": {},
   "source": [
    "### Exercise: Breaking Solid Ground\n",
    "\n",
    "Write a piece of code that breaks all six of these, as hard and obviously dangerously as possible."
   ]
  },
  {
   "cell_type": "code",
   "execution_count": null,
   "metadata": {},
   "outputs": [],
   "source": []
  }
 ],
 "metadata": {
  "kernelspec": {
   "display_name": "Python 3",
   "language": "python",
   "name": "python3"
  },
  "language_info": {
   "codemirror_mode": {
    "name": "ipython",
    "version": 3
   },
   "file_extension": ".py",
   "mimetype": "text/x-python",
   "name": "python",
   "nbconvert_exporter": "python",
   "pygments_lexer": "ipython3",
   "version": "3.7.3"
  }
 },
 "nbformat": 4,
 "nbformat_minor": 2
}
