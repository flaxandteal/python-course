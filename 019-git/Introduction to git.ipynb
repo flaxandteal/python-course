{
 "cells": [
  {
   "cell_type": "code",
   "execution_count": 94,
   "metadata": {
    "hideCode": true
   },
   "outputs": [
    {
     "data": {
      "application/javascript": [
       "requirejs.config({\n",
       "    paths: { \n",
       "        'GitgraphJS': ['//cdn.jsdelivr.net/npm/@gitgraph/js?noext'], \n",
       "    },\n",
       "});\n",
       "\n",
       "window.getGitGraph = function (element, callback) {\n",
       "    require(['GitgraphJS'], function(GitgraphJS) {\n",
       "        // Get the graph container HTML element.\n",
       "        var graphContainer2 = element[0];\n",
       "        console.log(graphContainer2);\n",
       "\n",
       "        // Instantiate the graph.\n",
       "        var gitgraph = GitgraphJS.createGitgraph(graphContainer2, {\n",
       "            orientation: 'horizontal',\n",
       "            mode: 'compact'\n",
       "        })\n",
       "        callback(gitgraph);\n",
       "    });\n",
       "}\n"
      ],
      "text/plain": [
       "<IPython.core.display.Javascript object>"
      ]
     },
     "metadata": {},
     "output_type": "display_data"
    }
   ],
   "source": [
    "%%javascript\n",
    "requirejs.config({\n",
    "    paths: { \n",
    "        'GitgraphJS': ['//cdn.jsdelivr.net/npm/@gitgraph/js?noext'], \n",
    "    },\n",
    "});\n",
    "\n",
    "window.getGitGraph = function (element, callback) {\n",
    "    require(['GitgraphJS'], function(GitgraphJS) {\n",
    "        // Get the graph container HTML element.\n",
    "        var graphContainer2 = element[0];\n",
    "        console.log(graphContainer2);\n",
    "\n",
    "        // Instantiate the graph.\n",
    "        var gitgraph = GitgraphJS.createGitgraph(graphContainer2, {\n",
    "            orientation: 'horizontal',\n",
    "            mode: 'compact'\n",
    "        })\n",
    "        callback(gitgraph);\n",
    "    });\n",
    "}"
   ]
  },
  {
   "cell_type": "markdown",
   "metadata": {},
   "source": [
    "# Basic git via command-line"
   ]
  },
  {
   "cell_type": "markdown",
   "metadata": {},
   "source": [
    "This exercise abuses Jupyter notebooks a little to run bash commands (starting with `!`). We will walk through a relatively simple git scenario, with the intent of giving a hands-on understanding of what's happening under the Github/Sourcetree/etc hood."
   ]
  },
  {
   "cell_type": "code",
   "execution_count": 2,
   "metadata": {},
   "outputs": [
    {
     "name": "stdout",
     "output_type": "stream",
     "text": [
      "Initialized empty Git repository in /home/jovyan/python-course/019-git/.git/\r\n"
     ]
    }
   ],
   "source": [
    "!git init"
   ]
  },
  {
   "cell_type": "markdown",
   "metadata": {},
   "source": [
    "This has created the folder `.git` - that's git's entire memory as long as it is on our computer. Most git commands from here on will consult that directory to find out, store and amend git's history."
   ]
  },
  {
   "cell_type": "code",
   "execution_count": 3,
   "metadata": {},
   "outputs": [
    {
     "name": "stdout",
     "output_type": "stream",
     "text": [
      "On branch master\r\n",
      "Untracked files:\r\n",
      "  (use \"git add <file>...\" to include in what will be committed)\r\n",
      "\r\n",
      "\t\u001b[31m.gitignore\u001b[m\r\n",
      "\t\u001b[31mIntroduction to git.ipynb\u001b[m\r\n",
      "\r\n",
      "nothing added to commit but untracked files present (use \"git add\" to track)\r\n"
     ]
    }
   ],
   "source": [
    "!git status"
   ]
  },
  {
   "cell_type": "markdown",
   "metadata": {},
   "source": [
    "`git status` is the simplest way to get a snapshot of the current repository as you are using it - what's edited, what's not."
   ]
  },
  {
   "cell_type": "code",
   "execution_count": 6,
   "metadata": {},
   "outputs": [
    {
     "name": "stdout",
     "output_type": "stream",
     "text": [
      "total 16\r\n",
      "drwxr-sr-x 2 jovyan users 4096 May 25 15:11  myrepo\r\n",
      "drwxr-sr-x 2 jovyan users 4096 May 25 15:13  test\r\n",
      "-rw-r--r-- 1 jovyan users 2769 May 25 15:14 'Introduction to git.ipynb'\r\n",
      "-rw-r--r-- 1 jovyan users    0 May 25 15:15  example.py\r\n",
      "drwxr-sr-x 4 jovyan users 4096 May 25 15:16 'Untitled Folder'\r\n"
     ]
    }
   ],
   "source": [
    "!mkdir -p test && ls -ltr"
   ]
  },
  {
   "cell_type": "code",
   "execution_count": 7,
   "metadata": {},
   "outputs": [
    {
     "name": "stdout",
     "output_type": "stream",
     "text": [
      "On branch master\r\n",
      "\r\n",
      "No commits yet\r\n",
      "\r\n",
      "Untracked files:\r\n",
      "  (use \"git add <file>...\" to include in what will be committed)\r\n",
      "\r\n",
      "\t\u001b[31m.gitignore\u001b[m\r\n",
      "\t\u001b[31mIntroduction to git.ipynb\u001b[m\r\n",
      "\t\u001b[31mUntitled Folder/\u001b[m\r\n",
      "\r\n",
      "nothing added to commit but untracked files present (use \"git add\" to track)\r\n"
     ]
    }
   ],
   "source": [
    "!git status"
   ]
  },
  {
   "cell_type": "code",
   "execution_count": 8,
   "metadata": {},
   "outputs": [],
   "source": [
    "!mv example.py test"
   ]
  },
  {
   "cell_type": "code",
   "execution_count": 9,
   "metadata": {},
   "outputs": [
    {
     "name": "stdout",
     "output_type": "stream",
     "text": [
      "example.py\r\n"
     ]
    }
   ],
   "source": [
    "!ls test"
   ]
  },
  {
   "cell_type": "code",
   "execution_count": 10,
   "metadata": {},
   "outputs": [
    {
     "name": "stdout",
     "output_type": "stream",
     "text": [
      "On branch master\r\n",
      "\r\n",
      "No commits yet\r\n",
      "\r\n",
      "Untracked files:\r\n",
      "  (use \"git add <file>...\" to include in what will be committed)\r\n",
      "\r\n",
      "\t\u001b[31m.gitignore\u001b[m\r\n",
      "\t\u001b[31mIntroduction to git.ipynb\u001b[m\r\n",
      "\t\u001b[31mUntitled Folder/\u001b[m\r\n",
      "\t\u001b[31mtest/\u001b[m\r\n",
      "\r\n",
      "nothing added to commit but untracked files present (use \"git add\" to track)\r\n"
     ]
    }
   ],
   "source": [
    "!git status"
   ]
  },
  {
   "cell_type": "code",
   "execution_count": 69,
   "metadata": {},
   "outputs": [],
   "source": [
    "!git add test"
   ]
  },
  {
   "cell_type": "code",
   "execution_count": 70,
   "metadata": {},
   "outputs": [
    {
     "name": "stdout",
     "output_type": "stream",
     "text": [
      "On branch master\r\n",
      "\r\n",
      "No commits yet\r\n",
      "\r\n",
      "Changes to be committed:\r\n",
      "  (use \"git rm --cached <file>...\" to unstage)\r\n",
      "\r\n",
      "\t\u001b[32mnew file:   test/example.py\u001b[m\r\n",
      "\r\n",
      "Untracked files:\r\n",
      "  (use \"git add <file>...\" to include in what will be committed)\r\n",
      "\r\n",
      "\t\u001b[31m.gitignore\u001b[m\r\n",
      "\t\u001b[31mIntroduction to git.ipynb\u001b[m\r\n",
      "\t\u001b[31mUntitled Folder/\u001b[m\r\n",
      "\r\n"
     ]
    }
   ],
   "source": [
    "!git status"
   ]
  },
  {
   "cell_type": "code",
   "execution_count": 71,
   "metadata": {},
   "outputs": [
    {
     "name": "stdout",
     "output_type": "stream",
     "text": [
      "[master (root-commit) b605cf4] Add example.py to the test directory\r\n",
      " 1 file changed, 0 insertions(+), 0 deletions(-)\r\n",
      " create mode 100644 test/example.py\r\n"
     ]
    }
   ],
   "source": [
    "!git commit -m \"Initial commit\""
   ]
  },
  {
   "cell_type": "code",
   "execution_count": 72,
   "metadata": {
    "hideCode": true
   },
   "outputs": [
    {
     "data": {
      "application/javascript": [
       "\n",
       "getGitGraph(element, function (gitgraph) {\n",
       "    console.log(gitgraph);\n",
       "    var master = gitgraph.branch(\"master\");\n",
       "    master.commit(\"Initial commit\");\n",
       "});\n"
      ],
      "text/plain": [
       "<IPython.core.display.Javascript object>"
      ]
     },
     "metadata": {},
     "output_type": "display_data"
    }
   ],
   "source": [
    "%%javascript\n",
    "\n",
    "getGitGraph(element, function (gitgraph) {\n",
    "    console.log(gitgraph);\n",
    "    var master = gitgraph.branch(\"master\");\n",
    "    master.commit(\"Initial commit\");\n",
    "});"
   ]
  },
  {
   "cell_type": "markdown",
   "metadata": {},
   "source": [
    "Above is a simple representation of the current git-tree (these are not live-updating so will only be accurate if you're following the steps closely!).\n",
    "\n",
    "It has a single dot, indicating a commit, beside a branch-name -- master. This is comparable to, for instance, trunk in SVN, but git is a _decentralized_ version control system, and so you have your own `master` branch locally, independent from the \"remote\" `master` branch (and any other remote branches)"
   ]
  },
  {
   "cell_type": "markdown",
   "metadata": {},
   "source": [
    "Lets suppose we wish to update example.py - use [this link](https://jh.ev.openindustry.in/hub/user-redirect/edit/python-course/019-git/test/example.py) or go to the file browser, and open `python-course/019-git/test/example.py`"
   ]
  },
  {
   "cell_type": "markdown",
   "metadata": {},
   "source": [
    "## Status & Committing"
   ]
  },
  {
   "cell_type": "markdown",
   "metadata": {},
   "source": [
    "Lets begin by improving the doc-string - the text at the start of the file."
   ]
  },
  {
   "cell_type": "markdown",
   "metadata": {},
   "source": [
    "Change:\n",
    "\n",
    "    This is an example Python file\n",
    "\n",
    "to:\n",
    "\n",
    "    Text manipulation utilities"
   ]
  },
  {
   "cell_type": "markdown",
   "metadata": {},
   "source": [
    "and save. Git can tell this has changed:"
   ]
  },
  {
   "cell_type": "code",
   "execution_count": 78,
   "metadata": {},
   "outputs": [
    {
     "name": "stdout",
     "output_type": "stream",
     "text": [
      "On branch master\r\n",
      "Changes to be committed:\r\n",
      "  (use \"git reset HEAD <file>...\" to unstage)\r\n",
      "\r\n",
      "\t\u001b[32mmodified:   test/example.py\u001b[m\r\n",
      "\r\n",
      "Changes not staged for commit:\r\n",
      "  (use \"git add <file>...\" to update what will be committed)\r\n",
      "  (use \"git checkout -- <file>...\" to discard changes in working directory)\r\n",
      "\r\n",
      "\t\u001b[31mmodified:   test/example.py\u001b[m\r\n",
      "\r\n",
      "Untracked files:\r\n",
      "  (use \"git add <file>...\" to include in what will be committed)\r\n",
      "\r\n",
      "\t\u001b[31m.gitignore\u001b[m\r\n",
      "\t\u001b[31mIntroduction to git.ipynb\u001b[m\r\n",
      "\t\u001b[31mUntitled Folder/\u001b[m\r\n",
      "\r\n"
     ]
    }
   ],
   "source": [
    "!git status"
   ]
  },
  {
   "cell_type": "markdown",
   "metadata": {},
   "source": [
    "We can add and commit these changes in two steps (a combined shortcut is possible, but doing them separately is strongly recommended)."
   ]
  },
  {
   "cell_type": "code",
   "execution_count": 79,
   "metadata": {},
   "outputs": [
    {
     "name": "stdout",
     "output_type": "stream",
     "text": [
      "[master 5eb3982] improve utility file docstring\r\n",
      " 1 file changed, 9 insertions(+)\r\n"
     ]
    }
   ],
   "source": [
    "!git add test/example.py\n",
    "!git commit -m \"improve utility file docstring\""
   ]
  },
  {
   "cell_type": "markdown",
   "metadata": {},
   "source": [
    "These are now recorded. You can continue changing the file, and know that you can find and return to this version."
   ]
  },
  {
   "cell_type": "markdown",
   "metadata": {},
   "source": [
    "You'll notice that git gives a handy summary of the scale of changes you just committed -- keep an eye on that, it's often an easy mistake to commit files you did not intend ( _if you haven't pushed your changes to a remote git server_ , you may be able to adjust with `git commit`'s `--amend` flag, but _only_ if you haven't yet sent them anywhere!)"
   ]
  },
  {
   "cell_type": "code",
   "execution_count": 96,
   "metadata": {
    "hideCode": true
   },
   "outputs": [
    {
     "data": {
      "application/javascript": [
       "\n",
       "getGitGraph(element, function (gitgraph) {\n",
       "    console.log(gitgraph);\n",
       "    var master = gitgraph.branch(\"master\");\n",
       "    master.commit(\"Initial commit\");\n",
       "    master.commit(\"improve utility file docstring\");\n",
       "});\n"
      ],
      "text/plain": [
       "<IPython.core.display.Javascript object>"
      ]
     },
     "metadata": {},
     "output_type": "display_data"
    }
   ],
   "source": [
    "%%javascript\n",
    "\n",
    "getGitGraph(element, function (gitgraph) {\n",
    "    console.log(gitgraph);\n",
    "    var master = gitgraph.branch(\"master\");\n",
    "    master.commit(\"Initial commit\");\n",
    "    master.commit(\"improve utility file docstring\");\n",
    "});"
   ]
  },
  {
   "cell_type": "markdown",
   "metadata": {},
   "source": [
    "## The Index & Diff"
   ]
  },
  {
   "cell_type": "markdown",
   "metadata": {},
   "source": [
    "We notice that the `capitalize` method is using the `.lower` method, woops -- edit that, changing `.lower` to `.upper` and save it now."
   ]
  },
  {
   "cell_type": "code",
   "execution_count": 76,
   "metadata": {},
   "outputs": [
    {
     "name": "stdout",
     "output_type": "stream",
     "text": [
      "TESTING\r\n"
     ]
    }
   ],
   "source": [
    "!python3 test/example.py"
   ]
  },
  {
   "cell_type": "markdown",
   "metadata": {},
   "source": [
    "Git can tell this has changed..."
   ]
  },
  {
   "cell_type": "code",
   "execution_count": 81,
   "metadata": {},
   "outputs": [
    {
     "name": "stdout",
     "output_type": "stream",
     "text": [
      "On branch master\r\n",
      "Untracked files:\r\n",
      "  (use \"git add <file>...\" to include in what will be committed)\r\n",
      "\r\n",
      "\t\u001b[31m.gitignore\u001b[m\r\n",
      "\t\u001b[31mIntroduction to git.ipynb\u001b[m\r\n",
      "\t\u001b[31mUntitled Folder/\u001b[m\r\n",
      "\r\n",
      "nothing added to commit but untracked files present (use \"git add\" to track)\r\n"
     ]
    }
   ],
   "source": [
    "!git status"
   ]
  },
  {
   "cell_type": "markdown",
   "metadata": {},
   "source": [
    "You should notice that there is a line `modified:   test/example.py` indicating that you have changes that are not committed. This means the repo is \"dirty\".\n",
    "\n",
    "Moreover, it is under a section `Changes not staged for commit`. Git has a concept of staging - the _index_ - where you add you changes (additions/modifications/removals) and all of the staged changes are committed at once.\n",
    "\n",
    "You can stage your changes (git add), unstage them, stage a few different changes, but none of it is permanently recorded."
   ]
  },
  {
   "cell_type": "code",
   "execution_count": 82,
   "metadata": {},
   "outputs": [
    {
     "name": "stdout",
     "output_type": "stream",
     "text": [
      "On branch master\r\n",
      "Untracked files:\r\n",
      "  (use \"git add <file>...\" to include in what will be committed)\r\n",
      "\r\n",
      "\t\u001b[31m.gitignore\u001b[m\r\n",
      "\t\u001b[31mIntroduction to git.ipynb\u001b[m\r\n",
      "\t\u001b[31mUntitled Folder/\u001b[m\r\n",
      "\r\n",
      "nothing added to commit but untracked files present (use \"git add\" to track)\r\n"
     ]
    }
   ],
   "source": [
    "!git add test/example.py && git status"
   ]
  },
  {
   "cell_type": "markdown",
   "metadata": {},
   "source": [
    "This time, we only did the first step - `add`. The `test/example.py` change is now \"staged\", ready to be committed. However, before doing so, we realise that `capitalize` and `upper` are very different things..."
   ]
  },
  {
   "cell_type": "markdown",
   "metadata": {},
   "source": [
    "Change the example.py text from `.upper()` to `.capitalize()` and save it."
   ]
  },
  {
   "cell_type": "code",
   "execution_count": 83,
   "metadata": {},
   "outputs": [
    {
     "name": "stdout",
     "output_type": "stream",
     "text": [
      "On branch master\r\n",
      "Untracked files:\r\n",
      "  (use \"git add <file>...\" to include in what will be committed)\r\n",
      "\r\n",
      "\t\u001b[31m.gitignore\u001b[m\r\n",
      "\t\u001b[31mIntroduction to git.ipynb\u001b[m\r\n",
      "\t\u001b[31mUntitled Folder/\u001b[m\r\n",
      "\r\n",
      "nothing added to commit but untracked files present (use \"git add\" to track)\r\n"
     ]
    }
   ],
   "source": [
    "!git status"
   ]
  },
  {
   "cell_type": "markdown",
   "metadata": {},
   "source": [
    "Now you can explicitly see that we have a record of our \"staged\" change (.lower->.upper) under \"Changes to be committed\", but also our not-yet-staged change (.upper->.capitalize)."
   ]
  },
  {
   "cell_type": "markdown",
   "metadata": {},
   "source": [
    "Lets see the differences between them. Firstly, how is our local copy of `example.py` different from the staged version?"
   ]
  },
  {
   "cell_type": "code",
   "execution_count": 85,
   "metadata": {},
   "outputs": [
    {
     "name": "stdout",
     "output_type": "stream",
     "text": [
      "\u001b[1mdiff --git a/test/example.py b/test/example.py\u001b[m\r\n",
      "\u001b[1mindex be4d005..e0af0d2 100644\u001b[m\r\n",
      "\u001b[1m--- a/test/example.py\u001b[m\r\n",
      "\u001b[1m+++ b/test/example.py\u001b[m\r\n",
      "\u001b[36m@@ -1,9 +1,9 @@\u001b[m\r\n",
      " \"\"\"\u001b[m\r\n",
      "\u001b[31m-This is an example Python file for text utilities\u001b[m\r\n",
      "\u001b[32m+\u001b[m\u001b[32mThis is an example Python file\u001b[m\r\n",
      " \"\"\"\u001b[m\r\n",
      " \u001b[m\r\n",
      " def capitalize(text):\u001b[m\r\n",
      "\u001b[31m-    return text.upper()\u001b[m\r\n",
      "\u001b[32m+\u001b[m\u001b[32m    return text.lower()\u001b[m\r\n",
      " \u001b[m\r\n",
      " if __name__ == \"__main__\":\u001b[m\r\n",
      "     print(capitalize('testing'))\u001b[m\r\n",
      "\\ No newline at end of file\u001b[m\r\n"
     ]
    }
   ],
   "source": [
    "!git diff"
   ]
  },
  {
   "cell_type": "markdown",
   "metadata": {},
   "source": [
    "This shows several things - firstly, coloured, the difference between two files. It mentions the index (staging area), which is our default reference copy, and it tells us the mode of the file (644: not executable, readable by anyone, editable by its owner). Now lets see the difference between the index and the last actual commit."
   ]
  },
  {
   "cell_type": "code",
   "execution_count": 89,
   "metadata": {},
   "outputs": [],
   "source": [
    "!git diff --staged"
   ]
  },
  {
   "cell_type": "markdown",
   "metadata": {},
   "source": [
    "The staged flag tells git we want to compare between our last commit (also known as HEAD) and the index - i.e. what is staged, ready to be committed?"
   ]
  },
  {
   "cell_type": "markdown",
   "metadata": {},
   "source": [
    "We can also ignore the index, staging area, and say, \"what is different between my local file and the last commit\"?"
   ]
  },
  {
   "cell_type": "code",
   "execution_count": 90,
   "metadata": {},
   "outputs": [
    {
     "name": "stdout",
     "output_type": "stream",
     "text": [
      "\u001b[1mdiff --git a/test/example.py b/test/example.py\u001b[m\r\n",
      "\u001b[1mindex be4d005..e0af0d2 100644\u001b[m\r\n",
      "\u001b[1m--- a/test/example.py\u001b[m\r\n",
      "\u001b[1m+++ b/test/example.py\u001b[m\r\n",
      "\u001b[36m@@ -1,9 +1,9 @@\u001b[m\r\n",
      " \"\"\"\u001b[m\r\n",
      "\u001b[31m-This is an example Python file for text utilities\u001b[m\r\n",
      "\u001b[32m+\u001b[m\u001b[32mThis is an example Python file\u001b[m\r\n",
      " \"\"\"\u001b[m\r\n",
      " \u001b[m\r\n",
      " def capitalize(text):\u001b[m\r\n",
      "\u001b[31m-    return text.upper()\u001b[m\r\n",
      "\u001b[32m+\u001b[m\u001b[32m    return text.lower()\u001b[m\r\n",
      " \u001b[m\r\n",
      " if __name__ == \"__main__\":\u001b[m\r\n",
      "     print(capitalize('testing'))\u001b[m\r\n",
      "\\ No newline at end of file\u001b[m\r\n"
     ]
    }
   ],
   "source": [
    "!git diff HEAD"
   ]
  },
  {
   "cell_type": "markdown",
   "metadata": {},
   "source": [
    "HEAD is a shortcut name for the last commit made on the currently checked out branch (see below) - we could use any other commit here, or branch, or tag, and git will tell us the different between that and our current local file."
   ]
  },
  {
   "cell_type": "code",
   "execution_count": 91,
   "metadata": {},
   "outputs": [
    {
     "name": "stdout",
     "output_type": "stream",
     "text": [
      "\u001b[1mdiff --git a/test/example.py b/test/example.py\u001b[m\r\n",
      "\u001b[1mindex e69de29..e0af0d2 100644\u001b[m\r\n",
      "\u001b[1m--- a/test/example.py\u001b[m\r\n",
      "\u001b[1m+++ b/test/example.py\u001b[m\r\n",
      "\u001b[36m@@ -0,0 +1,9 @@\u001b[m\r\n",
      "\u001b[32m+\u001b[m\u001b[32m\"\"\"\u001b[m\r\n",
      "\u001b[32m+\u001b[m\u001b[32mThis is an example Python file\u001b[m\r\n",
      "\u001b[32m+\u001b[m\u001b[32m\"\"\"\u001b[m\r\n",
      "\u001b[32m+\u001b[m\r\n",
      "\u001b[32m+\u001b[m\u001b[32mdef capitalize(text):\u001b[m\r\n",
      "\u001b[32m+\u001b[m\u001b[32m    return text.lower()\u001b[m\r\n",
      "\u001b[32m+\u001b[m\r\n",
      "\u001b[32m+\u001b[m\u001b[32mif __name__ == \"__main__\":\u001b[m\r\n",
      "\u001b[32m+\u001b[m\u001b[32m    print(capitalize('testing'))\u001b[m\r\n",
      "\\ No newline at end of file\u001b[m\r\n"
     ]
    }
   ],
   "source": [
    "!git diff HEAD~1"
   ]
  },
  {
   "cell_type": "markdown",
   "metadata": {},
   "source": [
    "We can even ask git to do some maths with commits - the above asks \"what are the differences between my current file, and the commit-before-last\"?"
   ]
  },
  {
   "cell_type": "markdown",
   "metadata": {},
   "source": [
    "While these diff outputs can sometimes be hard to read - code editors often make them a bit simpler to read, using interactive features - they are very powerful. You can take a copy of one, and \"apply\" it as a \"patch\" to reproduce a set of changes on top of a known code-base.\n",
    "\n",
    "If you are working with Github, Gitlab or Bitbucket, you will be familiar with this format in the browser - they also provide integrated tools for code review, and identifying when and where something changed, on top of the diff view.\n",
    "\n",
    "Lets unstage our changes, as we didn't want to commit the change to \"upper\" any more..."
   ]
  },
  {
   "cell_type": "code",
   "execution_count": 92,
   "metadata": {},
   "outputs": [
    {
     "name": "stdout",
     "output_type": "stream",
     "text": [
      "Unstaged changes after reset:\r\n",
      "M\ttest/example.py\r\n"
     ]
    }
   ],
   "source": [
    "!git reset"
   ]
  },
  {
   "cell_type": "markdown",
   "metadata": {},
   "source": [
    "You can try the git diffs to see what the current situation looks like - the index is no longer different from the last commit, and your local file contains only the \"capitalize\" change. You can commit it."
   ]
  },
  {
   "cell_type": "code",
   "execution_count": 93,
   "metadata": {},
   "outputs": [
    {
     "name": "stdout",
     "output_type": "stream",
     "text": [
      "[master 2c44cf8] bugfix: capitalize and upper are different concepts\r\n",
      " 1 file changed, 2 insertions(+), 2 deletions(-)\r\n"
     ]
    }
   ],
   "source": [
    "!git add test/example.py\n",
    "!git commit -m \"bugfix: capitalize and upper are different concepts\""
   ]
  },
  {
   "cell_type": "markdown",
   "metadata": {},
   "source": [
    "Your git graph - the representation of your commits - now looks like this."
   ]
  },
  {
   "cell_type": "code",
   "execution_count": 120,
   "metadata": {
    "hideCode": true
   },
   "outputs": [
    {
     "data": {
      "application/javascript": [
       "\n",
       "getGitGraph(element, function (gitgraph) {\n",
       "    console.log(gitgraph);\n",
       "    var master = gitgraph.branch(\"master\");\n",
       "    master.commit(\"Initial commit\");\n",
       "    master.commit(\"improve utility file docstring\");\n",
       "    master.commit(\"bugfix: capitalize and upper are different concepts\");\n",
       "});\n"
      ],
      "text/plain": [
       "<IPython.core.display.Javascript object>"
      ]
     },
     "metadata": {},
     "output_type": "display_data"
    }
   ],
   "source": [
    "%%javascript\n",
    "\n",
    "getGitGraph(element, function (gitgraph) {\n",
    "    console.log(gitgraph);\n",
    "    var master = gitgraph.branch(\"master\");\n",
    "    master.commit(\"Initial commit\");\n",
    "    master.commit(\"improve utility file docstring\");\n",
    "    master.commit(\"bugfix: capitalize and upper are different concepts\");\n",
    "});"
   ]
  },
  {
   "cell_type": "markdown",
   "metadata": {},
   "source": [
    "You can examine differences between historic commits using their hashes. Hashes are their permanent, unique names - these long random sequences of letters and numbers, but you can refer to a commit by the first few characters, provided they are sufficient to distinguish it from all the other commits. Conventionally, git (and most git-based tools) show the first 6 characters by default."
   ]
  },
  {
   "cell_type": "code",
   "execution_count": 101,
   "metadata": {},
   "outputs": [
    {
     "name": "stdout",
     "output_type": "stream",
     "text": [
      "\u001b[33m2c44cf8\u001b[m\u001b[33m (\u001b[m\u001b[1;36mHEAD -> \u001b[m\u001b[1;32mmaster\u001b[m\u001b[33m)\u001b[m bugfix: capitalize and upper are different concepts\r\n",
      "\u001b[33m5eb3982\u001b[m improve utility file docstring\r\n",
      "\u001b[33mb605cf4\u001b[m Add example.py to the test directory\r\n"
     ]
    }
   ],
   "source": [
    "!git log --oneline"
   ]
  },
  {
   "cell_type": "markdown",
   "metadata": {},
   "source": [
    "## Branches & Merges"
   ]
  },
  {
   "cell_type": "markdown",
   "metadata": {},
   "source": [
    "So far our commits have been very, well, linear. One after the next - if development was that easy, we wouldn't need complex tools like git. Most of you will have come across Github branches, and merge/pull requests, but its helpful to see that on the command line to understand the how and why."
   ]
  },
  {
   "cell_type": "markdown",
   "metadata": {},
   "source": [
    "Our default branch is called `master`. Beyond that, practice varies, but most common flows will have code ultimately being brought back to master, as the most stable, slowly-moving reference version. However, for developing or collaborating on new features and bug-fixes, changes are generally first created on other branches.\n",
    "\n",
    "Lets create a new branch."
   ]
  },
  {
   "cell_type": "code",
   "execution_count": 103,
   "metadata": {},
   "outputs": [],
   "source": [
    "!git branch feature-reverse-string"
   ]
  },
  {
   "cell_type": "markdown",
   "metadata": {},
   "source": [
    "This has now created a new branch, at the same point as master. However, we are still sitting on master - any commits we do will go there. We need to \"checkout\" our branch, to switch to it."
   ]
  },
  {
   "cell_type": "code",
   "execution_count": 114,
   "metadata": {},
   "outputs": [
    {
     "name": "stdout",
     "output_type": "stream",
     "text": [
      "M\ttest/example.py\r\n",
      "Switched to branch 'feature-reverse-string'\r\n"
     ]
    }
   ],
   "source": [
    "!git checkout feature-reverse-string"
   ]
  },
  {
   "cell_type": "markdown",
   "metadata": {},
   "source": [
    "It is possible to do those in one movement - `git checkout -b feature-reverse-string`, which will create and checkout a new branch for you."
   ]
  },
  {
   "cell_type": "code",
   "execution_count": 111,
   "metadata": {},
   "outputs": [
    {
     "name": "stdout",
     "output_type": "stream",
     "text": [
      "On branch master\r\n",
      "Untracked files:\r\n",
      "  (use \"git add <file>...\" to include in what will be committed)\r\n",
      "\r\n",
      "\t\u001b[31m.gitignore\u001b[m\r\n",
      "\t\u001b[31mIntroduction to git.ipynb\u001b[m\r\n",
      "\t\u001b[31mUntitled Folder/\u001b[m\r\n",
      "\r\n",
      "nothing added to commit but untracked files present (use \"git add\" to track)\r\n"
     ]
    }
   ],
   "source": [
    "!git status"
   ]
  },
  {
   "cell_type": "markdown",
   "metadata": {},
   "source": [
    "It is generally a good idea to do `git status` at this point (if not before) to make sure you do not have changes you meant to commit to the previous branch, still hanging about."
   ]
  },
  {
   "cell_type": "markdown",
   "metadata": {},
   "source": [
    "Here is a short Python function - it exploits the \"step\" option in slicing to step backwards, instead of forwards, and create a reversed string (or list, etc.)."
   ]
  },
  {
   "cell_type": "code",
   "execution_count": 109,
   "metadata": {},
   "outputs": [],
   "source": [
    "def reverse(text):\n",
    "    return text[::-1]"
   ]
  },
  {
   "cell_type": "code",
   "execution_count": 112,
   "metadata": {},
   "outputs": [
    {
     "name": "stdout",
     "output_type": "stream",
     "text": [
      "gnitseT\n"
     ]
    }
   ],
   "source": [
    "print(reverse(\"Testing\"))"
   ]
  },
  {
   "cell_type": "markdown",
   "metadata": {},
   "source": [
    "Add this to `example.py` - the reverse function directly below the capitalize function, and the print-statement at the very end of the file, indented to match the `print(capitalize('testing'))` line. We will go more into testing later in the course, but think of this as a minimal way to check our code!"
   ]
  },
  {
   "cell_type": "code",
   "execution_count": 118,
   "metadata": {},
   "outputs": [
    {
     "name": "stdout",
     "output_type": "stream",
     "text": [
      "Testing\r\n",
      "gnitseT\r\n"
     ]
    }
   ],
   "source": [
    "!python3 test/example.py"
   ]
  },
  {
   "cell_type": "markdown",
   "metadata": {},
   "source": [
    "Let's now add and commit that."
   ]
  },
  {
   "cell_type": "code",
   "execution_count": 119,
   "metadata": {},
   "outputs": [
    {
     "name": "stdout",
     "output_type": "stream",
     "text": [
      "[feature-reverse-string 1445583] added a utility to reverse a string\r\n",
      " 1 file changed, 6 insertions(+), 2 deletions(-)\r\n"
     ]
    }
   ],
   "source": [
    "!git add test/example.py\n",
    "!git commit -m \"added a utility to reverse a string\""
   ]
  },
  {
   "cell_type": "markdown",
   "metadata": {},
   "source": [
    "Our git graph looks like this:"
   ]
  },
  {
   "cell_type": "code",
   "execution_count": 121,
   "metadata": {
    "hideCode": true
   },
   "outputs": [
    {
     "data": {
      "application/javascript": [
       "\n",
       "getGitGraph(element, function (gitgraph) {\n",
       "    console.log(gitgraph);\n",
       "    var master = gitgraph.branch(\"master\");\n",
       "    master.commit(\"Initial commit\");\n",
       "    master.commit(\"improve utility file docstring\");\n",
       "    master.commit(\"bugfix: capitalize and upper are different concepts\");\n",
       "    var feature = master.branch(\"feature-reverse-string\");\n",
       "    feature.commit(\"added a utility to reverse a string\")\n",
       "});\n"
      ],
      "text/plain": [
       "<IPython.core.display.Javascript object>"
      ]
     },
     "metadata": {},
     "output_type": "display_data"
    }
   ],
   "source": [
    "%%javascript\n",
    "\n",
    "getGitGraph(element, function (gitgraph) {\n",
    "    console.log(gitgraph);\n",
    "    var master = gitgraph.branch(\"master\");\n",
    "    master.commit(\"Initial commit\");\n",
    "    master.commit(\"improve utility file docstring\");\n",
    "    master.commit(\"bugfix: capitalize and upper are different concepts\");\n",
    "    var feature = master.branch(\"feature-reverse-string\");\n",
    "    feature.commit(\"added a utility to reverse a string\")\n",
    "});"
   ]
  },
  {
   "cell_type": "markdown",
   "metadata": {},
   "source": [
    "We could do a merge back into master at this point, but particularly as you are likely to have seen this in one form or other a number of times before, we will look at what happens in the non-trivial case. Lets suppose an urgent bug-report comes in. A hot-fix needs to be created to address the case where text is a list of characters, rather than a string."
   ]
  },
  {
   "cell_type": "code",
   "execution_count": 135,
   "metadata": {},
   "outputs": [],
   "source": [
    "another_text = list(\"another text\")"
   ]
  },
  {
   "cell_type": "code",
   "execution_count": 136,
   "metadata": {},
   "outputs": [
    {
     "data": {
      "text/plain": [
       "'Another text'"
      ]
     },
     "execution_count": 136,
     "metadata": {},
     "output_type": "execute_result"
    }
   ],
   "source": [
    "def capitalize(text):\n",
    "    if type(text) is not str:\n",
    "        text = ''.join(text)\n",
    "    return text.capitalize()\n",
    "\n",
    "capitalize(another_text)"
   ]
  },
  {
   "cell_type": "markdown",
   "metadata": {},
   "source": [
    "This will fix our problem (it'll do for this example!). However, the change is urgent, so how do we apply the fix, and commit it without accidentally dragging in our new feature?"
   ]
  },
  {
   "cell_type": "markdown",
   "metadata": {},
   "source": [
    "This is a key point of branches. Having checked our feature branch is clean - i.e. that we have committed any changes - we switch back to master."
   ]
  },
  {
   "cell_type": "code",
   "execution_count": 137,
   "metadata": {},
   "outputs": [
    {
     "name": "stdout",
     "output_type": "stream",
     "text": [
      "Switched to branch 'master'\r\n"
     ]
    }
   ],
   "source": [
    "!git checkout master"
   ]
  },
  {
   "cell_type": "markdown",
   "metadata": {},
   "source": [
    "You can check the example.py file to confirm that our new feature has gone."
   ]
  },
  {
   "cell_type": "code",
   "execution_count": 163,
   "metadata": {},
   "outputs": [
    {
     "name": "stdout",
     "output_type": "stream",
     "text": [
      "Switched to a new branch 'fix-ensure-lists-do-not-break-capitalize'\r\n"
     ]
    }
   ],
   "source": [
    "!git checkout -b fix-ensure-lists-do-not-break-capitalize"
   ]
  },
  {
   "cell_type": "markdown",
   "metadata": {},
   "source": [
    "We now swap in our capitalize method to example.py. Let's also add this check at the bottom of the file..."
   ]
  },
  {
   "cell_type": "code",
   "execution_count": 139,
   "metadata": {},
   "outputs": [
    {
     "name": "stdout",
     "output_type": "stream",
     "text": [
      "Ab c\n"
     ]
    }
   ],
   "source": [
    "    print(capitalize(['a', 'b', ' ', 'c']))"
   ]
  },
  {
   "cell_type": "markdown",
   "metadata": {},
   "source": [
    "We add and commit our change..."
   ]
  },
  {
   "cell_type": "code",
   "execution_count": 166,
   "metadata": {},
   "outputs": [
    {
     "name": "stdout",
     "output_type": "stream",
     "text": [
      "[fix-ensure-lists-do-not-break-capitalize 9d1ab6d] ensure lists do not break capitalization utility\r\n",
      " 1 file changed, 5 insertions(+), 2 deletions(-)\r\n"
     ]
    }
   ],
   "source": [
    "!git add test/example.py\n",
    "!git commit -m \"ensure lists do not break capitalization utility\""
   ]
  },
  {
   "cell_type": "markdown",
   "metadata": {},
   "source": [
    "Our git tree now looks like this:"
   ]
  },
  {
   "cell_type": "code",
   "execution_count": 141,
   "metadata": {
    "hideCode": true
   },
   "outputs": [
    {
     "data": {
      "application/javascript": [
       "\n",
       "getGitGraph(element, function (gitgraph) {\n",
       "    console.log(gitgraph);\n",
       "    var master = gitgraph.branch(\"master\");\n",
       "    master.commit(\"Initial commit\");\n",
       "    master.commit(\"improve utility file docstring\");\n",
       "    master.commit(\"bugfix: capitalize and upper are different concepts\");\n",
       "    var feature = master.branch(\"feature-reverse-string\");\n",
       "    feature.commit(\"added a utility to reverse a string\");\n",
       "    var hotfix = master.branch(\"fix-ensure-lists-do-not-break-capitalize\");\n",
       "    hotfix.commit(\"ensure lists do not break capitalization utility\");\n",
       "});\n"
      ],
      "text/plain": [
       "<IPython.core.display.Javascript object>"
      ]
     },
     "metadata": {},
     "output_type": "display_data"
    }
   ],
   "source": [
    "%%javascript\n",
    "\n",
    "getGitGraph(element, function (gitgraph) {\n",
    "    console.log(gitgraph);\n",
    "    var master = gitgraph.branch(\"master\");\n",
    "    master.commit(\"Initial commit\");\n",
    "    master.commit(\"improve utility file docstring\");\n",
    "    master.commit(\"bugfix: capitalize and upper are different concepts\");\n",
    "    var feature = master.branch(\"feature-reverse-string\");\n",
    "    feature.commit(\"added a utility to reverse a string\");\n",
    "    var hotfix = master.branch(\"fix-ensure-lists-do-not-break-capitalize\");\n",
    "    hotfix.commit(\"ensure lists do not break capitalization utility\");\n",
    "});"
   ]
  },
  {
   "cell_type": "markdown",
   "metadata": {},
   "source": [
    "Git can also visualize this in ASCII-art:"
   ]
  },
  {
   "cell_type": "code",
   "execution_count": 167,
   "metadata": {},
   "outputs": [
    {
     "name": "stdout",
     "output_type": "stream",
     "text": [
      "* \u001b[33m9d1ab6d\u001b[m\u001b[33m (\u001b[m\u001b[1;36mHEAD -> \u001b[m\u001b[1;32mfix-ensure-lists-do-not-break-capitalize\u001b[m\u001b[33m)\u001b[m ensure lists do not break capitalization utility\r\n",
      "\u001b[31m|\u001b[m * \u001b[33m1445583\u001b[m\u001b[33m (\u001b[m\u001b[1;32mfeature-reverse-string\u001b[m\u001b[33m)\u001b[m added a utility to reverse a string\r\n",
      "\u001b[31m|\u001b[m\u001b[31m/\u001b[m  \r\n",
      "* \u001b[33m2c44cf8\u001b[m\u001b[33m (\u001b[m\u001b[1;32mmaster\u001b[m\u001b[33m)\u001b[m bugfix: capitalize and upper are different concepts\r\n",
      "* \u001b[33m5eb3982\u001b[m improve utility file docstring\r\n",
      "* \u001b[33mb605cf4\u001b[m Add example.py to the test directory\r\n"
     ]
    }
   ],
   "source": [
    "!git log --all --decorate --oneline --graph"
   ]
  },
  {
   "cell_type": "markdown",
   "metadata": {},
   "source": [
    "Now, in reality, we would push this to a remote server, and create a merge/pull request to be reviewed, but for simplicity here, let's assume we can merge it ourselves (or that we have pulled these changes from someone else, and are manually merging it for them)."
   ]
  },
  {
   "cell_type": "code",
   "execution_count": 168,
   "metadata": {},
   "outputs": [
    {
     "name": "stdout",
     "output_type": "stream",
     "text": [
      "Switched to branch 'master'\r\n"
     ]
    }
   ],
   "source": [
    "!git checkout master"
   ]
  },
  {
   "cell_type": "code",
   "execution_count": 169,
   "metadata": {},
   "outputs": [
    {
     "name": "stdout",
     "output_type": "stream",
     "text": [
      "Updating 2c44cf8..9d1ab6d\r\n",
      "Fast-forward\r\n",
      " test/example.py | 7 \u001b[32m+++++\u001b[m\u001b[31m--\u001b[m\r\n",
      " 1 file changed, 5 insertions(+), 2 deletions(-)\r\n"
     ]
    }
   ],
   "source": [
    "!git merge fix-ensure-lists-do-not-break-capitalize"
   ]
  },
  {
   "cell_type": "markdown",
   "metadata": {},
   "source": [
    "This has just applied the changes from the hotfix to master."
   ]
  },
  {
   "cell_type": "code",
   "execution_count": 170,
   "metadata": {
    "hideCode": true
   },
   "outputs": [
    {
     "data": {
      "application/javascript": [
       "\n",
       "getGitGraph(element, function (gitgraph) {\n",
       "    console.log(gitgraph);\n",
       "    var master = gitgraph.branch(\"master\");\n",
       "    master.commit(\"Initial commit\");\n",
       "    master.commit(\"improve utility file docstring\");\n",
       "    master.commit(\"bugfix: capitalize and upper are different concepts\");\n",
       "    var feature = master.branch(\"feature-reverse-string\");\n",
       "    feature.commit(\"added a utility to reverse a string\");\n",
       "    var hotfix = master.branch(\"fix-ensure-lists-do-not-break-capitalize\");\n",
       "    hotfix.commit(\"ensure lists do not break capitalization utility\");\n",
       "    master.merge(hotfix);\n",
       "});\n"
      ],
      "text/plain": [
       "<IPython.core.display.Javascript object>"
      ]
     },
     "metadata": {},
     "output_type": "display_data"
    }
   ],
   "source": [
    "%%javascript\n",
    "\n",
    "getGitGraph(element, function (gitgraph) {\n",
    "    console.log(gitgraph);\n",
    "    var master = gitgraph.branch(\"master\");\n",
    "    master.commit(\"Initial commit\");\n",
    "    master.commit(\"improve utility file docstring\");\n",
    "    master.commit(\"bugfix: capitalize and upper are different concepts\");\n",
    "    var feature = master.branch(\"feature-reverse-string\");\n",
    "    feature.commit(\"added a utility to reverse a string\");\n",
    "    var hotfix = master.branch(\"fix-ensure-lists-do-not-break-capitalize\");\n",
    "    hotfix.commit(\"ensure lists do not break capitalization utility\");\n",
    "    master.merge(hotfix);\n",
    "});"
   ]
  },
  {
   "cell_type": "markdown",
   "metadata": {},
   "source": [
    "Let's now go back to our feature branch and merge it into master too."
   ]
  },
  {
   "cell_type": "code",
   "execution_count": 175,
   "metadata": {},
   "outputs": [
    {
     "name": "stdout",
     "output_type": "stream",
     "text": [
      "Auto-merging test/example.py\r\n",
      "CONFLICT (content): Merge conflict in test/example.py\r\n",
      "Automatic merge failed; fix conflicts and then commit the result.\r\n"
     ]
    }
   ],
   "source": [
    "!git merge feature-reverse-string"
   ]
  },
  {
   "cell_type": "markdown",
   "metadata": {},
   "source": [
    "In this case, we may see a Merge conflict -- this means that git was not able to automatically merge the hotfix changes already on master, with the feature branch changes you are now merging. Probably because both added lines in the same place, so it doesn't know how to order them, or if only one should be chosen.\n",
    "\n",
    "In fact, it has left us up-in-the-air - the file mention (test/example.py) contains \"merge annotations\", textual notes showing what we need to manually fix, before the merge can finish.\n",
    "\n",
    "You'll find it looks something like this."
   ]
  },
  {
   "cell_type": "markdown",
   "metadata": {},
   "source": [
    "```\n",
    "\"\"\"\n",
    "This is an example Python file\n",
    "\"\"\"\n",
    "\n",
    "def capitalize(text):\n",
    "<<<<<<< HEAD\n",
    "...\n",
    "\n",
    "=======\n",
    "...\n",
    ">>>>>>> feature-reverse-string\n",
    "```"
   ]
  },
  {
   "cell_type": "markdown",
   "metadata": {},
   "source": [
    "You have to manually work out which parts between `<<<<<<< HEAD` and `======` should be kept/deleted, and which parts between `======` and `>>>>>>>> feature-reverse-string` should be kept/deleted. Make 100% sure to delete the merge annotations themselves! When you are confident the script should work as intended, double-check:"
   ]
  },
  {
   "cell_type": "code",
   "execution_count": 179,
   "metadata": {},
   "outputs": [
    {
     "name": "stdout",
     "output_type": "stream",
     "text": [
      "Testing\r\n",
      "gnitseT\r\n",
      "Ab c\r\n"
     ]
    }
   ],
   "source": [
    "!python3 test/example.py"
   ]
  },
  {
   "cell_type": "markdown",
   "metadata": {},
   "source": [
    "Finally, complete the merge:"
   ]
  },
  {
   "cell_type": "code",
   "execution_count": 181,
   "metadata": {},
   "outputs": [
    {
     "name": "stdout",
     "output_type": "stream",
     "text": [
      "[master 40c8658] merged lists hotfix and reversing feature\r\n"
     ]
    }
   ],
   "source": [
    "!git add test/example.py\n",
    "!git commit -m \"merged lists hotfix and reversing feature\""
   ]
  },
  {
   "cell_type": "markdown",
   "metadata": {},
   "source": [
    "The git tree now looks like:"
   ]
  },
  {
   "cell_type": "code",
   "execution_count": 182,
   "metadata": {
    "hideCode": true,
    "hideOutput": false
   },
   "outputs": [
    {
     "data": {
      "application/javascript": [
       "\n",
       "getGitGraph(element, function (gitgraph) {\n",
       "    console.log(gitgraph);\n",
       "    var master = gitgraph.branch(\"master\");\n",
       "    master.commit(\"Initial commit\");\n",
       "    master.commit(\"improve utility file docstring\");\n",
       "    master.commit(\"bugfix: capitalize and upper are different concepts\");\n",
       "    var feature = master.branch(\"feature-reverse-string\");\n",
       "    feature.commit(\"added a utility to reverse a string\");\n",
       "    var hotfix = master.branch(\"fix-ensure-lists-do-not-break-capitalize\");\n",
       "    hotfix.commit(\"ensure lists do not break capitalization utility\");\n",
       "    master.merge(hotfix);\n",
       "    master.merge(feature);\n",
       "});\n"
      ],
      "text/plain": [
       "<IPython.core.display.Javascript object>"
      ]
     },
     "metadata": {},
     "output_type": "display_data"
    }
   ],
   "source": [
    "%%javascript\n",
    "\n",
    "getGitGraph(element, function (gitgraph) {\n",
    "    console.log(gitgraph);\n",
    "    var master = gitgraph.branch(\"master\");\n",
    "    master.commit(\"Initial commit\");\n",
    "    master.commit(\"improve utility file docstring\");\n",
    "    master.commit(\"bugfix: capitalize and upper are different concepts\");\n",
    "    var feature = master.branch(\"feature-reverse-string\");\n",
    "    feature.commit(\"added a utility to reverse a string\");\n",
    "    var hotfix = master.branch(\"fix-ensure-lists-do-not-break-capitalize\");\n",
    "    hotfix.commit(\"ensure lists do not break capitalization utility\");\n",
    "    master.merge(hotfix);\n",
    "    master.merge(feature);\n",
    "});"
   ]
  },
  {
   "cell_type": "code",
   "execution_count": 183,
   "metadata": {},
   "outputs": [
    {
     "name": "stdout",
     "output_type": "stream",
     "text": [
      "*   \u001b[33m40c8658\u001b[m\u001b[33m (\u001b[m\u001b[1;36mHEAD -> \u001b[m\u001b[1;32mmaster\u001b[m\u001b[33m)\u001b[m merged lists hotfix and reversing feature\r\n",
      "\u001b[31m|\u001b[m\u001b[32m\\\u001b[m  \r\n",
      "\u001b[31m|\u001b[m * \u001b[33m1445583\u001b[m\u001b[33m (\u001b[m\u001b[1;32mfeature-reverse-string\u001b[m\u001b[33m)\u001b[m added a utility to reverse a string\r\n",
      "* \u001b[32m|\u001b[m \u001b[33m9d1ab6d\u001b[m\u001b[33m (\u001b[m\u001b[1;32mfix-ensure-lists-do-not-break-capitalize\u001b[m\u001b[33m)\u001b[m ensure lists do not break capitalization utility\r\n",
      "\u001b[32m|\u001b[m\u001b[32m/\u001b[m  \r\n",
      "* \u001b[33m2c44cf8\u001b[m bugfix: capitalize and upper are different concepts\r\n",
      "* \u001b[33m5eb3982\u001b[m improve utility file docstring\r\n",
      "* \u001b[33mb605cf4\u001b[m Add example.py to the test directory\r\n"
     ]
    }
   ],
   "source": [
    "!git log --all --decorate --oneline --graph"
   ]
  },
  {
   "cell_type": "markdown",
   "metadata": {},
   "source": [
    "It's good to be able to diagnose and manage git problems from the command line - at some point, Github or your Git user interface will not provide all the tools you need, and some complex issues can only be solved via CLI. `git log` has a number of options for pretty-printing the commit history."
   ]
  },
  {
   "cell_type": "markdown",
   "metadata": {},
   "source": [
    "## Magic Files"
   ]
  },
  {
   "cell_type": "markdown",
   "metadata": {},
   "source": [
    "There are a couple of files that live in your gitroot (the top directory in git), and start with `.git`"
   ]
  },
  {
   "cell_type": "markdown",
   "metadata": {},
   "source": [
    "Two are particularly important for new users..."
   ]
  },
  {
   "cell_type": "code",
   "execution_count": 184,
   "metadata": {},
   "outputs": [
    {
     "name": "stdout",
     "output_type": "stream",
     "text": [
      ".ipynb_checkpoints\r\n",
      "/example.py"
     ]
    }
   ],
   "source": [
    "!cat .gitignore"
   ]
  },
  {
   "cell_type": "markdown",
   "metadata": {},
   "source": [
    "This file is checked by git - if a pattern in it matches any given file in the directories below, git ignores it. You can use `*` to identify part of a file, or `/` to state that that filename should only only be ignored if in the root directory of your git."
   ]
  },
  {
   "cell_type": "markdown",
   "metadata": {},
   "source": [
    "In particular, the final task will highlight that git is not magical - it is a set of files in the `.git` directory. If you copy that directory, you have copied the entire git state - a good way of taking a quick back-up before trying any experiments is to copy your whole git folder, as (if you correctly copy it!) you can then safely delete the original without losing any git information. Lets wipe the git we created..."
   ]
  },
  {
   "cell_type": "code",
   "execution_count": 185,
   "metadata": {},
   "outputs": [],
   "source": [
    "!rm -rf .git"
   ]
  },
  {
   "cell_type": "markdown",
   "metadata": {},
   "source": [
    "### Exercise: Switching Lines"
   ]
  },
  {
   "cell_type": "markdown",
   "metadata": {},
   "source": [
    "Git graphs can get very complex - this project has largely recreated the Paris Metro in one: https://github.com/vbarbaresi/MetroGit"
   ]
  },
  {
   "cell_type": "markdown",
   "metadata": {},
   "source": [
    "Can you create the NI Railways map in a git tree?\n",
    "\n",
    "![Translink route map](https://upload.wikimedia.org/wikipedia/commons/e/ea/NI_Railways_Map.svg)\n",
    "\n",
    "<small>[SVG Map of NI Railways](https://commons.wikimedia.org/wiki/File:NI_Railways_Map.svg). [RaviC](https://commons.wikimedia.org/wiki/User:RaviC) CC-BY-SA 4.0</small>"
   ]
  },
  {
   "cell_type": "markdown",
   "metadata": {},
   "source": [
    "Ignore any halts (anything that isn't a circle). Hint: you may find it quickest to start from Lanyon Place as your initial commit.\n",
    "\n",
    "Rather than having to create content every time you want to commit, you can use `git commit --allow-empty -m \"Lurgan\"`"
   ]
  },
  {
   "cell_type": "code",
   "execution_count": 186,
   "metadata": {},
   "outputs": [
    {
     "name": "stdout",
     "output_type": "stream",
     "text": [
      "Initialized empty Git repository in /home/jovyan/python-course/019-git/.git/\n",
      "[master (root-commit) aabce8b] Lanyon Place\n"
     ]
    }
   ],
   "source": [
    "!git init .\n",
    "!git commit --allow-empty -m \"Lanyon Place\""
   ]
  }
 ],
 "metadata": {
  "kernelspec": {
   "display_name": "Python 3",
   "language": "python",
   "name": "python3"
  },
  "language_info": {
   "codemirror_mode": {
    "name": "ipython",
    "version": 3
   },
   "file_extension": ".py",
   "mimetype": "text/x-python",
   "name": "python",
   "nbconvert_exporter": "python",
   "pygments_lexer": "ipython3",
   "version": "3.7.3"
  }
 },
 "nbformat": 4,
 "nbformat_minor": 2
}
